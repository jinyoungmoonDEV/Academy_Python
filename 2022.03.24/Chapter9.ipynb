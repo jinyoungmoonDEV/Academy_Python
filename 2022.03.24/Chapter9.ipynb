{
 "cells": [
  {
   "cell_type": "markdown",
   "id": "ea6529aa-13ca-4068-815a-dfcc5f4e8bd4",
   "metadata": {},
   "source": [
    "# Chapter9"
   ]
  },
  {
   "cell_type": "code",
   "execution_count": 29,
   "id": "cd3027ae-788d-44d3-a085-22dc78cffba0",
   "metadata": {},
   "outputs": [],
   "source": [
    "def coffeemachine(button) :\n",
    "    print()\n",
    "    print(\"#1. (자동으로) 뜨거운 물을 준비한다.\");\n",
    "    print(\"#2. (자동으로) 종이컵을 준비한다..\");\n",
    "    \n",
    "    if button == 1 :\n",
    "        print(\"#3. (자동으로) 보통커피를 탄다.\");\n",
    "    elif button == 2 :\n",
    "        print(\"#3. (자동으로) 설탕커피를 탄다.\");\n",
    "    elif button == 3 :\n",
    "        print(\"#3. (자동으로) 블랙커피를 탄다.\");\n",
    "    else : \n",
    "        print(\"#3. (자동으로 아무거나 탄다.\\n\")\n",
    "    print(\"#4. (자동으로) 물을 붓는다.\");\n",
    "    print(\"#5. (자동으로) 스푼으로 젓는다.\");\n",
    "    print()"
   ]
  },
  {
   "cell_type": "code",
   "execution_count": 30,
   "id": "edd0af2b-5fd1-4523-9d5a-dc3d87211f8f",
   "metadata": {},
   "outputs": [
    {
     "data": {
      "text/plain": [
       "<function __main__.coffeemachine(button)>"
      ]
     },
     "execution_count": 30,
     "metadata": {},
     "output_type": "execute_result"
    }
   ],
   "source": [
    "coffeemachine"
   ]
  },
  {
   "cell_type": "code",
   "execution_count": 31,
   "id": "198537e1-9362-48e7-be12-0e73b2d21f19",
   "metadata": {},
   "outputs": [
    {
     "data": {
      "text/plain": [
       "function"
      ]
     },
     "execution_count": 31,
     "metadata": {},
     "output_type": "execute_result"
    }
   ],
   "source": [
    "type(coffeemachine)"
   ]
  },
  {
   "cell_type": "code",
   "execution_count": null,
   "id": "b4c1d08a-9ce4-4cf9-8858-315fde125477",
   "metadata": {},
   "outputs": [],
   "source": [
    "\n",
    "#함수호출 연산자 ()\n",
    "coffeemachine"
   ]
  },
  {
   "cell_type": "markdown",
   "id": "156c813d-8ac4-44aa-8857-0662a609d87e",
   "metadata": {},
   "source": [
    "매개변수 & return"
   ]
  },
  {
   "cell_type": "code",
   "execution_count": 5,
   "id": "49c60af2-6cdd-453d-a992-5f4a730ae0c3",
   "metadata": {
    "tags": []
   },
   "outputs": [],
   "source": [
    "def plus(v1, v2):\n",
    "    print(v1+v2)"
   ]
  },
  {
   "cell_type": "code",
   "execution_count": 9,
   "id": "273d42a7-de9a-4fba-a14b-4250087334dc",
   "metadata": {
    "tags": []
   },
   "outputs": [],
   "source": [
    "def plus2(v1, v2):\n",
    "    print(v1+v2)"
   ]
  },
  {
   "cell_type": "code",
   "execution_count": 8,
   "id": "61d9f73e-077d-404d-9c9a-d578ae722d1f",
   "metadata": {},
   "outputs": [
    {
     "name": "stdout",
     "output_type": "stream",
     "text": [
      "198\n"
     ]
    }
   ],
   "source": [
    "plus(-2,200)"
   ]
  },
  {
   "cell_type": "code",
   "execution_count": 10,
   "id": "1770eaaf-e9ea-46ea-a454-82920405c594",
   "metadata": {},
   "outputs": [
    {
     "name": "stdout",
     "output_type": "stream",
     "text": [
      "5\n"
     ]
    }
   ],
   "source": [
    "plus2(2,3)"
   ]
  },
  {
   "cell_type": "code",
   "execution_count": 11,
   "id": "fe5e3433-2802-48d2-9a42-d6a0821b5a06",
   "metadata": {},
   "outputs": [
    {
     "name": "stdout",
     "output_type": "stream",
     "text": [
      "5\n"
     ]
    }
   ],
   "source": [
    "r = plus(2,3)\n",
    "r"
   ]
  },
  {
   "cell_type": "code",
   "execution_count": 12,
   "id": "7f9068a8-7c7d-44cc-a96f-6e5929da686b",
   "metadata": {
    "tags": []
   },
   "outputs": [],
   "source": [
    "def plus2(v1, v2):\n",
    "    \"\"\"\n",
    "    plus2함수는 v1, v2 매개변수를 받는다.\n",
    "    - v1 : 정수\n",
    "    \"\"\"\n",
    "    return v1+v2"
   ]
  },
  {
   "cell_type": "code",
   "execution_count": 13,
   "id": "18f3c142-4554-40c2-8d00-8a39439da3eb",
   "metadata": {},
   "outputs": [
    {
     "data": {
      "text/plain": [
       "\u001b[1;31mSignature:\u001b[0m \u001b[0mplus2\u001b[0m\u001b[1;33m(\u001b[0m\u001b[0mv1\u001b[0m\u001b[1;33m,\u001b[0m \u001b[0mv2\u001b[0m\u001b[1;33m)\u001b[0m\u001b[1;33m\u001b[0m\u001b[1;33m\u001b[0m\u001b[0m\n",
       "\u001b[1;31mDocstring:\u001b[0m\n",
       "plus2함수는 v1, v2 매개변수를 받는다.\n",
       "- v1 : 정수\n",
       "\u001b[1;31mFile:\u001b[0m      c:\\users\\bit\\appdata\\local\\temp\\ipykernel_3188\\2061429905.py\n",
       "\u001b[1;31mType:\u001b[0m      function\n"
      ]
     },
     "metadata": {},
     "output_type": "display_data"
    }
   ],
   "source": [
    "plus2?"
   ]
  },
  {
   "cell_type": "code",
   "execution_count": 14,
   "id": "f5d87521-eb5c-4a4b-8fd3-280df5e7e7a1",
   "metadata": {},
   "outputs": [
    {
     "data": {
      "text/plain": [
       "\u001b[1;31mSignature:\u001b[0m \u001b[0mplus2\u001b[0m\u001b[1;33m(\u001b[0m\u001b[0mv1\u001b[0m\u001b[1;33m,\u001b[0m \u001b[0mv2\u001b[0m\u001b[1;33m)\u001b[0m\u001b[1;33m\u001b[0m\u001b[1;33m\u001b[0m\u001b[0m\n",
       "\u001b[1;31mSource:\u001b[0m   \n",
       "\u001b[1;32mdef\u001b[0m \u001b[0mplus2\u001b[0m\u001b[1;33m(\u001b[0m\u001b[0mv1\u001b[0m\u001b[1;33m,\u001b[0m \u001b[0mv2\u001b[0m\u001b[1;33m)\u001b[0m\u001b[1;33m:\u001b[0m\u001b[1;33m\n",
       "\u001b[0m    \u001b[1;34m\"\"\"\n",
       "    plus2함수는 v1, v2 매개변수를 받는다.\n",
       "    - v1 : 정수\n",
       "    \"\"\"\u001b[0m\u001b[1;33m\n",
       "\u001b[0m    \u001b[1;32mreturn\u001b[0m \u001b[0mv1\u001b[0m\u001b[1;33m+\u001b[0m\u001b[0mv2\u001b[0m\u001b[1;33m\u001b[0m\u001b[1;33m\u001b[0m\u001b[0m\n",
       "\u001b[1;31mFile:\u001b[0m      c:\\users\\bit\\appdata\\local\\temp\\ipykernel_3188\\2061429905.py\n",
       "\u001b[1;31mType:\u001b[0m      function\n"
      ]
     },
     "metadata": {},
     "output_type": "display_data"
    }
   ],
   "source": [
    "plus2??"
   ]
  },
  {
   "cell_type": "code",
   "execution_count": 15,
   "id": "b5066d05-01e6-4f82-9489-0605d0fcbce3",
   "metadata": {},
   "outputs": [],
   "source": [
    "def calc(v1, v2, op) :\n",
    "    result = 0\n",
    "    if op == '+' :\n",
    "        result = v1 + v2\n",
    "    elif op == '-' :\n",
    "        result = v1 - v2\n",
    "    elif op == '*' :\n",
    "        result = v1 * v2\n",
    "    elif op == '/' :\n",
    "        result = v1 / v2\n",
    "    return result"
   ]
  },
  {
   "cell_type": "code",
   "execution_count": 16,
   "id": "45ab9f5c-d29b-42c2-9898-3378f4e33f5e",
   "metadata": {},
   "outputs": [
    {
     "data": {
      "text/plain": [
       "60"
      ]
     },
     "execution_count": 16,
     "metadata": {},
     "output_type": "execute_result"
    }
   ],
   "source": [
    "calc(10, 6, '*')"
   ]
  },
  {
   "cell_type": "code",
   "execution_count": 17,
   "id": "0cb7e39d-18e5-40fa-9385-4fb36440f649",
   "metadata": {},
   "outputs": [
    {
     "name": "stdout",
     "output_type": "stream",
     "text": [
      "10 / 6 = 1.6666666666666667\n"
     ]
    }
   ],
   "source": [
    "print('10 / 6 = {0}'.format(calc(10,6,'/')))"
   ]
  },
  {
   "cell_type": "code",
   "execution_count": 18,
   "id": "24202cff-5d70-411c-b587-2183dcf8ddea",
   "metadata": {},
   "outputs": [
    {
     "data": {
      "text/plain": [
       "<function __main__.calc(v1, v2, op)>"
      ]
     },
     "execution_count": 18,
     "metadata": {},
     "output_type": "execute_result"
    }
   ],
   "source": [
    "calc"
   ]
  },
  {
   "cell_type": "code",
   "execution_count": 19,
   "id": "fad4ad55-c426-445c-8da1-6e3afc43d7dc",
   "metadata": {},
   "outputs": [],
   "source": [
    "calc2 = calc"
   ]
  },
  {
   "cell_type": "code",
   "execution_count": 20,
   "id": "7f73dc24-2ee5-477a-a421-f34994bf1d30",
   "metadata": {},
   "outputs": [
    {
     "data": {
      "text/plain": [
       "(2160482766416, 2160482766416)"
      ]
     },
     "execution_count": 20,
     "metadata": {},
     "output_type": "execute_result"
    }
   ],
   "source": [
    "id(calc), id(calc2)"
   ]
  },
  {
   "cell_type": "code",
   "execution_count": 21,
   "id": "2be91764-0867-4222-9984-da1b423ad617",
   "metadata": {},
   "outputs": [
    {
     "data": {
      "text/plain": [
       "15"
      ]
     },
     "execution_count": 21,
     "metadata": {},
     "output_type": "execute_result"
    }
   ],
   "source": [
    "calc2(10,5,\"+\")"
   ]
  },
  {
   "cell_type": "code",
   "execution_count": 22,
   "id": "77e5dbb5-ec15-4299-b03a-65205e3623e1",
   "metadata": {},
   "outputs": [],
   "source": [
    "# 함수의 반환\n",
    "def mycalc() :\n",
    "    return calc"
   ]
  },
  {
   "cell_type": "code",
   "execution_count": 23,
   "id": "0b049311-6ba4-4303-b687-fa364d85b2e9",
   "metadata": {},
   "outputs": [
    {
     "data": {
      "text/plain": [
       "<function __main__.mycalc()>"
      ]
     },
     "execution_count": 23,
     "metadata": {},
     "output_type": "execute_result"
    }
   ],
   "source": [
    "mycalc"
   ]
  },
  {
   "cell_type": "code",
   "execution_count": 32,
   "id": "5fb7362b-92b9-4201-89f3-f7b4cf6f650f",
   "metadata": {},
   "outputs": [
    {
     "ename": "TypeError",
     "evalue": "mycalc() takes 0 positional arguments but 3 were given",
     "output_type": "error",
     "traceback": [
      "\u001b[1;31m---------------------------------------------------------------------------\u001b[0m",
      "\u001b[1;31mTypeError\u001b[0m                                 Traceback (most recent call last)",
      "\u001b[1;32m~\\AppData\\Local\\Temp/ipykernel_3188/435475766.py\u001b[0m in \u001b[0;36m<module>\u001b[1;34m\u001b[0m\n\u001b[1;32m----> 1\u001b[1;33m \u001b[0mmycalc\u001b[0m\u001b[1;33m(\u001b[0m\u001b[1;36m10\u001b[0m\u001b[1;33m,\u001b[0m \u001b[1;36m5\u001b[0m\u001b[1;33m,\u001b[0m \u001b[1;34m\"+\"\u001b[0m\u001b[1;33m)\u001b[0m\u001b[1;33m\u001b[0m\u001b[1;33m\u001b[0m\u001b[0m\n\u001b[0m",
      "\u001b[1;31mTypeError\u001b[0m: mycalc() takes 0 positional arguments but 3 were given"
     ]
    }
   ],
   "source": [
    "mycalc(10, 5, \"+\")"
   ]
  },
  {
   "cell_type": "code",
   "execution_count": 25,
   "id": "1d0c3b87-df36-43a4-9dfe-63856ea89ac5",
   "metadata": {},
   "outputs": [
    {
     "data": {
      "text/plain": [
       "<function __main__.calc(v1, v2, op)>"
      ]
     },
     "execution_count": 25,
     "metadata": {},
     "output_type": "execute_result"
    }
   ],
   "source": [
    "m = mycalc()\n",
    "m"
   ]
  },
  {
   "cell_type": "code",
   "execution_count": 26,
   "id": "ff1b937d-a2ec-4808-ace8-480e4889f983",
   "metadata": {},
   "outputs": [
    {
     "data": {
      "text/plain": [
       "15"
      ]
     },
     "execution_count": 26,
     "metadata": {},
     "output_type": "execute_result"
    }
   ],
   "source": [
    "m(10, 5,\"+\")"
   ]
  },
  {
   "cell_type": "code",
   "execution_count": 27,
   "id": "0e719fee-a694-4657-a000-80226e8c7680",
   "metadata": {},
   "outputs": [
    {
     "data": {
      "text/plain": [
       "15"
      ]
     },
     "execution_count": 27,
     "metadata": {},
     "output_type": "execute_result"
    }
   ],
   "source": [
    "mycalc()(10,5,\"+\")"
   ]
  },
  {
   "cell_type": "markdown",
   "id": "350aa612-617f-4888-9494-466a2ad8d905",
   "metadata": {},
   "source": [
    "# 전역변수 지역변수"
   ]
  },
  {
   "cell_type": "code",
   "execution_count": 33,
   "id": "51e91b26-0c9b-48ab-9bdf-1aafc83ef435",
   "metadata": {},
   "outputs": [],
   "source": [
    "a = 20\n",
    "\n",
    "def f1() :\n",
    "    a = 10\n",
    "    print(a)"
   ]
  },
  {
   "cell_type": "code",
   "execution_count": null,
   "id": "f4e8133f-8948-4069-84ee-beeafcae7c5a",
   "metadata": {},
   "outputs": [],
   "source": []
  },
  {
   "cell_type": "code",
   "execution_count": 34,
   "id": "fa242faf-27ff-494f-873f-6e185bb5108d",
   "metadata": {},
   "outputs": [
    {
     "name": "stdout",
     "output_type": "stream",
     "text": [
      "10\n"
     ]
    }
   ],
   "source": [
    "f1()"
   ]
  },
  {
   "cell_type": "code",
   "execution_count": 35,
   "id": "641dcbad-29b2-480c-b1b2-d195eb7bd7e7",
   "metadata": {},
   "outputs": [],
   "source": [
    "a = 20\n",
    "\n",
    "def f1() :\n",
    "    a = 10\n",
    "    print(a)\n",
    "    print(locals())"
   ]
  },
  {
   "cell_type": "code",
   "execution_count": 40,
   "id": "d9690725-7368-481c-8d8f-23a42b75d75d",
   "metadata": {},
   "outputs": [],
   "source": [
    "def f2() :\n",
    "    print(a)"
   ]
  },
  {
   "cell_type": "code",
   "execution_count": 36,
   "id": "5cf89836-44f2-4e4e-8882-c465623a5d6e",
   "metadata": {},
   "outputs": [
    {
     "name": "stdout",
     "output_type": "stream",
     "text": [
      "10\n",
      "{'a': 10}\n"
     ]
    }
   ],
   "source": [
    "f1()"
   ]
  },
  {
   "cell_type": "code",
   "execution_count": 41,
   "id": "95c419a7-f699-4947-a21f-34260fb431cb",
   "metadata": {},
   "outputs": [
    {
     "name": "stdout",
     "output_type": "stream",
     "text": [
      "20\n"
     ]
    }
   ],
   "source": [
    "f2()"
   ]
  },
  {
   "cell_type": "code",
   "execution_count": 42,
   "id": "06606a7d-a9ae-4d99-9d61-d4aa42cb49bb",
   "metadata": {
    "collapsed": true,
    "jupyter": {
     "outputs_hidden": true
    },
    "tags": []
   },
   "outputs": [
    {
     "data": {
      "text/plain": [
       "{'__name__': '__main__',\n",
       " '__doc__': 'Automatically created module for IPython interactive environment',\n",
       " '__package__': None,\n",
       " '__loader__': None,\n",
       " '__spec__': None,\n",
       " '__builtin__': <module 'builtins' (built-in)>,\n",
       " '__builtins__': <module 'builtins' (built-in)>,\n",
       " '_ih': ['',\n",
       "  'def plus(v1, v2):\\n    print(v1+v2)',\n",
       "  'def plus(v1, v2):\\n    print(v1+v2)',\n",
       "  'def plus(v1, v2):\\n    print(v1+v2)',\n",
       "  'def plus(v1, v2):\\n    print(v1+v2)',\n",
       "  'def plus(v1, v2):\\n    print(v1+v2)',\n",
       "  'plus()',\n",
       "  'plus(-2)',\n",
       "  'plus(-2,200)',\n",
       "  'def plus2(v1, v2):\\n    print(v1+v2)',\n",
       "  'plus2(2,3)',\n",
       "  'r = plus(2,3)\\nr',\n",
       "  'def plus2(v1, v2):\\n    \"\"\"\\n    plus2함수는 v1, v2 매개변수를 받는다.\\n    - v1 : 정수\\n    \"\"\"\\n    return v1+v2',\n",
       "  \"get_ipython().run_line_magic('pinfo', 'plus2')\",\n",
       "  \"get_ipython().run_line_magic('pinfo2', 'plus2')\",\n",
       "  \"def calc(v1, v2, op) :\\n    result = 0\\n    if op == '+' :\\n        result = v1 + v2\\n    elif op == '-' :\\n        result = v1 - v2\\n    elif op == '*' :\\n        result = v1 * v2\\n    elif op == '/' :\\n        result = v1 / v2\\n    return result\",\n",
       "  \"calc(10, 6, '*')\",\n",
       "  \"print('10 / 6 = {0}'.format(calc(10,6,'/')))\",\n",
       "  'calc',\n",
       "  'calc2 = calc',\n",
       "  'id(calc), id(calc2)',\n",
       "  'calc2(10,5,\"+\")',\n",
       "  '# 함수의 반환\\ndef mycalc() :\\n    return calc',\n",
       "  'mycalc',\n",
       "  'mycalc(10, 5, \"+\")',\n",
       "  'm = mycalc()\\nm',\n",
       "  'm(10, 5,\"+\")',\n",
       "  'mycalc()(10,5,\"+\")',\n",
       "  'coffee == 0\\ndef coffeemachine(button) :\\n    print()\\n    print(\"#1. (자동으로) 뜨거운 물을 준비한다.\");\\n    print(\"#2. (자동으로) 종이컵을 준비한다..\");\\n    \\n    if button == 1 :\\n        print(\"#3. (자동으로) 보통커피를 탄다.\");\\n    elif button == 2 :\\n        print(\"#3. (자동으로) 설탕커피를 탄다.\");\\n    elif button == 3 :\\n        print(\"#3. (자동으로) 블랙커피를 탄다.\");\\n    else : \\n        print(\"#3. (자동으로 아무거나 탄다.\\\\n\")\\n    print(\"#4. (자동으로) 물을 붓는다.\");\\n    print(\"#5. (자동으로) 스푼으로 젓는다.\");\\n    print()',\n",
       "  'def coffeemachine(button) :\\n    print()\\n    print(\"#1. (자동으로) 뜨거운 물을 준비한다.\");\\n    print(\"#2. (자동으로) 종이컵을 준비한다..\");\\n    \\n    if button == 1 :\\n        print(\"#3. (자동으로) 보통커피를 탄다.\");\\n    elif button == 2 :\\n        print(\"#3. (자동으로) 설탕커피를 탄다.\");\\n    elif button == 3 :\\n        print(\"#3. (자동으로) 블랙커피를 탄다.\");\\n    else : \\n        print(\"#3. (자동으로 아무거나 탄다.\\\\n\")\\n    print(\"#4. (자동으로) 물을 붓는다.\");\\n    print(\"#5. (자동으로) 스푼으로 젓는다.\");\\n    print()',\n",
       "  'coffeemachine',\n",
       "  'type(coffeemachine)',\n",
       "  'mycalc(10, 5, \"+\")',\n",
       "  'a = 20\\n\\ndef f1() :\\n    a = 10\\n    print(a)',\n",
       "  'f1()',\n",
       "  'a = 20\\n\\ndef f1() :\\n    a = 10\\n    print(a)\\n    print(locals())',\n",
       "  'f1()',\n",
       "  'globals',\n",
       "  'globals()',\n",
       "  'def func1() :\\n    a = 10\\n    print(\"func1()에서 a값 %d\" % a)\\ndef func2() :\\n    print(\"func2()에서 a값 %d\" % a)\\na = 20\\n\\nfunc1()\\nfunc2()',\n",
       "  'def f2() :\\n    print(a)',\n",
       "  'f2()',\n",
       "  'globals()'],\n",
       " '_oh': {16: 60,\n",
       "  18: <function __main__.calc(v1, v2, op)>,\n",
       "  20: (2160482766416, 2160482766416),\n",
       "  21: 15,\n",
       "  23: <function __main__.mycalc()>,\n",
       "  25: <function __main__.calc(v1, v2, op)>,\n",
       "  26: 15,\n",
       "  27: 15,\n",
       "  30: <function __main__.coffeemachine(button)>,\n",
       "  31: function,\n",
       "  37: <function globals()>,\n",
       "  38: {...}},\n",
       " '_dh': ['C:\\\\Users\\\\BIT\\\\Works'],\n",
       " 'In': ['',\n",
       "  'def plus(v1, v2):\\n    print(v1+v2)',\n",
       "  'def plus(v1, v2):\\n    print(v1+v2)',\n",
       "  'def plus(v1, v2):\\n    print(v1+v2)',\n",
       "  'def plus(v1, v2):\\n    print(v1+v2)',\n",
       "  'def plus(v1, v2):\\n    print(v1+v2)',\n",
       "  'plus()',\n",
       "  'plus(-2)',\n",
       "  'plus(-2,200)',\n",
       "  'def plus2(v1, v2):\\n    print(v1+v2)',\n",
       "  'plus2(2,3)',\n",
       "  'r = plus(2,3)\\nr',\n",
       "  'def plus2(v1, v2):\\n    \"\"\"\\n    plus2함수는 v1, v2 매개변수를 받는다.\\n    - v1 : 정수\\n    \"\"\"\\n    return v1+v2',\n",
       "  \"get_ipython().run_line_magic('pinfo', 'plus2')\",\n",
       "  \"get_ipython().run_line_magic('pinfo2', 'plus2')\",\n",
       "  \"def calc(v1, v2, op) :\\n    result = 0\\n    if op == '+' :\\n        result = v1 + v2\\n    elif op == '-' :\\n        result = v1 - v2\\n    elif op == '*' :\\n        result = v1 * v2\\n    elif op == '/' :\\n        result = v1 / v2\\n    return result\",\n",
       "  \"calc(10, 6, '*')\",\n",
       "  \"print('10 / 6 = {0}'.format(calc(10,6,'/')))\",\n",
       "  'calc',\n",
       "  'calc2 = calc',\n",
       "  'id(calc), id(calc2)',\n",
       "  'calc2(10,5,\"+\")',\n",
       "  '# 함수의 반환\\ndef mycalc() :\\n    return calc',\n",
       "  'mycalc',\n",
       "  'mycalc(10, 5, \"+\")',\n",
       "  'm = mycalc()\\nm',\n",
       "  'm(10, 5,\"+\")',\n",
       "  'mycalc()(10,5,\"+\")',\n",
       "  'coffee == 0\\ndef coffeemachine(button) :\\n    print()\\n    print(\"#1. (자동으로) 뜨거운 물을 준비한다.\");\\n    print(\"#2. (자동으로) 종이컵을 준비한다..\");\\n    \\n    if button == 1 :\\n        print(\"#3. (자동으로) 보통커피를 탄다.\");\\n    elif button == 2 :\\n        print(\"#3. (자동으로) 설탕커피를 탄다.\");\\n    elif button == 3 :\\n        print(\"#3. (자동으로) 블랙커피를 탄다.\");\\n    else : \\n        print(\"#3. (자동으로 아무거나 탄다.\\\\n\")\\n    print(\"#4. (자동으로) 물을 붓는다.\");\\n    print(\"#5. (자동으로) 스푼으로 젓는다.\");\\n    print()',\n",
       "  'def coffeemachine(button) :\\n    print()\\n    print(\"#1. (자동으로) 뜨거운 물을 준비한다.\");\\n    print(\"#2. (자동으로) 종이컵을 준비한다..\");\\n    \\n    if button == 1 :\\n        print(\"#3. (자동으로) 보통커피를 탄다.\");\\n    elif button == 2 :\\n        print(\"#3. (자동으로) 설탕커피를 탄다.\");\\n    elif button == 3 :\\n        print(\"#3. (자동으로) 블랙커피를 탄다.\");\\n    else : \\n        print(\"#3. (자동으로 아무거나 탄다.\\\\n\")\\n    print(\"#4. (자동으로) 물을 붓는다.\");\\n    print(\"#5. (자동으로) 스푼으로 젓는다.\");\\n    print()',\n",
       "  'coffeemachine',\n",
       "  'type(coffeemachine)',\n",
       "  'mycalc(10, 5, \"+\")',\n",
       "  'a = 20\\n\\ndef f1() :\\n    a = 10\\n    print(a)',\n",
       "  'f1()',\n",
       "  'a = 20\\n\\ndef f1() :\\n    a = 10\\n    print(a)\\n    print(locals())',\n",
       "  'f1()',\n",
       "  'globals',\n",
       "  'globals()',\n",
       "  'def func1() :\\n    a = 10\\n    print(\"func1()에서 a값 %d\" % a)\\ndef func2() :\\n    print(\"func2()에서 a값 %d\" % a)\\na = 20\\n\\nfunc1()\\nfunc2()',\n",
       "  'def f2() :\\n    print(a)',\n",
       "  'f2()',\n",
       "  'globals()'],\n",
       " 'Out': {16: 60,\n",
       "  18: <function __main__.calc(v1, v2, op)>,\n",
       "  20: (2160482766416, 2160482766416),\n",
       "  21: 15,\n",
       "  23: <function __main__.mycalc()>,\n",
       "  25: <function __main__.calc(v1, v2, op)>,\n",
       "  26: 15,\n",
       "  27: 15,\n",
       "  30: <function __main__.coffeemachine(button)>,\n",
       "  31: function,\n",
       "  37: <function globals()>,\n",
       "  38: {...}},\n",
       " 'get_ipython': <bound method InteractiveShell.get_ipython of <ipykernel.zmqshell.ZMQInteractiveShell object at 0x000001F706C5E4F0>>,\n",
       " 'exit': <IPython.core.autocall.ZMQExitAutocall at 0x1f706cc2790>,\n",
       " 'quit': <IPython.core.autocall.ZMQExitAutocall at 0x1f706cc2790>,\n",
       " '_': {...},\n",
       " '__': <function globals()>,\n",
       " '___': function,\n",
       " '_i': 'f2()',\n",
       " '_ii': 'def f2() :\\n    print(a)',\n",
       " '_iii': 'def func1() :\\n    a = 10\\n    print(\"func1()에서 a값 %d\" % a)\\ndef func2() :\\n    print(\"func2()에서 a값 %d\" % a)\\na = 20\\n\\nfunc1()\\nfunc2()',\n",
       " '_i1': 'def plus(v1, v2):\\n    print(v1+v2)',\n",
       " 'plus': <function __main__.plus(v1, v2)>,\n",
       " '_i2': 'def plus(v1, v2):\\n    print(v1+v2)',\n",
       " '_i3': 'def plus(v1, v2):\\n    print(v1+v2)',\n",
       " '_i4': 'def plus(v1, v2):\\n    print(v1+v2)',\n",
       " '_i5': 'def plus(v1, v2):\\n    print(v1+v2)',\n",
       " '_i6': 'plus()',\n",
       " '_i7': 'plus(-2)',\n",
       " '_i8': 'plus(-2,200)',\n",
       " '_i9': 'def plus2(v1, v2):\\n    print(v1+v2)',\n",
       " 'plus2': <function __main__.plus2(v1, v2)>,\n",
       " '_i10': 'plus2(2,3)',\n",
       " '_i11': 'r = plus(2,3)\\nr',\n",
       " 'r': None,\n",
       " '_i12': 'def plus2(v1, v2):\\n    \"\"\"\\n    plus2함수는 v1, v2 매개변수를 받는다.\\n    - v1 : 정수\\n    \"\"\"\\n    return v1+v2',\n",
       " '_i13': 'plus2?',\n",
       " '_i14': 'plus2??',\n",
       " '_i15': \"def calc(v1, v2, op) :\\n    result = 0\\n    if op == '+' :\\n        result = v1 + v2\\n    elif op == '-' :\\n        result = v1 - v2\\n    elif op == '*' :\\n        result = v1 * v2\\n    elif op == '/' :\\n        result = v1 / v2\\n    return result\",\n",
       " 'calc': <function __main__.calc(v1, v2, op)>,\n",
       " '_i16': \"calc(10, 6, '*')\",\n",
       " '_16': 60,\n",
       " '_i17': \"print('10 / 6 = {0}'.format(calc(10,6,'/')))\",\n",
       " '_i18': 'calc',\n",
       " '_18': <function __main__.calc(v1, v2, op)>,\n",
       " '_i19': 'calc2 = calc',\n",
       " 'calc2': <function __main__.calc(v1, v2, op)>,\n",
       " '_i20': 'id(calc), id(calc2)',\n",
       " '_20': (2160482766416, 2160482766416),\n",
       " '_i21': 'calc2(10,5,\"+\")',\n",
       " '_21': 15,\n",
       " '_i22': '# 함수의 반환\\ndef mycalc() :\\n    return calc',\n",
       " 'mycalc': <function __main__.mycalc()>,\n",
       " '_i23': 'mycalc',\n",
       " '_23': <function __main__.mycalc()>,\n",
       " '_i24': 'mycalc(10, 5, \"+\")',\n",
       " '_i25': 'm = mycalc()\\nm',\n",
       " 'm': <function __main__.calc(v1, v2, op)>,\n",
       " '_25': <function __main__.calc(v1, v2, op)>,\n",
       " '_i26': 'm(10, 5,\"+\")',\n",
       " '_26': 15,\n",
       " '_i27': 'mycalc()(10,5,\"+\")',\n",
       " '_27': 15,\n",
       " '_i28': 'coffee == 0\\ndef coffeemachine(button) :\\n    print()\\n    print(\"#1. (자동으로) 뜨거운 물을 준비한다.\");\\n    print(\"#2. (자동으로) 종이컵을 준비한다..\");\\n    \\n    if button == 1 :\\n        print(\"#3. (자동으로) 보통커피를 탄다.\");\\n    elif button == 2 :\\n        print(\"#3. (자동으로) 설탕커피를 탄다.\");\\n    elif button == 3 :\\n        print(\"#3. (자동으로) 블랙커피를 탄다.\");\\n    else : \\n        print(\"#3. (자동으로 아무거나 탄다.\\\\n\")\\n    print(\"#4. (자동으로) 물을 붓는다.\");\\n    print(\"#5. (자동으로) 스푼으로 젓는다.\");\\n    print()',\n",
       " '_i29': 'def coffeemachine(button) :\\n    print()\\n    print(\"#1. (자동으로) 뜨거운 물을 준비한다.\");\\n    print(\"#2. (자동으로) 종이컵을 준비한다..\");\\n    \\n    if button == 1 :\\n        print(\"#3. (자동으로) 보통커피를 탄다.\");\\n    elif button == 2 :\\n        print(\"#3. (자동으로) 설탕커피를 탄다.\");\\n    elif button == 3 :\\n        print(\"#3. (자동으로) 블랙커피를 탄다.\");\\n    else : \\n        print(\"#3. (자동으로 아무거나 탄다.\\\\n\")\\n    print(\"#4. (자동으로) 물을 붓는다.\");\\n    print(\"#5. (자동으로) 스푼으로 젓는다.\");\\n    print()',\n",
       " 'coffeemachine': <function __main__.coffeemachine(button)>,\n",
       " '_i30': 'coffeemachine',\n",
       " '_30': <function __main__.coffeemachine(button)>,\n",
       " '_i31': 'type(coffeemachine)',\n",
       " '_31': function,\n",
       " '_i32': 'mycalc(10, 5, \"+\")',\n",
       " '_i33': 'a = 20\\n\\ndef f1() :\\n    a = 10\\n    print(a)',\n",
       " 'a': 20,\n",
       " 'f1': <function __main__.f1()>,\n",
       " '_i34': 'f1()',\n",
       " '_i35': 'a = 20\\n\\ndef f1() :\\n    a = 10\\n    print(a)\\n    print(locals())',\n",
       " '_i36': 'f1()',\n",
       " '_i37': 'globals',\n",
       " '_37': <function globals()>,\n",
       " '_i38': 'globals()',\n",
       " '_38': {...},\n",
       " '_i39': 'def func1() :\\n    a = 10\\n    print(\"func1()에서 a값 %d\" % a)\\ndef func2() :\\n    print(\"func2()에서 a값 %d\" % a)\\na = 20\\n\\nfunc1()\\nfunc2()',\n",
       " 'func1': <function __main__.func1()>,\n",
       " 'func2': <function __main__.func2()>,\n",
       " '_i40': 'def f2() :\\n    print(a)',\n",
       " 'f2': <function __main__.f2()>,\n",
       " '_i41': 'f2()',\n",
       " '_i42': 'globals()'}"
      ]
     },
     "execution_count": 42,
     "metadata": {},
     "output_type": "execute_result"
    }
   ],
   "source": [
    "globals()"
   ]
  },
  {
   "cell_type": "code",
   "execution_count": 43,
   "id": "1d07cbd7-c744-4d47-91c8-1f7a6892249b",
   "metadata": {},
   "outputs": [],
   "source": [
    "def f3() :\n",
    "    global a \n",
    "    a = 30\n",
    "    print(a)"
   ]
  },
  {
   "cell_type": "code",
   "execution_count": 44,
   "id": "7fa04cd7-e8c1-4320-9655-dbfc9cf06209",
   "metadata": {},
   "outputs": [
    {
     "name": "stdout",
     "output_type": "stream",
     "text": [
      "30\n"
     ]
    }
   ],
   "source": [
    "f3()"
   ]
  },
  {
   "cell_type": "code",
   "execution_count": 45,
   "id": "5432ca9f-e8d3-4d86-8856-7b3b45884ca1",
   "metadata": {},
   "outputs": [
    {
     "data": {
      "text/plain": [
       "30"
      ]
     },
     "execution_count": 45,
     "metadata": {},
     "output_type": "execute_result"
    }
   ],
   "source": [
    "a"
   ]
  },
  {
   "cell_type": "code",
   "execution_count": 39,
   "id": "a60d4f98-c680-424a-b75b-a7677ebd15cd",
   "metadata": {},
   "outputs": [
    {
     "name": "stdout",
     "output_type": "stream",
     "text": [
      "func1()에서 a값 10\n",
      "func2()에서 a값 20\n"
     ]
    }
   ],
   "source": [
    "def func1() :\n",
    "    a = 10\n",
    "    print(\"func1()에서 a값 %d\" % a)\n",
    "def func2() :\n",
    "    print(\"func2()에서 a값 %d\" % a)\n",
    "a = 20\n",
    "\n",
    "func1()\n",
    "func2()"
   ]
  },
  {
   "cell_type": "code",
   "execution_count": 46,
   "id": "eb4faab0-2ea3-43fd-b0bc-ccbd1410e060",
   "metadata": {
    "tags": []
   },
   "outputs": [],
   "source": [
    "def multi(v1,v2) :\n",
    "    retList = []\n",
    "    res1 = v1+v2\n",
    "    res2 = v1-v2\n",
    "    retList.append(res1)\n",
    "    retList.append(res2)\n",
    "    return retList"
   ]
  },
  {
   "cell_type": "code",
   "execution_count": 48,
   "id": "3a664294-7bc4-4157-bb68-802a566f917f",
   "metadata": {},
   "outputs": [
    {
     "name": "stdout",
     "output_type": "stream",
     "text": [
      "multi()에서 돌려준 값 ==> 300, -100\n"
     ]
    }
   ],
   "source": [
    "myList = []\n",
    "hap, sub = 0, 0\n",
    "\n",
    "myList = multi(100, 200)\n",
    "hap = myList[0]\n",
    "sub = myList[1]\n",
    "print(\"multi()에서 돌려준 값 ==> %d, %d\" % (hap,sub))"
   ]
  },
  {
   "cell_type": "code",
   "execution_count": 49,
   "id": "7493b518-9c08-4076-a8de-40680bc76ba9",
   "metadata": {
    "tags": []
   },
   "outputs": [],
   "source": [
    "def multi(v1,v2) :\n",
    "    res1 = v1+v2\n",
    "    res2 = v1-v2\n",
    "    return res1, res2, res2, res1"
   ]
  },
  {
   "cell_type": "code",
   "execution_count": 50,
   "id": "d99c3c5e-4323-4671-8ccd-835a99c75205",
   "metadata": {},
   "outputs": [
    {
     "data": {
      "text/plain": [
       "(2100, -1900, -1900, 2100)"
      ]
     },
     "execution_count": 50,
     "metadata": {},
     "output_type": "execute_result"
    }
   ],
   "source": [
    "multi(100, 2000)"
   ]
  },
  {
   "cell_type": "code",
   "execution_count": 51,
   "id": "36c98e21-9db4-4bf8-a2fe-45c3a4f98313",
   "metadata": {},
   "outputs": [
    {
     "data": {
      "text/plain": [
       "(2100, -1900, -1900, 2100)"
      ]
     },
     "execution_count": 51,
     "metadata": {},
     "output_type": "execute_result"
    }
   ],
   "source": [
    "r = multi(100, 2000)\n",
    "r"
   ]
  },
  {
   "cell_type": "code",
   "execution_count": 52,
   "id": "983a680b-8cc2-498c-9189-3bc5531dc6dc",
   "metadata": {},
   "outputs": [
    {
     "data": {
      "text/plain": [
       "2100"
      ]
     },
     "execution_count": 52,
     "metadata": {},
     "output_type": "execute_result"
    }
   ],
   "source": [
    "r[0]"
   ]
  },
  {
   "cell_type": "code",
   "execution_count": 53,
   "id": "4d405635-5f66-43f7-853e-ad17483e8785",
   "metadata": {},
   "outputs": [],
   "source": [
    "a,b,c,d = multi(100, 2000)"
   ]
  },
  {
   "cell_type": "code",
   "execution_count": 54,
   "id": "84a460cf-09c9-4e20-9b08-b9d25103d140",
   "metadata": {},
   "outputs": [
    {
     "data": {
      "text/plain": [
       "(2100, -1900, -1900, 2100)"
      ]
     },
     "execution_count": 54,
     "metadata": {},
     "output_type": "execute_result"
    }
   ],
   "source": [
    "a,b,c,d"
   ]
  },
  {
   "cell_type": "markdown",
   "id": "7dc83f30-6b91-43c3-8e81-5e20b31c5583",
   "metadata": {},
   "source": [
    "pass"
   ]
  },
  {
   "cell_type": "code",
   "execution_count": 55,
   "id": "3918acf8-53bd-462d-948f-c75862a47281",
   "metadata": {
    "tags": []
   },
   "outputs": [],
   "source": [
    "def f1() :\n",
    "    pass"
   ]
  },
  {
   "cell_type": "code",
   "execution_count": 56,
   "id": "727265f6-2b54-4ac0-82f6-432e184173fa",
   "metadata": {},
   "outputs": [],
   "source": [
    "f1()"
   ]
  },
  {
   "cell_type": "code",
   "execution_count": 57,
   "id": "02109f63-3cbf-489b-9b75-768fb1e45971",
   "metadata": {},
   "outputs": [],
   "source": [
    "if True :\n",
    "    pass\n",
    "else :\n",
    "    print('END')"
   ]
  },
  {
   "cell_type": "markdown",
   "id": "2331adbb-4af8-41a4-8cb7-754d93887585",
   "metadata": {},
   "source": [
    "# 매개변수 전달"
   ]
  },
  {
   "cell_type": "code",
   "execution_count": 58,
   "id": "67c16d95-af66-41ee-9fa9-e57da3bd2945",
   "metadata": {},
   "outputs": [],
   "source": [
    "def f1(v1,v2) :\n",
    "    return v1 + v2"
   ]
  },
  {
   "cell_type": "code",
   "execution_count": 68,
   "id": "51727fa7-6b7c-427b-b4d9-0672bb0e7bc9",
   "metadata": {},
   "outputs": [],
   "source": [
    "def f2(v1,v2,v3) :\n",
    "    return v1+v2+v3"
   ]
  },
  {
   "cell_type": "code",
   "execution_count": 60,
   "id": "7c24027c-344e-42d9-b2d4-d8d09f51ac3e",
   "metadata": {},
   "outputs": [
    {
     "data": {
      "text/plain": [
       "30"
      ]
     },
     "execution_count": 60,
     "metadata": {},
     "output_type": "execute_result"
    }
   ],
   "source": [
    "f1(10,20)"
   ]
  },
  {
   "cell_type": "code",
   "execution_count": 61,
   "id": "00277fd3-aa2d-4b14-a433-ed86b6de61f0",
   "metadata": {},
   "outputs": [
    {
     "ename": "TypeError",
     "evalue": "f2() missing 1 required positional argument: 'v3'",
     "output_type": "error",
     "traceback": [
      "\u001b[1;31m---------------------------------------------------------------------------\u001b[0m",
      "\u001b[1;31mTypeError\u001b[0m                                 Traceback (most recent call last)",
      "\u001b[1;32m~\\AppData\\Local\\Temp/ipykernel_3188/3377845787.py\u001b[0m in \u001b[0;36m<module>\u001b[1;34m\u001b[0m\n\u001b[1;32m----> 1\u001b[1;33m \u001b[0mf2\u001b[0m\u001b[1;33m(\u001b[0m\u001b[1;36m1\u001b[0m\u001b[1;33m,\u001b[0m\u001b[1;36m2\u001b[0m\u001b[1;33m)\u001b[0m\u001b[1;33m\u001b[0m\u001b[1;33m\u001b[0m\u001b[0m\n\u001b[0m",
      "\u001b[1;31mTypeError\u001b[0m: f2() missing 1 required positional argument: 'v3'"
     ]
    }
   ],
   "source": [
    "f2(1,2)"
   ]
  },
  {
   "cell_type": "code",
   "execution_count": 59,
   "id": "5589fdb3-cfd7-40d3-97e3-871cc2b4e01e",
   "metadata": {
    "tags": []
   },
   "outputs": [],
   "source": [
    "def f2(v1,v2,v3) :\n",
    "    return v1+v2+v3"
   ]
  },
  {
   "cell_type": "code",
   "execution_count": 62,
   "id": "030ad462-899a-417f-94c4-1f06e165932e",
   "metadata": {},
   "outputs": [
    {
     "data": {
      "text/plain": [
       "3"
      ]
     },
     "execution_count": 62,
     "metadata": {},
     "output_type": "execute_result"
    }
   ],
   "source": [
    "f2(1,2,0)"
   ]
  },
  {
   "cell_type": "markdown",
   "id": "57c7f2fe-9b11-43f0-b18b-fe3aaddc3305",
   "metadata": {},
   "source": [
    "매개변수 기본값"
   ]
  },
  {
   "cell_type": "code",
   "execution_count": 65,
   "id": "cb6a0140-f783-446a-a685-49b070e2f2b4",
   "metadata": {
    "tags": []
   },
   "outputs": [],
   "source": [
    "def f3(v1,v2,v3=0) : # 매개변수 값이 전달이 안되면 기본값\n",
    "    return v1+v2+v3"
   ]
  },
  {
   "cell_type": "code",
   "execution_count": 66,
   "id": "cf1a8f0f-5e12-45bf-91ac-19b80a8b5872",
   "metadata": {},
   "outputs": [
    {
     "data": {
      "text/plain": [
       "6"
      ]
     },
     "execution_count": 66,
     "metadata": {},
     "output_type": "execute_result"
    }
   ],
   "source": [
    "f3(1,2,3)"
   ]
  },
  {
   "cell_type": "code",
   "execution_count": 67,
   "id": "4b0f9c15-8c8d-411c-9333-72ea777b3a20",
   "metadata": {},
   "outputs": [
    {
     "data": {
      "text/plain": [
       "3"
      ]
     },
     "execution_count": 67,
     "metadata": {},
     "output_type": "execute_result"
    }
   ],
   "source": [
    "f3(1,2)"
   ]
  },
  {
   "cell_type": "code",
   "execution_count": 70,
   "id": "040a1a4b-03ae-457c-a676-210e4ef330c3",
   "metadata": {},
   "outputs": [
    {
     "data": {
      "text/plain": [
       "4"
      ]
     },
     "execution_count": 70,
     "metadata": {},
     "output_type": "execute_result"
    }
   ],
   "source": [
    "f3(v1=1, v2=3)"
   ]
  },
  {
   "cell_type": "code",
   "execution_count": 71,
   "id": "cd309cc5-6be3-4333-921f-e693fa5d8a62",
   "metadata": {},
   "outputs": [
    {
     "data": {
      "text/plain": [
       "6"
      ]
     },
     "execution_count": 71,
     "metadata": {},
     "output_type": "execute_result"
    }
   ],
   "source": [
    "f3(v1=1, v3=3, v2=2)"
   ]
  },
  {
   "cell_type": "markdown",
   "id": "5be4bbe9-1684-4f53-a2c9-04334484de60",
   "metadata": {},
   "source": [
    "'*','**' 매개변수"
   ]
  },
  {
   "cell_type": "code",
   "execution_count": 77,
   "id": "d5b57ac1-4359-44ce-a0ca-0a9a622365fb",
   "metadata": {
    "tags": []
   },
   "outputs": [],
   "source": [
    "def f4(*v) : \n",
    "    result = 0\n",
    "    for n in v :\n",
    "        result += n\n",
    "    return result"
   ]
  },
  {
   "cell_type": "code",
   "execution_count": 73,
   "id": "17187416-1dfa-41c0-86ad-b6cbe81de6c5",
   "metadata": {},
   "outputs": [
    {
     "data": {
      "text/plain": [
       "<function __main__.f4(*v)>"
      ]
     },
     "execution_count": 73,
     "metadata": {},
     "output_type": "execute_result"
    }
   ],
   "source": [
    "f4"
   ]
  },
  {
   "cell_type": "code",
   "execution_count": 78,
   "id": "a6c857dd-777c-40ff-a063-a19d5456dcc2",
   "metadata": {},
   "outputs": [
    {
     "data": {
      "text/plain": [
       "6"
      ]
     },
     "execution_count": 78,
     "metadata": {},
     "output_type": "execute_result"
    }
   ],
   "source": [
    "f4(1,2,3)"
   ]
  },
  {
   "cell_type": "code",
   "execution_count": 79,
   "id": "3521a5db-f81e-469e-a3f0-7ddcbaa13114",
   "metadata": {},
   "outputs": [
    {
     "data": {
      "text/plain": [
       "1"
      ]
     },
     "execution_count": 79,
     "metadata": {},
     "output_type": "execute_result"
    }
   ],
   "source": [
    "f4(1)"
   ]
  },
  {
   "cell_type": "markdown",
   "id": "961638bc-335d-4779-9e20-f8d1e4615862",
   "metadata": {},
   "source": [
    "딕셔너리 매개변수"
   ]
  },
  {
   "cell_type": "code",
   "execution_count": 80,
   "id": "c0d3dea5-2534-4244-9b9c-07fc8f80fd34",
   "metadata": {
    "tags": []
   },
   "outputs": [],
   "source": [
    "def f5(**v) : \n",
    "    for k in v.keys() :\n",
    "        print('%s --> %d 명' % (k, v[k]))"
   ]
  },
  {
   "cell_type": "code",
   "execution_count": 81,
   "id": "c00e6e6f-39c5-4567-a217-7720502193df",
   "metadata": {},
   "outputs": [
    {
     "name": "stdout",
     "output_type": "stream",
     "text": [
      "v1 --> 1 명\n",
      "v2 --> 3 명\n",
      "v3 --> 0 명\n"
     ]
    }
   ],
   "source": [
    "f5(v1=1,v2=3,v3=0)"
   ]
  },
  {
   "cell_type": "markdown",
   "id": "a7dad681-6cb8-4fdf-932d-7bde2ce13123",
   "metadata": {},
   "source": [
    "가변형 인자 & 딕셔너리 인자"
   ]
  },
  {
   "cell_type": "code",
   "execution_count": 82,
   "id": "dd946b4b-c8b7-4b9a-96d3-592306f5e466",
   "metadata": {},
   "outputs": [],
   "source": [
    "def myfunction(*args, **kwargs) :\n",
    "    print('args: ',args)\n",
    "    print('kwargs: ', kwargs)"
   ]
  },
  {
   "cell_type": "code",
   "execution_count": 83,
   "id": "647fbe03-62ff-434e-9e46-c0d74dfc548e",
   "metadata": {},
   "outputs": [
    {
     "name": "stdout",
     "output_type": "stream",
     "text": [
      "args:  ()\n",
      "kwargs:  {}\n"
     ]
    }
   ],
   "source": [
    "myfunction()"
   ]
  },
  {
   "cell_type": "code",
   "execution_count": 84,
   "id": "657c9e80-07cf-4d1b-a636-5152159153fe",
   "metadata": {},
   "outputs": [
    {
     "ename": "SyntaxError",
     "evalue": "invalid syntax (Temp/ipykernel_3188/2357187393.py, line 1)",
     "output_type": "error",
     "traceback": [
      "\u001b[1;36m  File \u001b[1;32m\"C:\\Users\\BIT\\AppData\\Local\\Temp/ipykernel_3188/2357187393.py\"\u001b[1;36m, line \u001b[1;32m1\u001b[0m\n\u001b[1;33m    myfunction{1}\u001b[0m\n\u001b[1;37m              ^\u001b[0m\n\u001b[1;31mSyntaxError\u001b[0m\u001b[1;31m:\u001b[0m invalid syntax\n"
     ]
    }
   ],
   "source": [
    "myfunction{1}"
   ]
  },
  {
   "cell_type": "code",
   "execution_count": 85,
   "id": "b34552c4-1904-4f12-b070-8d563013985f",
   "metadata": {},
   "outputs": [
    {
     "name": "stdout",
     "output_type": "stream",
     "text": [
      "args:  ()\n",
      "kwargs:  {'a': 3}\n"
     ]
    }
   ],
   "source": [
    "myfunction(a=3)"
   ]
  },
  {
   "cell_type": "code",
   "execution_count": 86,
   "id": "3b9c65a8-369a-4c07-a68f-d5c0e237c27b",
   "metadata": {},
   "outputs": [
    {
     "name": "stdout",
     "output_type": "stream",
     "text": [
      "args:  (1, 2, 3)\n",
      "kwargs:  {'a': 3}\n"
     ]
    }
   ],
   "source": [
    "myfunction(1,2,3,a=3)"
   ]
  },
  {
   "cell_type": "code",
   "execution_count": 87,
   "id": "4d67947f-029f-4e2c-92e0-2ee4ed252ca0",
   "metadata": {},
   "outputs": [
    {
     "ename": "SyntaxError",
     "evalue": "positional argument follows keyword argument (Temp/ipykernel_3188/1769285388.py, line 1)",
     "output_type": "error",
     "traceback": [
      "\u001b[1;36m  File \u001b[1;32m\"C:\\Users\\BIT\\AppData\\Local\\Temp/ipykernel_3188/1769285388.py\"\u001b[1;36m, line \u001b[1;32m1\u001b[0m\n\u001b[1;33m    myfunction(a=3, 2, 3)\u001b[0m\n\u001b[1;37m                        ^\u001b[0m\n\u001b[1;31mSyntaxError\u001b[0m\u001b[1;31m:\u001b[0m positional argument follows keyword argument\n"
     ]
    }
   ],
   "source": [
    "myfunction(a=3, 2, 3)"
   ]
  },
  {
   "cell_type": "markdown",
   "id": "56d70915-565e-4b62-a2bd-9ae481422e11",
   "metadata": {},
   "source": [
    "# 모듈\n",
    "   - `import MODULE`\n",
    "   - `import MODULE as alias`\n",
    "   - `import MODULE"
   ]
  },
  {
   "cell_type": "code",
   "execution_count": 1,
   "id": "c103e5dd-e2f0-4eee-a0c0-bee7688319e8",
   "metadata": {},
   "outputs": [],
   "source": [
    "import Module1"
   ]
  },
  {
   "cell_type": "code",
   "execution_count": 89,
   "id": "fc865b1b-4976-4dd3-a781-1b4925c9b482",
   "metadata": {},
   "outputs": [
    {
     "data": {
      "text/plain": [
       "module"
      ]
     },
     "execution_count": 89,
     "metadata": {},
     "output_type": "execute_result"
    }
   ],
   "source": [
    "type(Module1)"
   ]
  },
  {
   "cell_type": "code",
   "execution_count": 90,
   "id": "800431c3-6b64-4972-b503-54e3a110733d",
   "metadata": {},
   "outputs": [
    {
     "data": {
      "text/plain": [
       "<module 'Module1' from 'C:\\\\Users\\\\BIT\\\\Works\\\\Module1.py'>"
      ]
     },
     "execution_count": 90,
     "metadata": {},
     "output_type": "execute_result"
    }
   ],
   "source": [
    "Module1"
   ]
  },
  {
   "cell_type": "code",
   "execution_count": 2,
   "id": "31a48fe9-3381-4b0d-a5ec-ba6df965bbea",
   "metadata": {},
   "outputs": [
    {
     "data": {
      "text/plain": [
       "3.14"
      ]
     },
     "execution_count": 2,
     "metadata": {},
     "output_type": "execute_result"
    }
   ],
   "source": [
    "Module1.PI"
   ]
  },
  {
   "cell_type": "code",
   "execution_count": 4,
   "id": "9c715a0a-bd4b-4a2a-a9e6-5479e271aae6",
   "metadata": {},
   "outputs": [
    {
     "name": "stdout",
     "output_type": "stream",
     "text": [
      "module1.py func1()\n"
     ]
    }
   ],
   "source": [
    "Module1.func1()"
   ]
  },
  {
   "cell_type": "code",
   "execution_count": 5,
   "id": "865a8b22-5a2f-4360-a274-e613e551e5c4",
   "metadata": {},
   "outputs": [],
   "source": [
    "import Module1 as m1"
   ]
  },
  {
   "cell_type": "code",
   "execution_count": 6,
   "id": "9647b374-1c32-4b7f-8eab-6c2b2d684040",
   "metadata": {},
   "outputs": [
    {
     "name": "stdout",
     "output_type": "stream",
     "text": [
      "module1.py func2()\n"
     ]
    }
   ],
   "source": [
    "m1.func2()"
   ]
  },
  {
   "cell_type": "code",
   "execution_count": 7,
   "id": "ba6dda48-ecb6-4ac0-add1-908c69a6edb8",
   "metadata": {},
   "outputs": [],
   "source": [
    "#모듈 안의 특정한 객체만 가져올떄"
   ]
  },
  {
   "cell_type": "code",
   "execution_count": 8,
   "id": "dc27932f-be0c-40fe-aaef-f1e54af2ffb6",
   "metadata": {},
   "outputs": [],
   "source": [
    "from Module1 import func1, func2"
   ]
  },
  {
   "cell_type": "code",
   "execution_count": 9,
   "id": "0ea5d287-a3b6-4271-a33a-d9ec5a9c39aa",
   "metadata": {},
   "outputs": [
    {
     "name": "stdout",
     "output_type": "stream",
     "text": [
      "module1.py func1()\n"
     ]
    }
   ],
   "source": [
    "func1()"
   ]
  },
  {
   "cell_type": "code",
   "execution_count": 10,
   "id": "920c9067-ad4b-4040-9ac8-0c4571b5bcbc",
   "metadata": {},
   "outputs": [
    {
     "name": "stdout",
     "output_type": "stream",
     "text": [
      "module1.py func2()\n"
     ]
    }
   ],
   "source": [
    "func2()"
   ]
  },
  {
   "cell_type": "markdown",
   "id": "baddece6-9f31-48b1-826c-bd21895345f3",
   "metadata": {},
   "source": [
    "# Module2 테스트"
   ]
  },
  {
   "cell_type": "code",
   "execution_count": 11,
   "id": "b025a19f-b758-4b12-971d-963c298fb4b7",
   "metadata": {},
   "outputs": [
    {
     "name": "stdout",
     "output_type": "stream",
     "text": [
      " C 드라이브의 볼륨에는 이름이 없습니다.\n",
      " 볼륨 일련 번호: A01F-9C20\n",
      "\n",
      " C:\\Users\\BIT\\Works 디렉터리\n",
      "\n",
      "2022-03-24  오후 03:08               152 Module1.py\n",
      "2022-03-24  오후 03:20                62 Module2.py\n",
      "               2개 파일                 214 바이트\n",
      "               0개 디렉터리  98,168,143,872 바이트 남음\n"
     ]
    }
   ],
   "source": [
    "%ls *.py"
   ]
  },
  {
   "cell_type": "code",
   "execution_count": 12,
   "id": "710ccfda-c936-4a69-a80b-7e917f543d31",
   "metadata": {},
   "outputs": [
    {
     "name": "stdout",
     "output_type": "stream",
     "text": [
      "Module2 --> func1()\n"
     ]
    }
   ],
   "source": [
    "!python Module2.py"
   ]
  },
  {
   "cell_type": "code",
   "execution_count": 13,
   "id": "2c6c1ae9-480a-4dae-8736-ae42e69aeebc",
   "metadata": {},
   "outputs": [
    {
     "name": "stdout",
     "output_type": "stream",
     "text": [
      "Module2 --> func1()\n"
     ]
    }
   ],
   "source": [
    "#다른사람.\n",
    "import Module2"
   ]
  },
  {
   "cell_type": "code",
   "execution_count": 14,
   "id": "f2c146c9-8adf-4932-8b90-5aaa1fed6002",
   "metadata": {},
   "outputs": [
    {
     "name": "stdout",
     "output_type": "stream",
     "text": [
      "Module2 --> func1()\n"
     ]
    }
   ],
   "source": [
    "Module2.func1()"
   ]
  },
  {
   "cell_type": "markdown",
   "id": "4b122ad3-9932-4929-80d6-4f9d8c7734da",
   "metadata": {},
   "source": [
    "P86 `__main__`"
   ]
  },
  {
   "cell_type": "markdown",
   "id": "0159f33b-3140-4447-9440-f29797f40e81",
   "metadata": {},
   "source": [
    "### `__main__` 적용\n",
    "     - C/Java 컴파일러언어 -> start point\n",
    "         - 시작하는 함수\n",
    "     - startpoint 대체\n",
    "     - 모듈의 테스트 코드"
   ]
  },
  {
   "cell_type": "code",
   "execution_count": 16,
   "id": "5ea09d3d-8c45-4603-802f-613d455ed133",
   "metadata": {},
   "outputs": [
    {
     "name": "stdout",
     "output_type": "stream",
     "text": [
      "Module3 --> func1()\n"
     ]
    }
   ],
   "source": [
    "!python Module3.py"
   ]
  },
  {
   "cell_type": "code",
   "execution_count": 17,
   "id": "a409358e-c87e-49ba-8338-9954ef61d2f2",
   "metadata": {},
   "outputs": [],
   "source": [
    "import Module3"
   ]
  },
  {
   "cell_type": "code",
   "execution_count": 18,
   "id": "5b657379-0495-454c-9f98-f62d42239ca4",
   "metadata": {},
   "outputs": [],
   "source": [
    "import sys"
   ]
  },
  {
   "cell_type": "code",
   "execution_count": 19,
   "id": "694f1dd3-b18e-4ff9-99d4-f6ec0bb3aa92",
   "metadata": {},
   "outputs": [
    {
     "name": "stdout",
     "output_type": "stream",
     "text": [
      "('_abc', '_ast', '_bisect', '_blake2', '_codecs', '_codecs_cn', '_codecs_hk', '_codecs_iso2022', '_codecs_jp', '_codecs_kr', '_codecs_tw', '_collections', '_contextvars', '_csv', '_datetime', '_functools', '_heapq', '_imp', '_io', '_json', '_locale', '_lsprof', '_md5', '_multibytecodec', '_opcode', '_operator', '_peg_parser', '_pickle', '_random', '_sha1', '_sha256', '_sha3', '_sha512', '_signal', '_sre', '_stat', '_statistics', '_string', '_struct', '_symtable', '_thread', '_tracemalloc', '_warnings', '_weakref', '_winapi', '_xxsubinterpreters', 'array', 'atexit', 'audioop', 'binascii', 'builtins', 'cmath', 'errno', 'faulthandler', 'gc', 'itertools', 'marshal', 'math', 'mmap', 'msvcrt', 'nt', 'parser', 'sys', 'time', 'winreg', 'xxsubtype', 'zlib')\n"
     ]
    }
   ],
   "source": [
    "print(sys.builtin_module_names)"
   ]
  },
  {
   "cell_type": "code",
   "execution_count": 24,
   "id": "5ea28a12-c4d4-4552-841d-d73b0aebe789",
   "metadata": {},
   "outputs": [
    {
     "data": {
      "text/plain": [
       "['__builtins__',\n",
       " '__cached__',\n",
       " '__doc__',\n",
       " '__file__',\n",
       " '__loader__',\n",
       " '__name__',\n",
       " '__package__',\n",
       " '__spec__',\n",
       " 'func1']"
      ]
     },
     "execution_count": 24,
     "metadata": {},
     "output_type": "execute_result"
    }
   ],
   "source": [
    "dir(Module3)"
   ]
  },
  {
   "cell_type": "code",
   "execution_count": 25,
   "id": "a5889b02-5c84-479b-9f0c-6aaf0bf81ce7",
   "metadata": {},
   "outputs": [
    {
     "data": {
      "text/plain": [
       "'Module3'"
      ]
     },
     "execution_count": 25,
     "metadata": {},
     "output_type": "execute_result"
    }
   ],
   "source": [
    "Module3.__name__"
   ]
  },
  {
   "cell_type": "code",
   "execution_count": 20,
   "id": "e656767a-e398-4bec-912a-dc0ed2bd56b9",
   "metadata": {},
   "outputs": [],
   "source": [
    "import math"
   ]
  },
  {
   "cell_type": "code",
   "execution_count": 22,
   "id": "e7f6f57e-73cb-4462-9f08-498bb53827a6",
   "metadata": {},
   "outputs": [
    {
     "name": "stdout",
     "output_type": "stream",
     "text": [
      "['__doc__', '__loader__', '__name__', '__package__', '__spec__', 'acos', 'acosh', 'asin', 'asinh', 'atan', 'atan2', 'atanh', 'ceil', 'comb', 'copysign', 'cos', 'cosh', 'degrees', 'dist', 'e', 'erf', 'erfc', 'exp', 'expm1', 'fabs', 'factorial', 'floor', 'fmod', 'frexp', 'fsum', 'gamma', 'gcd', 'hypot', 'inf', 'isclose', 'isfinite', 'isinf', 'isnan', 'isqrt', 'lcm', 'ldexp', 'lgamma', 'log', 'log10', 'log1p', 'log2', 'modf', 'nan', 'nextafter', 'perm', 'pi', 'pow', 'prod', 'radians', 'remainder', 'sin', 'sinh', 'sqrt', 'tan', 'tanh', 'tau', 'trunc', 'ulp']\n"
     ]
    }
   ],
   "source": [
    "print(dir(math))"
   ]
  },
  {
   "cell_type": "markdown",
   "id": "84d7783b-eb87-44cf-a458-8140082eb2e2",
   "metadata": {},
   "source": [
    "### 실습:P227 예제 로또 코드\n",
    "    1. getNumber를LottoModule.py에 정의\n",
    "    2. LottoModule 을 가져와 p277코드 완성"
   ]
  },
  {
   "cell_type": "code",
   "execution_count": 122,
   "id": "b37497c8-4968-486d-9dcc-e7e1b6b5a1e8",
   "metadata": {},
   "outputs": [
    {
     "name": "stdout",
     "output_type": "stream",
     "text": [
      "* 로또 추첨을 시작합니다. ** \n",
      "\n",
      "추첨된 로또 번호 ==> 7 14 16 22 29 43 "
     ]
    }
   ],
   "source": [
    "import LottoModule\n",
    "lotto=[]\n",
    "num = 0\n",
    "print(\"* 로또 추첨을 시작합니다. ** \\n\");\n",
    "\n",
    "while True : \n",
    "    num = LottoModule.getNumber()\n",
    "    \n",
    "    if lotto.count(num) == 0 :\n",
    "        lotto.append(num)\n",
    "    if len(lotto) >= 6 :\n",
    "        break\n",
    "print(\"추첨된 로또 번호 ==> \", end =\"\")\n",
    "lotto.sort()\n",
    "for i in range(0,6) : \n",
    "    print(\"%d \" %lotto[i], end =\"\")"
   ]
  },
  {
   "cell_type": "code",
   "execution_count": null,
   "id": "77d6f43c-5681-4986-929c-9e5242a4a229",
   "metadata": {},
   "outputs": [],
   "source": []
  },
  {
   "cell_type": "markdown",
   "id": "bff648b6-1052-4e9d-bebd-eb670194fe18",
   "metadata": {},
   "source": [
    "# 패키지"
   ]
  },
  {
   "cell_type": "code",
   "execution_count": 123,
   "id": "ae8ab8fb-c7c2-45a9-b38e-e747a37d92d5",
   "metadata": {},
   "outputs": [],
   "source": [
    "import mypackage.Module3"
   ]
  },
  {
   "cell_type": "code",
   "execution_count": 124,
   "id": "c949ac3e-34a7-4dd2-b877-66c08ba1a93c",
   "metadata": {},
   "outputs": [
    {
     "name": "stdout",
     "output_type": "stream",
     "text": [
      "Module3 --> func1()\n"
     ]
    }
   ],
   "source": [
    "mypackage.Module3.func1()"
   ]
  },
  {
   "cell_type": "code",
   "execution_count": 125,
   "id": "1bcb83f2-ed5c-45b0-ba22-9104a6d0daf6",
   "metadata": {},
   "outputs": [],
   "source": [
    "from mypackage import Module3"
   ]
  },
  {
   "cell_type": "code",
   "execution_count": null,
   "id": "5f78f3d4-683f-43ff-a904-fa67f8a79a15",
   "metadata": {},
   "outputs": [],
   "source": []
  },
  {
   "cell_type": "markdown",
   "id": "47a31725-3f4a-4c0d-83cd-14d3aa21ccd3",
   "metadata": {},
   "source": [
    "## Lambda 함수\n",
    "\n",
    "`Lambda` 키워드 -> 이름이 없는 함수를 만든다"
   ]
  },
  {
   "cell_type": "code",
   "execution_count": 127,
   "id": "1faf6302-87a9-42bb-89f1-dbc5044ae50e",
   "metadata": {},
   "outputs": [],
   "source": [
    "hap2 = lambda x,y: x +y"
   ]
  },
  {
   "cell_type": "code",
   "execution_count": 128,
   "id": "f325976e-9f67-4edc-9158-ebe84bd08357",
   "metadata": {},
   "outputs": [
    {
     "data": {
      "text/plain": [
       "function"
      ]
     },
     "execution_count": 128,
     "metadata": {},
     "output_type": "execute_result"
    }
   ],
   "source": [
    "type(hap2)"
   ]
  },
  {
   "cell_type": "code",
   "execution_count": 129,
   "id": "9c59583b-baea-430d-92a7-e9ee0a561e46",
   "metadata": {},
   "outputs": [
    {
     "data": {
      "text/plain": [
       "<function __main__.<lambda>(x, y)>"
      ]
     },
     "execution_count": 129,
     "metadata": {},
     "output_type": "execute_result"
    }
   ],
   "source": [
    "hap2"
   ]
  },
  {
   "cell_type": "code",
   "execution_count": 130,
   "id": "e36e1d01-8051-4e99-b34f-f0ce83cd1340",
   "metadata": {},
   "outputs": [
    {
     "name": "stdout",
     "output_type": "stream",
     "text": [
      "30\n"
     ]
    }
   ],
   "source": [
    "print(hap2(10,20))"
   ]
  },
  {
   "cell_type": "code",
   "execution_count": 131,
   "id": "389a2ab4-37a4-488d-9b27-a437f953f896",
   "metadata": {},
   "outputs": [],
   "source": [
    "hap2 = lambda x=10,y=20: x +y"
   ]
  },
  {
   "cell_type": "code",
   "execution_count": 132,
   "id": "356e11fa-8c1e-4d4c-81a6-53a1cbf64061",
   "metadata": {},
   "outputs": [
    {
     "data": {
      "text/plain": [
       "30"
      ]
     },
     "execution_count": 132,
     "metadata": {},
     "output_type": "execute_result"
    }
   ],
   "source": [
    "hap2()"
   ]
  },
  {
   "cell_type": "code",
   "execution_count": 133,
   "id": "d749ce2f-2403-47bd-8797-b824606e9900",
   "metadata": {},
   "outputs": [
    {
     "name": "stdout",
     "output_type": "stream",
     "text": [
      "[11, 12, 13, 14, 15]\n"
     ]
    }
   ],
   "source": [
    "li = [1,2,3,4,5]\n",
    "\n",
    "result = list(map(lambda x : x +10, li))\n",
    "print(result)"
   ]
  },
  {
   "cell_type": "markdown",
   "id": "60b93d0a-1084-49f2-8efc-10fa81d7f3dd",
   "metadata": {},
   "source": [
    "# 재귀 함수"
   ]
  },
  {
   "cell_type": "code",
   "execution_count": 135,
   "id": "ff610739-5e24-470e-bb16-334c10524432",
   "metadata": {},
   "outputs": [],
   "source": [
    "def selfcall() :\n",
    "    print('Hello', end='')\n",
    "    selfcall()"
   ]
  },
  {
   "cell_type": "code",
   "execution_count": 2,
   "id": "72b29507-7634-431e-a2ab-93119ad52601",
   "metadata": {},
   "outputs": [
    {
     "name": "stdout",
     "output_type": "stream",
     "text": [
      "24\n",
      "3628800\n"
     ]
    }
   ],
   "source": [
    "def factorial(num) :\n",
    "    if num <= 1 :\n",
    "        return num\n",
    "    else :\n",
    "        return num * factorial(num-1)\n",
    "print(factorial(4))\n",
    "print(factorial(10))"
   ]
  },
  {
   "cell_type": "markdown",
   "id": "523981d0-8900-4d49-ab7f-c8116fa7cfea",
   "metadata": {},
   "source": [
    "# 응용예제"
   ]
  },
  {
   "cell_type": "code",
   "execution_count": null,
   "id": "d528fe39-a485-40f2-bebe-01095a98a9d3",
   "metadata": {},
   "outputs": [],
   "source": []
  },
  {
   "cell_type": "code",
   "execution_count": null,
   "id": "6d02583a-af99-4e59-b10c-05d53b0ef3e9",
   "metadata": {},
   "outputs": [],
   "source": []
  },
  {
   "cell_type": "code",
   "execution_count": null,
   "id": "3ee47a99-a5b4-47dc-b5b1-13677529e664",
   "metadata": {},
   "outputs": [],
   "source": []
  },
  {
   "cell_type": "code",
   "execution_count": null,
   "id": "371c8373-b9cb-4b0e-86f5-4913d3c30b2e",
   "metadata": {},
   "outputs": [],
   "source": []
  },
  {
   "cell_type": "code",
   "execution_count": null,
   "id": "53623c31-a48d-4065-a50a-75e3ffbcf05e",
   "metadata": {},
   "outputs": [],
   "source": []
  },
  {
   "cell_type": "code",
   "execution_count": null,
   "id": "cfd05018-bafd-4767-a257-8a13599a9473",
   "metadata": {},
   "outputs": [],
   "source": []
  },
  {
   "cell_type": "code",
   "execution_count": null,
   "id": "e2a89e6a-76f2-4fe9-a1d9-63ac4cfff152",
   "metadata": {},
   "outputs": [],
   "source": []
  },
  {
   "cell_type": "code",
   "execution_count": null,
   "id": "d60bea8e-a3d3-46af-b841-86b0922d4343",
   "metadata": {},
   "outputs": [],
   "source": []
  },
  {
   "cell_type": "code",
   "execution_count": null,
   "id": "f2a6388b-9a70-439f-b879-3a32dee65245",
   "metadata": {},
   "outputs": [],
   "source": []
  },
  {
   "cell_type": "code",
   "execution_count": null,
   "id": "89514262-0943-44b0-9ed7-1b9cb4dcb9e6",
   "metadata": {},
   "outputs": [],
   "source": []
  },
  {
   "cell_type": "code",
   "execution_count": null,
   "id": "140cd4ec-a950-499c-bbeb-bba9d66a87aa",
   "metadata": {},
   "outputs": [],
   "source": []
  },
  {
   "cell_type": "code",
   "execution_count": null,
   "id": "fc6bc69e-c250-43c9-be78-4dd5e8f8adf2",
   "metadata": {},
   "outputs": [],
   "source": []
  },
  {
   "cell_type": "code",
   "execution_count": null,
   "id": "a247773d-4c32-4084-9c8c-4d442dcaee25",
   "metadata": {},
   "outputs": [],
   "source": []
  },
  {
   "cell_type": "code",
   "execution_count": null,
   "id": "72a69fa0-489d-49fe-9009-3813c0f08334",
   "metadata": {},
   "outputs": [],
   "source": []
  },
  {
   "cell_type": "code",
   "execution_count": null,
   "id": "3804545d-177b-48ca-9035-02c294e694b6",
   "metadata": {},
   "outputs": [],
   "source": []
  }
 ],
 "metadata": {
  "kernelspec": {
   "display_name": "Python 3 (ipykernel)",
   "language": "python",
   "name": "python3"
  },
  "language_info": {
   "codemirror_mode": {
    "name": "ipython",
    "version": 3
   },
   "file_extension": ".py",
   "mimetype": "text/x-python",
   "name": "python",
   "nbconvert_exporter": "python",
   "pygments_lexer": "ipython3",
   "version": "3.9.7"
  }
 },
 "nbformat": 4,
 "nbformat_minor": 5
}
