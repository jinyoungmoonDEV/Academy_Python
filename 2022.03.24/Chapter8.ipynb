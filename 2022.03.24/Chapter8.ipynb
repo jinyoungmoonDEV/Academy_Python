{
 "cells": [
  {
   "cell_type": "markdown",
   "id": "9ba0747c-2a1c-4731-9828-cf56b5b1dccb",
   "metadata": {},
   "source": [
    "# Chapter8 문자열\n",
    "\n",
    "   - 불변형\n",
    "   - 인데스 가능\n",
    "   - str클래스에서 다양한 문자열 함수"
   ]
  },
  {
   "cell_type": "code",
   "execution_count": 1,
   "id": "13d3d51f-93ac-450e-a29f-02a693aeb897",
   "metadata": {},
   "outputs": [
    {
     "data": {
      "text/plain": [
       "str"
      ]
     },
     "execution_count": 1,
     "metadata": {},
     "output_type": "execute_result"
    }
   ],
   "source": [
    "type('문자')"
   ]
  },
  {
   "cell_type": "code",
   "execution_count": 2,
   "id": "377ab8ea-fed6-4c69-8d54-db5ed859b7ed",
   "metadata": {},
   "outputs": [
    {
     "data": {
      "text/plain": [
       "'안녕하세요 파이썬'"
      ]
     },
     "execution_count": 2,
     "metadata": {},
     "output_type": "execute_result"
    }
   ],
   "source": [
    "s = \"안녕하세요 파이썬\"\n",
    "s"
   ]
  },
  {
   "cell_type": "code",
   "execution_count": 3,
   "id": "b980d7e0-8969-40a5-8d50-fa7f994b1b7a",
   "metadata": {},
   "outputs": [
    {
     "data": {
      "text/plain": [
       "9"
      ]
     },
     "execution_count": 3,
     "metadata": {},
     "output_type": "execute_result"
    }
   ],
   "source": [
    "len(s)"
   ]
  },
  {
   "cell_type": "code",
   "execution_count": 4,
   "id": "906a5089-76a4-4097-a0a9-87e042fb5b01",
   "metadata": {},
   "outputs": [
    {
     "data": {
      "text/plain": [
       "('안', '썬')"
      ]
     },
     "execution_count": 4,
     "metadata": {},
     "output_type": "execute_result"
    }
   ],
   "source": [
    "s[0], s[8]"
   ]
  },
  {
   "cell_type": "code",
   "execution_count": 6,
   "id": "bdc7ddfe-e4cf-47df-8dc6-51b60c9e1fcb",
   "metadata": {},
   "outputs": [
    {
     "data": {
      "text/plain": [
       "' 파이썬'"
      ]
     },
     "execution_count": 6,
     "metadata": {},
     "output_type": "execute_result"
    }
   ],
   "source": [
    "s[-4 :]"
   ]
  },
  {
   "cell_type": "markdown",
   "id": "e7ae23aa-e492-4951-93d0-b970f6b40d05",
   "metadata": {},
   "source": [
    "문자열 결합"
   ]
  },
  {
   "cell_type": "code",
   "execution_count": 7,
   "id": "7fdf08bb-bd45-4272-9494-5755a6fd76db",
   "metadata": {},
   "outputs": [
    {
     "data": {
      "text/plain": [
       "'안녕파이썬'"
      ]
     },
     "execution_count": 7,
     "metadata": {},
     "output_type": "execute_result"
    }
   ],
   "source": [
    "'안녕' + '파이썬'"
   ]
  },
  {
   "cell_type": "code",
   "execution_count": 8,
   "id": "20f6d2f1-1705-4b7c-8b9f-6710648758b7",
   "metadata": {},
   "outputs": [
    {
     "ename": "TypeError",
     "evalue": "unsupported operand type(s) for -: 'str' and 'str'",
     "output_type": "error",
     "traceback": [
      "\u001b[1;31m---------------------------------------------------------------------------\u001b[0m",
      "\u001b[1;31mTypeError\u001b[0m                                 Traceback (most recent call last)",
      "\u001b[1;32m~\\AppData\\Local\\Temp/ipykernel_9064/3033357350.py\u001b[0m in \u001b[0;36m<module>\u001b[1;34m\u001b[0m\n\u001b[1;32m----> 1\u001b[1;33m \u001b[1;34m'안녕'\u001b[0m \u001b[1;33m-\u001b[0m \u001b[1;34m'파이썬'\u001b[0m\u001b[1;33m\u001b[0m\u001b[1;33m\u001b[0m\u001b[0m\n\u001b[0m",
      "\u001b[1;31mTypeError\u001b[0m: unsupported operand type(s) for -: 'str' and 'str'"
     ]
    }
   ],
   "source": [
    "'안녕' - '파이썬'"
   ]
  },
  {
   "cell_type": "code",
   "execution_count": 9,
   "id": "a2153d6e-1413-4eee-8027-a30bd6aaae70",
   "metadata": {},
   "outputs": [
    {
     "data": {
      "text/plain": [
       "'안녕안녕안녕'"
      ]
     },
     "execution_count": 9,
     "metadata": {},
     "output_type": "execute_result"
    }
   ],
   "source": [
    "'안녕' * 3"
   ]
  },
  {
   "cell_type": "code",
   "execution_count": 10,
   "id": "f8d233b7-303b-4d3a-bcdc-04b0472fd299",
   "metadata": {},
   "outputs": [
    {
     "ename": "TypeError",
     "evalue": "can only concatenate str (not \"int\") to str",
     "output_type": "error",
     "traceback": [
      "\u001b[1;31m---------------------------------------------------------------------------\u001b[0m",
      "\u001b[1;31mTypeError\u001b[0m                                 Traceback (most recent call last)",
      "\u001b[1;32m~\\AppData\\Local\\Temp/ipykernel_9064/3056633407.py\u001b[0m in \u001b[0;36m<module>\u001b[1;34m\u001b[0m\n\u001b[1;32m----> 1\u001b[1;33m \u001b[1;34m'안녕'\u001b[0m \u001b[1;33m+\u001b[0m \u001b[1;36m2\u001b[0m\u001b[1;33m\u001b[0m\u001b[1;33m\u001b[0m\u001b[0m\n\u001b[0m",
      "\u001b[1;31mTypeError\u001b[0m: can only concatenate str (not \"int\") to str"
     ]
    }
   ],
   "source": [
    "'안녕' + 2"
   ]
  },
  {
   "cell_type": "code",
   "execution_count": 11,
   "id": "5c0a6677-8973-48d2-8e40-f71c282db1b5",
   "metadata": {},
   "outputs": [
    {
     "data": {
      "text/plain": [
       "'안녕2'"
      ]
     },
     "execution_count": 11,
     "metadata": {},
     "output_type": "execute_result"
    }
   ],
   "source": [
    "'안녕' + str(2)"
   ]
  },
  {
   "cell_type": "code",
   "execution_count": 14,
   "id": "f985e989-f843-4fcf-b20c-f8d82c89c52a",
   "metadata": {},
   "outputs": [
    {
     "name": "stdin",
     "output_type": "stream",
     "text": [
      "문자열을 입력하세요 :  안녕하세요 파이썬\n"
     ]
    },
    {
     "name": "stdout",
     "output_type": "stream",
     "text": [
      "내용을 거꾸로 출력 --> 썬이파 요세하녕안\n"
     ]
    }
   ],
   "source": [
    "intStr, outStr = \"\", \"\"\n",
    "count, i = 0, 0\n",
    "\n",
    "intStr = input(\"문자열을 입력하세요 : \")\n",
    "count = len(intStr)\n",
    "\n",
    "for i in range(0, count) :\n",
    "    outStr += intStr[count - (i + 1)]\n",
    "\n",
    "print(\"내용을 거꾸로 출력 --> %s\" % outStr)"
   ]
  },
  {
   "cell_type": "markdown",
   "id": "948f2f1f-1230-41a7-92a9-83192ec17534",
   "metadata": {},
   "source": [
    "## 객체\n",
    "\n",
    "객체(object)지향 프로그램\n",
    "\n",
    "객체란?\n",
    "  - 이름\n",
    "  - 속성 : 상태값 / 현재 상태의 유지!\n",
    "  - 행위 : 상태를 변경할 수 있는 함수/메서드"
   ]
  },
  {
   "cell_type": "code",
   "execution_count": 16,
   "id": "b6902c40-f081-4c81-800f-b3f33b34acaf",
   "metadata": {},
   "outputs": [],
   "source": [
    "import random  # 모듈!"
   ]
  },
  {
   "cell_type": "code",
   "execution_count": 17,
   "id": "9f7bdabe-c145-4de9-bf98-1f93fc12441b",
   "metadata": {},
   "outputs": [
    {
     "data": {
      "text/plain": [
       "0.2596045602534124"
      ]
     },
     "execution_count": 17,
     "metadata": {},
     "output_type": "execute_result"
    }
   ],
   "source": [
    "# 모듈의 이름 -> 객체\n",
    "# dot 로 접근 :속성, 함수(메서드)\n",
    "random.random()"
   ]
  },
  {
   "cell_type": "markdown",
   "id": "a34f2670-de46-43fa-bbc4-51197283d7cc",
   "metadata": {},
   "source": [
    "### 문자열 클래스"
   ]
  },
  {
   "cell_type": "code",
   "execution_count": 18,
   "id": "5fd2694a-9422-4dd7-afd7-364ec035f54c",
   "metadata": {},
   "outputs": [
    {
     "data": {
      "text/plain": [
       "'Hello'"
      ]
     },
     "execution_count": 18,
     "metadata": {},
     "output_type": "execute_result"
    }
   ],
   "source": [
    "\"Hello\""
   ]
  },
  {
   "cell_type": "code",
   "execution_count": 26,
   "id": "143100a3-c009-468a-8c7b-42507be0f2e5",
   "metadata": {},
   "outputs": [
    {
     "data": {
      "text/plain": [
       "2546710301232"
      ]
     },
     "execution_count": 26,
     "metadata": {},
     "output_type": "execute_result"
    }
   ],
   "source": [
    "id(\"Hello\")"
   ]
  },
  {
   "cell_type": "code",
   "execution_count": 27,
   "id": "20744e9d-bfaf-42bf-8da1-70449fc4d087",
   "metadata": {},
   "outputs": [
    {
     "data": {
      "text/plain": [
       "str"
      ]
     },
     "execution_count": 27,
     "metadata": {},
     "output_type": "execute_result"
    }
   ],
   "source": [
    "type('h')"
   ]
  },
  {
   "cell_type": "code",
   "execution_count": 28,
   "id": "907dc8ce-d23c-4351-b289-2634d88966af",
   "metadata": {},
   "outputs": [],
   "source": [
    "ss = 'Hello Python'"
   ]
  },
  {
   "cell_type": "code",
   "execution_count": 29,
   "id": "1d9f74b4-2c78-4531-81d7-421f78b04673",
   "metadata": {},
   "outputs": [
    {
     "data": {
      "text/plain": [
       "('HELLO PYTHON', 'hello python')"
      ]
     },
     "execution_count": 29,
     "metadata": {},
     "output_type": "execute_result"
    }
   ],
   "source": [
    "ss.upper(), ss.lower()"
   ]
  },
  {
   "cell_type": "code",
   "execution_count": 31,
   "id": "0e17183a-0c1f-44f0-b316-d22c9ce33bc2",
   "metadata": {},
   "outputs": [
    {
     "data": {
      "text/plain": [
       "'hELLO pYTHON'"
      ]
     },
     "execution_count": 31,
     "metadata": {},
     "output_type": "execute_result"
    }
   ],
   "source": [
    "ss.swapcase()"
   ]
  },
  {
   "cell_type": "code",
   "execution_count": 32,
   "id": "55274091-f65b-48d1-96af-6847058d97ee",
   "metadata": {},
   "outputs": [
    {
     "data": {
      "text/plain": [
       "'Hello Python'"
      ]
     },
     "execution_count": 32,
     "metadata": {},
     "output_type": "execute_result"
    }
   ],
   "source": [
    "ss.title()"
   ]
  },
  {
   "cell_type": "code",
   "execution_count": 33,
   "id": "9dfe56b8-deb9-433f-a04b-900a888c08a9",
   "metadata": {},
   "outputs": [],
   "source": [
    "ss = '파이썬 공부는 즐겁습니다. 물론 공부가 재미있지는 않죠'"
   ]
  },
  {
   "cell_type": "code",
   "execution_count": 34,
   "id": "a564eb79-486d-40f7-acc7-dc97ac180744",
   "metadata": {},
   "outputs": [
    {
     "data": {
      "text/plain": [
       "30"
      ]
     },
     "execution_count": 34,
     "metadata": {},
     "output_type": "execute_result"
    }
   ],
   "source": [
    "len(ss)"
   ]
  },
  {
   "cell_type": "code",
   "execution_count": 35,
   "id": "cc132ea1-c4fe-4b36-8199-dd20b049ad40",
   "metadata": {},
   "outputs": [
    {
     "data": {
      "text/plain": [
       "2"
      ]
     },
     "execution_count": 35,
     "metadata": {},
     "output_type": "execute_result"
    }
   ],
   "source": [
    "ss.count('공부')"
   ]
  },
  {
   "cell_type": "code",
   "execution_count": 36,
   "id": "269e5d08-14a5-4a8d-ad02-3b6aa6217fd8",
   "metadata": {},
   "outputs": [
    {
     "data": {
      "text/plain": [
       "4"
      ]
     },
     "execution_count": 36,
     "metadata": {},
     "output_type": "execute_result"
    }
   ],
   "source": [
    "ss.find('공부')"
   ]
  },
  {
   "cell_type": "code",
   "execution_count": 39,
   "id": "e2265e39-2086-43bf-9244-c32b4e42cc6f",
   "metadata": {},
   "outputs": [
    {
     "data": {
      "text/plain": [
       "18"
      ]
     },
     "execution_count": 39,
     "metadata": {},
     "output_type": "execute_result"
    }
   ],
   "source": [
    "ss.rfind('공부')"
   ]
  },
  {
   "cell_type": "code",
   "execution_count": 40,
   "id": "05caae01-09b0-4080-b11a-c47086ee1e20",
   "metadata": {},
   "outputs": [
    {
     "data": {
      "text/plain": [
       "18"
      ]
     },
     "execution_count": 40,
     "metadata": {},
     "output_type": "execute_result"
    }
   ],
   "source": [
    "ss.find('공부', 5)"
   ]
  },
  {
   "cell_type": "code",
   "execution_count": 41,
   "id": "fe073a6c-eb7b-4788-9846-4538d008e538",
   "metadata": {},
   "outputs": [
    {
     "data": {
      "text/plain": [
       "'공부는 즐겁습니다. 물론 공부가 재미있지는 않죠'"
      ]
     },
     "execution_count": 41,
     "metadata": {},
     "output_type": "execute_result"
    }
   ],
   "source": [
    "ss[ss.find('공부'):]"
   ]
  },
  {
   "cell_type": "code",
   "execution_count": 42,
   "id": "06bd0d39-0f2f-4fe2-abd8-3b3b714504e9",
   "metadata": {},
   "outputs": [
    {
     "data": {
      "text/plain": [
       "'공부는 즐겁습니다.'"
      ]
     },
     "execution_count": 42,
     "metadata": {},
     "output_type": "execute_result"
    }
   ],
   "source": [
    "ss[ss.find('공부'):ss.rfind('물론') - 1]"
   ]
  },
  {
   "cell_type": "code",
   "execution_count": 43,
   "id": "527ddbf7-a31a-4500-8ad1-9be826c41ee1",
   "metadata": {},
   "outputs": [
    {
     "data": {
      "text/plain": [
       "4"
      ]
     },
     "execution_count": 43,
     "metadata": {},
     "output_type": "execute_result"
    }
   ],
   "source": [
    "ss.index('공부')"
   ]
  },
  {
   "cell_type": "code",
   "execution_count": 44,
   "id": "ab8ed623-91bd-4913-8804-1b9214b2322b",
   "metadata": {},
   "outputs": [
    {
     "data": {
      "text/plain": [
       "\u001b[1;31mDocstring:\u001b[0m\n",
       "S.index(sub[, start[, end]]) -> int\n",
       "\n",
       "Return the lowest index in S where substring sub is found,\n",
       "such that sub is contained within S[start:end].  Optional\n",
       "arguments start and end are interpreted as in slice notation.\n",
       "\n",
       "Raises ValueError when the substring is not found.\n",
       "\u001b[1;31mType:\u001b[0m      builtin_function_or_method\n"
      ]
     },
     "metadata": {},
     "output_type": "display_data"
    }
   ],
   "source": [
    "ss.index?"
   ]
  },
  {
   "cell_type": "code",
   "execution_count": 45,
   "id": "c97e1f9b-82be-4290-8dd1-9b7c9fd85f96",
   "metadata": {},
   "outputs": [
    {
     "data": {
      "text/plain": [
       "\u001b[1;31mDocstring:\u001b[0m\n",
       "S.find(sub[, start[, end]]) -> int\n",
       "\n",
       "Return the lowest index in S where substring sub is found,\n",
       "such that sub is contained within S[start:end].  Optional\n",
       "arguments start and end are interpreted as in slice notation.\n",
       "\n",
       "Return -1 on failure.\n",
       "\u001b[1;31mType:\u001b[0m      builtin_function_or_method\n"
      ]
     },
     "metadata": {},
     "output_type": "display_data"
    }
   ],
   "source": [
    "ss.find?"
   ]
  },
  {
   "cell_type": "code",
   "execution_count": 46,
   "id": "279670be-3032-47d7-adea-cd39e2a27cee",
   "metadata": {},
   "outputs": [
    {
     "ename": "ValueError",
     "evalue": "substring not found",
     "output_type": "error",
     "traceback": [
      "\u001b[1;31m---------------------------------------------------------------------------\u001b[0m",
      "\u001b[1;31mValueError\u001b[0m                                Traceback (most recent call last)",
      "\u001b[1;32m~\\AppData\\Local\\Temp/ipykernel_9064/938966654.py\u001b[0m in \u001b[0;36m<module>\u001b[1;34m\u001b[0m\n\u001b[1;32m----> 1\u001b[1;33m \u001b[0mss\u001b[0m\u001b[1;33m.\u001b[0m\u001b[0mindex\u001b[0m\u001b[1;33m(\u001b[0m\u001b[1;34m'킹콩'\u001b[0m\u001b[1;33m)\u001b[0m\u001b[1;33m\u001b[0m\u001b[1;33m\u001b[0m\u001b[0m\n\u001b[0m",
      "\u001b[1;31mValueError\u001b[0m: substring not found"
     ]
    }
   ],
   "source": [
    "ss.index('킹콩')"
   ]
  },
  {
   "cell_type": "code",
   "execution_count": 47,
   "id": "df254aa3-c676-496f-90f4-a3e00c81ea8d",
   "metadata": {},
   "outputs": [
    {
     "data": {
      "text/plain": [
       "-1"
      ]
     },
     "execution_count": 47,
     "metadata": {},
     "output_type": "execute_result"
    }
   ],
   "source": [
    "ss.find('킹콩')"
   ]
  },
  {
   "cell_type": "code",
   "execution_count": 48,
   "id": "033c452b-473f-4ce0-b810-5d10098165b1",
   "metadata": {},
   "outputs": [
    {
     "data": {
      "text/plain": [
       "True"
      ]
     },
     "execution_count": 48,
     "metadata": {},
     "output_type": "execute_result"
    }
   ],
   "source": [
    "ss.startswith('파이썬')"
   ]
  },
  {
   "cell_type": "code",
   "execution_count": 49,
   "id": "2595875d-6627-4b6d-af0c-4f4d00ee81ab",
   "metadata": {},
   "outputs": [
    {
     "data": {
      "text/plain": [
       "False"
      ]
     },
     "execution_count": 49,
     "metadata": {},
     "output_type": "execute_result"
    }
   ],
   "source": [
    "ss.endswith('.')"
   ]
  },
  {
   "cell_type": "code",
   "execution_count": null,
   "id": "60eaa188-33d7-450b-b231-b728a25c3fc2",
   "metadata": {},
   "outputs": [],
   "source": [
    "ss = input(\"입력 문자열 ==> \")\n",
    "print(\"출력 문자열 ==> \", end = '')\n",
    "\n",
    "if ss.startswith('(') == False :\n",
    "    print(\"(\", end = '')\n",
    "print(ss, end = '')\n",
    "\n",
    "if ss.endwith(')') == False :\n",
    "    print(\")\", end = '')"
   ]
  },
  {
   "cell_type": "code",
   "execution_count": 15,
   "id": "7517e65b-c3ef-4a9a-ad06-1bc15b120ad7",
   "metadata": {},
   "outputs": [
    {
     "data": {
      "text/plain": [
       "'파 이 썬'"
      ]
     },
     "execution_count": 15,
     "metadata": {},
     "output_type": "execute_result"
    }
   ],
   "source": [
    "ss = ' 파 이 썬 '\n",
    "ss.strip()"
   ]
  },
  {
   "cell_type": "code",
   "execution_count": 16,
   "id": "640f8b1f-c7f3-4689-95fe-068633418616",
   "metadata": {},
   "outputs": [
    {
     "data": {
      "text/plain": [
       "' 파 이 썬'"
      ]
     },
     "execution_count": 16,
     "metadata": {},
     "output_type": "execute_result"
    }
   ],
   "source": [
    "ss.rstrip()"
   ]
  },
  {
   "cell_type": "code",
   "execution_count": 17,
   "id": "51932c91-5bf0-4af6-8ba4-870e55877959",
   "metadata": {},
   "outputs": [
    {
     "data": {
      "text/plain": [
       "'파 이 썬 '"
      ]
     },
     "execution_count": 17,
     "metadata": {},
     "output_type": "execute_result"
    }
   ],
   "source": [
    "ss.lstrip()"
   ]
  },
  {
   "cell_type": "code",
   "execution_count": 26,
   "id": "5314eb21-3ea2-42c2-ad8b-c77d5645286d",
   "metadata": {},
   "outputs": [
    {
     "name": "stdout",
     "output_type": "stream",
     "text": [
      "파---이---썬\n"
     ]
    }
   ],
   "source": [
    "ss = '----파---이---썬----'\n",
    "print(ss.strip('-'))"
   ]
  },
  {
   "cell_type": "code",
   "execution_count": 27,
   "id": "15b46981-cdf2-4988-85f0-e22694211708",
   "metadata": {},
   "outputs": [
    {
     "name": "stdout",
     "output_type": "stream",
     "text": [
      "파 << 이 >> 썬\n"
     ]
    }
   ],
   "source": [
    "ss = '<<<파 << 이 >> 썬>>>'\n",
    "print(ss.strip('<>'))"
   ]
  },
  {
   "cell_type": "code",
   "execution_count": 44,
   "id": "985bdfd7-8cb4-4ce9-bc25-be63ed2680e5",
   "metadata": {},
   "outputs": [
    {
     "name": "stdout",
     "output_type": "stream",
     "text": [
      "원래 문자열 ==> [ 한글 Python 프로그래밍 ]\n",
      "공백 삭제 문자열 ==> [한글Python프로그래밍]\n"
     ]
    }
   ],
   "source": [
    "intStr = \" 한글 Python 프로그래밍 \"\n",
    "outStr = \"\"\n",
    "\n",
    "for i in range(0, len(intStr)) :\n",
    "    if intStr[i] != ' ' :\n",
    "        outStr += intStr[i]\n",
    "print(\"원래 문자열 ==> \"+'[' + intStr +']')\n",
    "print(\"공백 삭제 문자열 ==> \"+'[' + outStr +']')"
   ]
  },
  {
   "cell_type": "code",
   "execution_count": 34,
   "id": "682a359e-9a59-46e7-96a4-5d642753c139",
   "metadata": {},
   "outputs": [],
   "source": [
    "ss = '파이썬 프로그래밍'"
   ]
  },
  {
   "cell_type": "code",
   "execution_count": 41,
   "id": "723557a6-7460-45ca-b520-b45d0060ccc9",
   "metadata": {},
   "outputs": [
    {
     "data": {
      "text/plain": [
       "'Python 프로그래밍'"
      ]
     },
     "execution_count": 41,
     "metadata": {},
     "output_type": "execute_result"
    }
   ],
   "source": [
    "ss.replace('파이썬', 'Python')"
   ]
  },
  {
   "cell_type": "code",
   "execution_count": 45,
   "id": "5c425b31-2eb2-4d09-9dbe-4cf27b088c2f",
   "metadata": {},
   "outputs": [],
   "source": [
    "# split\n",
    "ss = 'Python을 공부 하 느 는 거 은 재밌어'"
   ]
  },
  {
   "cell_type": "code",
   "execution_count": 46,
   "id": "0c0f7b5d-c364-442b-ad7d-87d62b045727",
   "metadata": {},
   "outputs": [
    {
     "data": {
      "text/plain": [
       "['Python을', '공부', '하', '느', '는', '거', '은', '재밌어']"
      ]
     },
     "execution_count": 46,
     "metadata": {},
     "output_type": "execute_result"
    }
   ],
   "source": [
    "ss.split() #구분자: ' '"
   ]
  },
  {
   "cell_type": "code",
   "execution_count": 47,
   "id": "62253a4d-4004-49e2-9e54-9104181a7bcf",
   "metadata": {},
   "outputs": [],
   "source": [
    "ss = 'a:b:c:d;f;k;'"
   ]
  },
  {
   "cell_type": "code",
   "execution_count": 48,
   "id": "077322fe-ff31-4163-8d93-f64e1eb54ff5",
   "metadata": {},
   "outputs": [
    {
     "data": {
      "text/plain": [
       "['a', 'b', 'c', 'd;f;k;']"
      ]
     },
     "execution_count": 48,
     "metadata": {},
     "output_type": "execute_result"
    }
   ],
   "source": [
    "ss.split(sep=':')"
   ]
  },
  {
   "cell_type": "code",
   "execution_count": 49,
   "id": "b00f2414-4fbd-4cec-9d20-91200f46da27",
   "metadata": {},
   "outputs": [
    {
     "data": {
      "text/plain": [
       "['a', 'b', 'c', 'd;f;k;']"
      ]
     },
     "execution_count": 49,
     "metadata": {},
     "output_type": "execute_result"
    }
   ],
   "source": [
    "ss.split(':')"
   ]
  },
  {
   "cell_type": "code",
   "execution_count": 51,
   "id": "caa8871d-5ce0-40ae-b914-44588e2e85ec",
   "metadata": {},
   "outputs": [
    {
     "data": {
      "text/plain": [
       "['안녕하세요.', '파이썬 재밌어요.']"
      ]
     },
     "execution_count": 51,
     "metadata": {},
     "output_type": "execute_result"
    }
   ],
   "source": [
    "ss = \"\"\"안녕하세요.\n",
    "파이썬 재밌어요.\"\"\"\n",
    "ss.splitlines()"
   ]
  },
  {
   "cell_type": "code",
   "execution_count": 52,
   "id": "fbfca8a4-7ddd-4165-b821-5c1c9d8b4ef5",
   "metadata": {},
   "outputs": [
    {
     "data": {
      "text/plain": [
       "['안녕하세요.', '파이썬 재밌어요.']"
      ]
     },
     "execution_count": 52,
     "metadata": {},
     "output_type": "execute_result"
    }
   ],
   "source": [
    "ss.split(sep='\\n')"
   ]
  },
  {
   "cell_type": "code",
   "execution_count": 53,
   "id": "eea9d32f-381e-4931-b599-55e49d817e5f",
   "metadata": {},
   "outputs": [],
   "source": [
    "ss = '%'"
   ]
  },
  {
   "cell_type": "code",
   "execution_count": 54,
   "id": "6626cb9c-5aae-477b-bd5e-1d7fe526a0a8",
   "metadata": {},
   "outputs": [
    {
     "data": {
      "text/plain": [
       "'파%이%썬% %재%밌%어%요'"
      ]
     },
     "execution_count": 54,
     "metadata": {},
     "output_type": "execute_result"
    }
   ],
   "source": [
    "ss.join('파이썬 재밌어요')"
   ]
  },
  {
   "cell_type": "code",
   "execution_count": 55,
   "id": "f95ca87f-3a0a-4aa6-9efd-57dbc4a8f6e3",
   "metadata": {},
   "outputs": [
    {
     "name": "stdin",
     "output_type": "stream",
     "text": [
      "날짜(연/월/일) 입력 ==>  2022/03/24\n"
     ]
    },
    {
     "name": "stdout",
     "output_type": "stream",
     "text": [
      "입력한 날짜의 10년후 ==> 2032년03월24일\n"
     ]
    }
   ],
   "source": [
    "ss = input(\"날짜(연/월/일) 입력 ==> \")\n",
    "\n",
    "ssList = ss.split('/')\n",
    "\n",
    "print(\"입력한 날짜의 10년후 ==> \", end ='')\n",
    "print(str(int(ssList[0]) + 10) + \"년\", end = '')\n",
    "print(ssList[1] + \"월\", end ='')\n",
    "print(ssList[2] + \"일\")"
   ]
  },
  {
   "cell_type": "markdown",
   "id": "eca59711-674c-4204-976f-5d4a1951abdc",
   "metadata": {},
   "source": []
  },
  {
   "cell_type": "code",
   "execution_count": 56,
   "id": "f127dc08-afbf-4b57-b241-1907576b2626",
   "metadata": {},
   "outputs": [
    {
     "data": {
      "text/plain": [
       "['1', '3', '4', '5']"
      ]
     },
     "execution_count": 56,
     "metadata": {},
     "output_type": "execute_result"
    }
   ],
   "source": [
    "list(map(str, [1,3,4,5]))"
   ]
  },
  {
   "cell_type": "code",
   "execution_count": 57,
   "id": "0079c7aa-54ed-438a-8edd-df642864798b",
   "metadata": {},
   "outputs": [
    {
     "data": {
      "text/plain": [
       "[12.0, 3.0, 4.0, 5.0]"
      ]
     },
     "execution_count": 57,
     "metadata": {},
     "output_type": "execute_result"
    }
   ],
   "source": [
    "list(map(float, [12,3,4,5]))"
   ]
  },
  {
   "cell_type": "code",
   "execution_count": 59,
   "id": "4fb2e9f6-1653-4695-a976-0701df92e900",
   "metadata": {},
   "outputs": [
    {
     "data": {
      "text/plain": [
       "'   파이선    '"
      ]
     },
     "execution_count": 59,
     "metadata": {},
     "output_type": "execute_result"
    }
   ],
   "source": [
    "ss = '파이선'\n",
    "ss.center(10)"
   ]
  },
  {
   "cell_type": "code",
   "execution_count": 60,
   "id": "653d5367-dc50-4760-95ce-cfc452e81240",
   "metadata": {},
   "outputs": [
    {
     "data": {
      "text/plain": [
       "'---파이선----'"
      ]
     },
     "execution_count": 60,
     "metadata": {},
     "output_type": "execute_result"
    }
   ],
   "source": [
    "ss.center(10, '-')"
   ]
  },
  {
   "cell_type": "code",
   "execution_count": 61,
   "id": "5f4d5f67-9387-45a5-aaf9-36b2163420c8",
   "metadata": {},
   "outputs": [
    {
     "data": {
      "text/plain": [
       "'파이선       '"
      ]
     },
     "execution_count": 61,
     "metadata": {},
     "output_type": "execute_result"
    }
   ],
   "source": [
    "ss.ljust(10)"
   ]
  },
  {
   "cell_type": "code",
   "execution_count": 62,
   "id": "1650cfcb-4e02-49d7-8061-43d37109c1ed",
   "metadata": {},
   "outputs": [
    {
     "data": {
      "text/plain": [
       "'       파이선'"
      ]
     },
     "execution_count": 62,
     "metadata": {},
     "output_type": "execute_result"
    }
   ],
   "source": [
    "ss.rjust(10)"
   ]
  },
  {
   "cell_type": "code",
   "execution_count": 63,
   "id": "2c0e0d7e-7189-4dad-bc72-89a6c5f39cc8",
   "metadata": {},
   "outputs": [
    {
     "data": {
      "text/plain": [
       "'0000000파이선'"
      ]
     },
     "execution_count": 63,
     "metadata": {},
     "output_type": "execute_result"
    }
   ],
   "source": [
    "ss.zfill(10)"
   ]
  },
  {
   "cell_type": "code",
   "execution_count": 64,
   "id": "03b980b1-c64c-4428-bb45-5159b6bfb9b7",
   "metadata": {},
   "outputs": [
    {
     "data": {
      "text/plain": [
       "True"
      ]
     },
     "execution_count": 64,
     "metadata": {},
     "output_type": "execute_result"
    }
   ],
   "source": [
    "'1234'.isdigit()"
   ]
  },
  {
   "cell_type": "code",
   "execution_count": 66,
   "id": "bebe8379-fae3-4659-85fc-18ef4f6eedf0",
   "metadata": {},
   "outputs": [
    {
     "data": {
      "text/plain": [
       "False"
      ]
     },
     "execution_count": 66,
     "metadata": {},
     "output_type": "execute_result"
    }
   ],
   "source": [
    "'문자'.isdigit()"
   ]
  },
  {
   "cell_type": "code",
   "execution_count": 67,
   "id": "277964e6-1e06-4efd-b5e9-0331a41e4e06",
   "metadata": {},
   "outputs": [
    {
     "data": {
      "text/plain": [
       "True"
      ]
     },
     "execution_count": 67,
     "metadata": {},
     "output_type": "execute_result"
    }
   ],
   "source": [
    "'문자'.isalpha()"
   ]
  },
  {
   "cell_type": "code",
   "execution_count": 68,
   "id": "1079571a-8b48-4c40-abcf-9788e03c3e65",
   "metadata": {},
   "outputs": [
    {
     "data": {
      "text/plain": [
       "True"
      ]
     },
     "execution_count": 68,
     "metadata": {},
     "output_type": "execute_result"
    }
   ],
   "source": [
    "'문자'.isalnum()"
   ]
  },
  {
   "cell_type": "code",
   "execution_count": 69,
   "id": "0d5ca1d1-3fce-45bf-b8da-ffca524250fa",
   "metadata": {},
   "outputs": [
    {
     "data": {
      "text/plain": [
       "(65, 97)"
      ]
     },
     "execution_count": 69,
     "metadata": {},
     "output_type": "execute_result"
    }
   ],
   "source": [
    "ord('A'), ord('a')"
   ]
  },
  {
   "cell_type": "code",
   "execution_count": 70,
   "id": "33314662-685e-4647-933c-1eb29ec9fc6f",
   "metadata": {},
   "outputs": [
    {
     "data": {
      "text/plain": [
       "(12593, 55007)"
      ]
     },
     "execution_count": 70,
     "metadata": {},
     "output_type": "execute_result"
    }
   ],
   "source": [
    "ord('ㄱ'), ord('훟')"
   ]
  },
  {
   "cell_type": "markdown",
   "id": "d6daf20c-7687-4267-ac16-72ccac6df790",
   "metadata": {},
   "source": [
    "# P250 연습문제"
   ]
  },
  {
   "cell_type": "code",
   "execution_count": 79,
   "id": "272a5c0a-6e6c-41bb-9f63-156cb949d3e3",
   "metadata": {},
   "outputs": [
    {
     "name": "stdout",
     "output_type": "stream",
     "text": [
      "한글/영문자만 남김 --> 파이썬CookBook열공중\n"
     ]
    }
   ],
   "source": [
    "inStr = '파이썬 ### CookBook $$$ @@@ 열공중 1234'\n",
    "outStr= ''\n",
    "\n",
    "for i in range(0, len(inStr)) : \n",
    "    if inStr[i].isalpha() == True :\n",
    "       outStr += inStr[i]\n",
    "       \n",
    "print('한글/영문자만 남김 --> ' + outStr)"
   ]
  },
  {
   "cell_type": "code",
   "execution_count": 83,
   "id": "f04afbf6-149e-41b1-9137-87d9993170ac",
   "metadata": {},
   "outputs": [
    {
     "name": "stdin",
     "output_type": "stream",
     "text": [
      "문자열을 입력하세요 :  ㅁㄴㅇㅁㄴㄴㅁㅇㅁㅇ\n"
     ]
    },
    {
     "name": "stdout",
     "output_type": "stream",
     "text": [
      "대문자 : \n",
      "소문자 : \n",
      "숫자 : \n",
      "한글 : \n",
      "기타 : ㅁㄴㅇㅁㄴㄴㅁㅇㅁㅇ\n"
     ]
    }
   ],
   "source": [
    "numStr, lowerStr, upperStr, hanStr, etcStr = [''] * 5\n",
    "ch = \"\"\n",
    "\n",
    "inStr = input(\"문자열을 입력하세요 : \")\n",
    "for ch in inStr :\n",
    "    if(ord(ch) >= ord(\"A\") and ord(ch) <= ord(\"Z\")) :\n",
    "        upperStr += ch\n",
    "    elif(ord(ch) >= ord(\"a\") and ord(ch) <= ord(\"z\")) :\n",
    "        lowerStr += ch\n",
    "    elif(ord(ch) >= ord(\"0\") and ord(ch) <= ord(\"9\")) :\n",
    "        numStr += ch\n",
    "    elif(ord(ch) >= ord(\"가\") and ord(ch) <= ord(\"힣\")) :\n",
    "        hanStr += ch\n",
    "    else : \n",
    "        etcStr += ch\n",
    "print(\"대문자 :\", upperStr)\n",
    "print(\"소문자 :\", lowerStr)\n",
    "print(\"숫자 :\", numStr)\n",
    "print(\"한글 :\", hanStr)\n",
    "print(\"기타 :\", etcStr)"
   ]
  },
  {
   "cell_type": "code",
   "execution_count": null,
   "id": "ae08d76a-0aef-4470-bdb8-c19e22416e20",
   "metadata": {},
   "outputs": [],
   "source": []
  },
  {
   "cell_type": "code",
   "execution_count": null,
   "id": "728345f7-b099-420d-ac70-14f3221a5c10",
   "metadata": {},
   "outputs": [],
   "source": []
  },
  {
   "cell_type": "code",
   "execution_count": null,
   "id": "50772287-80c5-45ac-beaa-98d23df968a1",
   "metadata": {},
   "outputs": [],
   "source": []
  },
  {
   "cell_type": "code",
   "execution_count": null,
   "id": "b13216f3-288b-4edf-a2dc-f70e647ca3a9",
   "metadata": {},
   "outputs": [],
   "source": []
  },
  {
   "cell_type": "code",
   "execution_count": null,
   "id": "f697edaf-9b5a-4f44-bed5-46977a90e90c",
   "metadata": {},
   "outputs": [],
   "source": []
  },
  {
   "cell_type": "code",
   "execution_count": null,
   "id": "02bbdf9d-5aa7-4f31-a826-c4fd3793e949",
   "metadata": {},
   "outputs": [],
   "source": []
  },
  {
   "cell_type": "code",
   "execution_count": null,
   "id": "35069fab-9e5b-4167-a0b5-33bbeae7d71d",
   "metadata": {},
   "outputs": [],
   "source": []
  },
  {
   "cell_type": "code",
   "execution_count": null,
   "id": "9bba1508-4495-49e4-8d05-07c7fc9a52e8",
   "metadata": {},
   "outputs": [],
   "source": []
  },
  {
   "cell_type": "code",
   "execution_count": null,
   "id": "16afb98c-90b0-438b-9e11-317bd215413b",
   "metadata": {},
   "outputs": [],
   "source": []
  },
  {
   "cell_type": "code",
   "execution_count": null,
   "id": "8ee4dd12-7463-48a5-845a-a25121a18d00",
   "metadata": {},
   "outputs": [],
   "source": []
  }
 ],
 "metadata": {
  "kernelspec": {
   "display_name": "Python 3 (ipykernel)",
   "language": "python",
   "name": "python3"
  },
  "language_info": {
   "codemirror_mode": {
    "name": "ipython",
    "version": 3
   },
   "file_extension": ".py",
   "mimetype": "text/x-python",
   "name": "python",
   "nbconvert_exporter": "python",
   "pygments_lexer": "ipython3",
   "version": "3.9.7"
  }
 },
 "nbformat": 4,
 "nbformat_minor": 5
}
