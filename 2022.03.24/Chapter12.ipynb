{
 "cells": [
  {
   "cell_type": "markdown",
   "id": "766f5c4d-feca-45da-b841-77de0bdd4bcb",
   "metadata": {},
   "source": [
    "# Chapter12"
   ]
  },
  {
   "cell_type": "code",
   "execution_count": 14,
   "id": "57ba49aa-c5c0-4859-a0f9-00b19b2ee835",
   "metadata": {},
   "outputs": [],
   "source": [
    "class Car :\n",
    "    color = \"\"\n",
    "    speed = 0\n",
    "    \n",
    "    def upSpeed(self, value) :\n",
    "        self.speed += value\n",
    "        \n",
    "    def downSpeed(self, value) :\n",
    "        self.speed -= value\n",
    "    def print(self): \n",
    "        print(\"Car class\")"
   ]
  },
  {
   "cell_type": "code",
   "execution_count": 2,
   "id": "f699f1c0-6d61-4232-a478-194faac3c741",
   "metadata": {},
   "outputs": [
    {
     "data": {
      "text/plain": [
       "__main__.Car"
      ]
     },
     "execution_count": 2,
     "metadata": {},
     "output_type": "execute_result"
    }
   ],
   "source": [
    "Car"
   ]
  },
  {
   "cell_type": "code",
   "execution_count": 3,
   "id": "778bf746-8b86-4eac-a80a-e540b5bec5db",
   "metadata": {},
   "outputs": [
    {
     "data": {
      "text/plain": [
       "type"
      ]
     },
     "execution_count": 3,
     "metadata": {},
     "output_type": "execute_result"
    }
   ],
   "source": [
    "type(Car)"
   ]
  },
  {
   "cell_type": "code",
   "execution_count": 8,
   "id": "6388a26a-2bad-438b-87b2-1e90c28cca5e",
   "metadata": {},
   "outputs": [],
   "source": [
    "myCar1 = Car()\n",
    "myCar2 = Car()\n",
    "myCar3 = Car()"
   ]
  },
  {
   "cell_type": "code",
   "execution_count": 6,
   "id": "02d4ee8d-b37e-4ed0-b6de-74bace4c28b8",
   "metadata": {},
   "outputs": [
    {
     "data": {
      "text/plain": [
       "__main__.Car"
      ]
     },
     "execution_count": 6,
     "metadata": {},
     "output_type": "execute_result"
    }
   ],
   "source": [
    "type(myCar1)"
   ]
  },
  {
   "cell_type": "code",
   "execution_count": 7,
   "id": "6c23adc8-e080-4481-a2e1-e65a8f31962d",
   "metadata": {},
   "outputs": [
    {
     "data": {
      "text/plain": [
       "<__main__.Car at 0x256e38bd280>"
      ]
     },
     "execution_count": 7,
     "metadata": {},
     "output_type": "execute_result"
    }
   ],
   "source": [
    "myCar1"
   ]
  },
  {
   "cell_type": "code",
   "execution_count": 12,
   "id": "3a7adbd5-dd7a-404a-996b-e52df7734979",
   "metadata": {},
   "outputs": [],
   "source": [
    "myCar1.color = \"빨강\"\n",
    "myCar1.speed = 0\n",
    "myCar2.color = \"파랑\"\n",
    "myCar2.speed = 0\n",
    "myCar3.color = \"노랑\"\n",
    "myCar3.speed = 0"
   ]
  },
  {
   "cell_type": "code",
   "execution_count": 13,
   "id": "44404de7-8663-49d4-937e-e6f4e2113bcf",
   "metadata": {},
   "outputs": [
    {
     "name": "stdout",
     "output_type": "stream",
     "text": [
      "자동차1의 색상은 빨강이며, 현재속도는 30km 입니다.\n",
      "자동차2의 색상은 파랑이며, 현재속도는 30km 입니다.\n",
      "자동차3의 색상은 노랑이며, 현재속도는 30km 입니다.\n"
     ]
    }
   ],
   "source": [
    "myCar1.upSpeed(30)\n",
    "print(\"자동차1의 색상은 %s이며, 현재속도는 %dkm 입니다.\" % (myCar1.color, myCar1.speed))\n",
    "\n",
    "myCar2.upSpeed(30)\n",
    "print(\"자동차2의 색상은 %s이며, 현재속도는 %dkm 입니다.\" % (myCar2.color, myCar2.speed))\n",
    "\n",
    "myCar3.upSpeed(30)\n",
    "print(\"자동차3의 색상은 %s이며, 현재속도는 %dkm 입니다.\" % (myCar3.color, myCar3.speed))"
   ]
  },
  {
   "cell_type": "markdown",
   "id": "6d0fe58d-1124-41e6-8cc0-b980235ab13d",
   "metadata": {},
   "source": [
    "생성자"
   ]
  },
  {
   "cell_type": "code",
   "execution_count": 16,
   "id": "dcfffc5b-9106-42fe-bb2f-1e8f57e3baed",
   "metadata": {},
   "outputs": [],
   "source": [
    "class Car :\n",
    "    color = \"\"\n",
    "    speed = 0\n",
    "    #생성자\n",
    "    def __init__(self) :\n",
    "        self.color = '빨강'\n",
    "        self.speed = 0\n",
    "        \n",
    "    def upSpeed(self, value) :\n",
    "        self.speed += value\n",
    "        \n",
    "    def downSpeed(self, value) :\n",
    "        self.speed -= value\n",
    "    def print(self): \n",
    "        print(\"Car class\")"
   ]
  },
  {
   "cell_type": "code",
   "execution_count": 17,
   "id": "cdba8f06-deef-47a4-a3f9-36998e205793",
   "metadata": {},
   "outputs": [
    {
     "name": "stdout",
     "output_type": "stream",
     "text": [
      "빨강 빨강\n"
     ]
    }
   ],
   "source": [
    "car1 = Car()\n",
    "car2 = Car()\n",
    "\n",
    "print(car1.color, car2.color)"
   ]
  },
  {
   "cell_type": "markdown",
   "id": "bd7f60ce-492f-4519-9078-65fa1f088ad7",
   "metadata": {},
   "source": [
    "매개변수가 있는 생성자"
   ]
  },
  {
   "cell_type": "code",
   "execution_count": 19,
   "id": "2e081878-a6fa-44fe-b306-a53d876bcefa",
   "metadata": {},
   "outputs": [],
   "source": [
    "class Car :\n",
    "    color = \"\"\n",
    "    speed = 0\n",
    "    #생성자\n",
    "    def __init__(self,v1,v2) :\n",
    "        self.color = v1\n",
    "        self.speed = v2\n",
    "        \n",
    "    def upSpeed(self, value) :\n",
    "        self.speed += value\n",
    "        \n",
    "    def downSpeed(self, value) :\n",
    "        self.speed -= value\n",
    "    def print(self): \n",
    "        print(self.color, self.speed)"
   ]
  },
  {
   "cell_type": "code",
   "execution_count": 22,
   "id": "495debc1-c391-4554-a366-ff2144a26f74",
   "metadata": {},
   "outputs": [],
   "source": [
    "car1 = Car(\"노랑\", 0)\n",
    "car2 = Car(\"오렌지\",0)"
   ]
  },
  {
   "cell_type": "code",
   "execution_count": 23,
   "id": "d2487eb3-9de1-4510-9989-4b5276c9516b",
   "metadata": {},
   "outputs": [
    {
     "name": "stdout",
     "output_type": "stream",
     "text": [
      "노랑 0\n",
      "오렌지 0\n"
     ]
    },
    {
     "data": {
      "text/plain": [
       "(None, None)"
      ]
     },
     "execution_count": 23,
     "metadata": {},
     "output_type": "execute_result"
    }
   ],
   "source": [
    "car1.print(), car2.print()"
   ]
  },
  {
   "cell_type": "markdown",
   "id": "5c9e049e-bc62-4b20-8d44-aa05a9a306be",
   "metadata": {},
   "source": [
    "인스턴스 변수/클래스 변수(파이썬)"
   ]
  },
  {
   "cell_type": "code",
   "execution_count": 25,
   "id": "e5739404-4adc-4706-8998-95e5bc484bcb",
   "metadata": {},
   "outputs": [],
   "source": [
    "class Car :\n",
    "    color = \"\"\n",
    "    speed = 0\n",
    "    count = 0 #클래스 변수 (영역)\n",
    "    #생성자\n",
    "    def __init__(self) :\n",
    "        self.speed = 0\n",
    "        Car.count += 1\n",
    "        \n",
    "    def upSpeed(self, value) :\n",
    "        self.speed += value\n",
    "        \n",
    "    def downSpeed(self, value) :\n",
    "        self.speed -= value\n",
    "    def print(self): \n",
    "        print(self.color, self.speed)"
   ]
  },
  {
   "cell_type": "code",
   "execution_count": 34,
   "id": "b0f99db2-906f-419a-8da8-dd4c4b9412d4",
   "metadata": {},
   "outputs": [],
   "source": [
    "car1 = Car()\n",
    "car1.speed = 30"
   ]
  },
  {
   "cell_type": "code",
   "execution_count": 31,
   "id": "ca177f20-7e6f-453d-b537-4a71079858f2",
   "metadata": {},
   "outputs": [
    {
     "data": {
      "text/plain": [
       "30"
      ]
     },
     "execution_count": 31,
     "metadata": {},
     "output_type": "execute_result"
    }
   ],
   "source": [
    "car1.speed"
   ]
  },
  {
   "cell_type": "code",
   "execution_count": 35,
   "id": "b7ee3129-5ca8-4b82-a946-a279328dc833",
   "metadata": {},
   "outputs": [
    {
     "data": {
      "text/plain": [
       "4"
      ]
     },
     "execution_count": 35,
     "metadata": {},
     "output_type": "execute_result"
    }
   ],
   "source": [
    "Car.count"
   ]
  },
  {
   "cell_type": "code",
   "execution_count": 36,
   "id": "97046d85-2940-44a7-b46b-59988d53ed4a",
   "metadata": {},
   "outputs": [
    {
     "data": {
      "text/plain": [
       "4"
      ]
     },
     "execution_count": 36,
     "metadata": {},
     "output_type": "execute_result"
    }
   ],
   "source": [
    "car1.count"
   ]
  },
  {
   "cell_type": "code",
   "execution_count": 37,
   "id": "4fd12e6a-bb60-4215-871f-3db13e3c49a9",
   "metadata": {},
   "outputs": [],
   "source": [
    "car2 = Car()\n",
    "car2.speed = 60"
   ]
  },
  {
   "cell_type": "code",
   "execution_count": 38,
   "id": "a47a8084-875e-4324-a3b1-5a9d27b2ff69",
   "metadata": {},
   "outputs": [
    {
     "data": {
      "text/plain": [
       "60"
      ]
     },
     "execution_count": 38,
     "metadata": {},
     "output_type": "execute_result"
    }
   ],
   "source": [
    "car2.speed"
   ]
  },
  {
   "cell_type": "code",
   "execution_count": 39,
   "id": "018a581d-e124-4abe-9ba0-91dea5297d48",
   "metadata": {},
   "outputs": [
    {
     "data": {
      "text/plain": [
       "5"
      ]
     },
     "execution_count": 39,
     "metadata": {},
     "output_type": "execute_result"
    }
   ],
   "source": [
    "car2.count"
   ]
  },
  {
   "cell_type": "code",
   "execution_count": 40,
   "id": "f7e8d7e8-1c7e-4811-8114-627a8f2e2c64",
   "metadata": {},
   "outputs": [
    {
     "data": {
      "text/plain": [
       "5"
      ]
     },
     "execution_count": 40,
     "metadata": {},
     "output_type": "execute_result"
    }
   ],
   "source": [
    "car1.count"
   ]
  },
  {
   "cell_type": "code",
   "execution_count": 41,
   "id": "4a537690-487b-4079-be4c-8d8860c97eaf",
   "metadata": {},
   "outputs": [],
   "source": [
    "car2.count = 1000"
   ]
  },
  {
   "cell_type": "code",
   "execution_count": 42,
   "id": "04d9b998-3277-42fc-88b3-e851cfab62af",
   "metadata": {},
   "outputs": [
    {
     "data": {
      "text/plain": [
       "5"
      ]
     },
     "execution_count": 42,
     "metadata": {},
     "output_type": "execute_result"
    }
   ],
   "source": [
    "car1.count"
   ]
  },
  {
   "cell_type": "code",
   "execution_count": 43,
   "id": "62e44b68-13cc-43e5-8bba-1956e4c8cb20",
   "metadata": {},
   "outputs": [
    {
     "data": {
      "text/plain": [
       "5"
      ]
     },
     "execution_count": 43,
     "metadata": {},
     "output_type": "execute_result"
    }
   ],
   "source": [
    "Car.count"
   ]
  },
  {
   "cell_type": "markdown",
   "id": "41ca1f0e-eeb0-4293-a149-d0af27a22ad0",
   "metadata": {},
   "source": [
    "상속"
   ]
  },
  {
   "cell_type": "code",
   "execution_count": 45,
   "id": "29716dad-6acb-47e1-921f-fc5845129038",
   "metadata": {},
   "outputs": [],
   "source": [
    "class Car :\n",
    "    speed = 0\n",
    "    \n",
    "    def upspeed(self, v) :\n",
    "        self.speed += v\n",
    "        print('속도', self.speed)"
   ]
  },
  {
   "cell_type": "code",
   "execution_count": 46,
   "id": "ee5bd0ac-3bee-4578-9db2-2134a02763cf",
   "metadata": {},
   "outputs": [],
   "source": [
    "class Sedan(Car) :\n",
    "    def upspeed(self, v) :\n",
    "        self.speed += v\n",
    "        \n",
    "        if self.speed > 150 :\n",
    "            self.speed = 150"
   ]
  },
  {
   "cell_type": "code",
   "execution_count": 47,
   "id": "72434353-1f64-440b-aa56-033a9f4e001f",
   "metadata": {},
   "outputs": [],
   "source": [
    "class Truck(Car) :\n",
    "    pass"
   ]
  },
  {
   "cell_type": "code",
   "execution_count": 49,
   "id": "c08793af-e360-49fd-a4f4-86acc5b7b3d8",
   "metadata": {},
   "outputs": [],
   "source": [
    "truck1 = Truck()\n",
    "sedan1 = Sedan()"
   ]
  },
  {
   "cell_type": "code",
   "execution_count": 50,
   "id": "fc6eb463-cbde-4f97-ba8d-9b2c5a034657",
   "metadata": {},
   "outputs": [
    {
     "name": "stdout",
     "output_type": "stream",
     "text": [
      "속도 100\n"
     ]
    }
   ],
   "source": [
    "truck1.upspeed(100)"
   ]
  },
  {
   "cell_type": "code",
   "execution_count": 54,
   "id": "66fb7129-9559-44ad-86bd-a2cac2a457eb",
   "metadata": {},
   "outputs": [],
   "source": [
    "sedan1.upspeed(300)"
   ]
  },
  {
   "cell_type": "code",
   "execution_count": null,
   "id": "69522ce4-8b71-45d8-aae9-7bae17922838",
   "metadata": {},
   "outputs": [],
   "source": []
  },
  {
   "cell_type": "code",
   "execution_count": null,
   "id": "381bb016-db4c-44b0-8b84-678c48b3e2fb",
   "metadata": {},
   "outputs": [],
   "source": []
  },
  {
   "cell_type": "code",
   "execution_count": null,
   "id": "ede87784-cd55-4135-9e6a-772c78538cae",
   "metadata": {},
   "outputs": [],
   "source": []
  },
  {
   "cell_type": "code",
   "execution_count": null,
   "id": "e9f32d6f-cbc0-4905-8116-85c5df3b2609",
   "metadata": {},
   "outputs": [],
   "source": []
  },
  {
   "cell_type": "code",
   "execution_count": null,
   "id": "0874a4e3-a9cf-4bb0-aacd-33ed2b2551db",
   "metadata": {},
   "outputs": [],
   "source": []
  },
  {
   "cell_type": "code",
   "execution_count": null,
   "id": "99ac602d-635b-4961-8da4-3ce4789da201",
   "metadata": {},
   "outputs": [],
   "source": []
  },
  {
   "cell_type": "code",
   "execution_count": null,
   "id": "937ca8e7-919c-49ec-992d-c06aa94e68cf",
   "metadata": {},
   "outputs": [],
   "source": []
  },
  {
   "cell_type": "code",
   "execution_count": null,
   "id": "1f94aa53-018b-4a8d-9f31-917bea9efe62",
   "metadata": {},
   "outputs": [],
   "source": []
  },
  {
   "cell_type": "code",
   "execution_count": null,
   "id": "bb9e0f4e-0bd0-4c01-841e-27b3d2bd1eda",
   "metadata": {},
   "outputs": [],
   "source": []
  },
  {
   "cell_type": "code",
   "execution_count": null,
   "id": "708e4ad2-5144-4bf1-8514-cc7ac0d87981",
   "metadata": {},
   "outputs": [],
   "source": []
  },
  {
   "cell_type": "code",
   "execution_count": null,
   "id": "40196449-17ea-4e54-9ec8-000e94dcca1b",
   "metadata": {},
   "outputs": [],
   "source": []
  },
  {
   "cell_type": "code",
   "execution_count": null,
   "id": "1f059b45-7e19-4cee-b2c5-07863b330fa0",
   "metadata": {},
   "outputs": [],
   "source": []
  },
  {
   "cell_type": "code",
   "execution_count": null,
   "id": "55f15c47-54d9-4e37-a904-6ffd0a4298f7",
   "metadata": {},
   "outputs": [],
   "source": []
  },
  {
   "cell_type": "code",
   "execution_count": null,
   "id": "4af7f0ba-a8dd-48f7-8468-a73d622a9821",
   "metadata": {},
   "outputs": [],
   "source": []
  },
  {
   "cell_type": "code",
   "execution_count": null,
   "id": "c4cfa593-8fbc-40dd-b9f3-47afcd3f261c",
   "metadata": {},
   "outputs": [],
   "source": []
  },
  {
   "cell_type": "code",
   "execution_count": null,
   "id": "5d337026-d089-4658-ad96-697a9ca1f045",
   "metadata": {},
   "outputs": [],
   "source": []
  },
  {
   "cell_type": "code",
   "execution_count": null,
   "id": "7dd5bda5-5f0a-487d-9812-38ca19cc6f06",
   "metadata": {},
   "outputs": [],
   "source": []
  },
  {
   "cell_type": "code",
   "execution_count": null,
   "id": "6f66b51e-4a4f-49bf-a0cd-4b16b7ebf4fe",
   "metadata": {},
   "outputs": [],
   "source": []
  },
  {
   "cell_type": "code",
   "execution_count": null,
   "id": "78bf2425-0770-4b8c-8dbd-eab5973b0906",
   "metadata": {},
   "outputs": [],
   "source": []
  },
  {
   "cell_type": "code",
   "execution_count": null,
   "id": "2e839dd9-560d-4ad1-8d44-4369bb658407",
   "metadata": {},
   "outputs": [],
   "source": []
  },
  {
   "cell_type": "code",
   "execution_count": null,
   "id": "b3211817-8482-4f72-ad1f-580010030672",
   "metadata": {},
   "outputs": [],
   "source": []
  },
  {
   "cell_type": "code",
   "execution_count": null,
   "id": "38affe66-8d81-4dce-b041-f8c098edaa4e",
   "metadata": {},
   "outputs": [],
   "source": []
  },
  {
   "cell_type": "code",
   "execution_count": null,
   "id": "3b1a3adc-4f70-4f2b-8755-031232841345",
   "metadata": {},
   "outputs": [],
   "source": []
  }
 ],
 "metadata": {
  "kernelspec": {
   "display_name": "Python 3 (ipykernel)",
   "language": "python",
   "name": "python3"
  },
  "language_info": {
   "codemirror_mode": {
    "name": "ipython",
    "version": 3
   },
   "file_extension": ".py",
   "mimetype": "text/x-python",
   "name": "python",
   "nbconvert_exporter": "python",
   "pygments_lexer": "ipython3",
   "version": "3.9.7"
  }
 },
 "nbformat": 4,
 "nbformat_minor": 5
}
