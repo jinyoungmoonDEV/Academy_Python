{
 "cells": [
  {
   "cell_type": "code",
   "execution_count": 11,
   "id": "e835a231-02bc-4561-abaa-0e82fbe3e556",
   "metadata": {},
   "outputs": [],
   "source": [
    "inFp = None\n",
    "inStr = \"\""
   ]
  },
  {
   "cell_type": "code",
   "execution_count": 37,
   "id": "f7e53e9b-46d9-40de-94f2-87fa01a4f05f",
   "metadata": {},
   "outputs": [],
   "source": [
    "inFp = open(\"Module1.py\", \"r\")"
   ]
  },
  {
   "cell_type": "code",
   "execution_count": 13,
   "id": "a5243487-ba08-4083-8ef2-5ae124a9ecf6",
   "metadata": {},
   "outputs": [
    {
     "data": {
      "text/plain": [
       "_io.TextIOWrapper"
      ]
     },
     "execution_count": 13,
     "metadata": {},
     "output_type": "execute_result"
    }
   ],
   "source": [
    "type(inFp)"
   ]
  },
  {
   "cell_type": "code",
   "execution_count": 38,
   "id": "0e178580-d4b6-4aac-bf6c-76d570fb857d",
   "metadata": {},
   "outputs": [
    {
     "data": {
      "text/plain": [
       "['def func1() :\\n',\n",
       " '    print(\"module1.py func1()\")\\n',\n",
       " 'def func2() :\\n',\n",
       " '    print(\"module1.py func2()\")\\n',\n",
       " 'def func3() :\\n',\n",
       " '    print(\"module1.py func3()\")\\n',\n",
       " '    \\n',\n",
       " 'PI = 3.14']"
      ]
     },
     "execution_count": 38,
     "metadata": {},
     "output_type": "execute_result"
    }
   ],
   "source": [
    "inFp.readlines()"
   ]
  },
  {
   "cell_type": "code",
   "execution_count": 39,
   "id": "3481b8a4-9ae8-487f-b581-17740b87cfaa",
   "metadata": {},
   "outputs": [],
   "source": [
    "inFp.close()"
   ]
  },
  {
   "cell_type": "code",
   "execution_count": 4,
   "id": "d6e79841-dc1b-4419-bc27-6b0d0820f285",
   "metadata": {},
   "outputs": [
    {
     "data": {
      "text/plain": [
       "'def func1() :\\n'"
      ]
     },
     "execution_count": 4,
     "metadata": {},
     "output_type": "execute_result"
    }
   ],
   "source": [
    "inStr = inFp.readline()\n",
    "inStr"
   ]
  },
  {
   "cell_type": "code",
   "execution_count": 5,
   "id": "dd7cf64b-837b-4aed-90fb-7a66c7107f22",
   "metadata": {},
   "outputs": [
    {
     "name": "stdout",
     "output_type": "stream",
     "text": [
      "    print(\"module1.py func1()\")\n"
     ]
    },
    {
     "data": {
      "text/plain": [
       "'def func2() :\\n'"
      ]
     },
     "execution_count": 5,
     "metadata": {},
     "output_type": "execute_result"
    }
   ],
   "source": [
    "inStr = inFp.readline()\n",
    "print(inStr, end = \"\")\n",
    "\n",
    "inStr = inFp.readline()\n",
    "inStr"
   ]
  },
  {
   "cell_type": "code",
   "execution_count": 41,
   "id": "0e54f307-2450-4a1f-9118-3e69e8e3d65d",
   "metadata": {},
   "outputs": [
    {
     "name": "stdout",
     "output_type": "stream",
     "text": [
      "def func1() :\n",
      "    print(\"module1.py func1()\")\n",
      "def func2() :\n",
      "    print(\"module1.py func2()\")\n",
      "def func3() :\n",
      "    print(\"module1.py func3()\")\n",
      "    \n",
      "PI = 3.14"
     ]
    }
   ],
   "source": [
    "inFp = None\n",
    "inStr = \"\"\n",
    "\n",
    "inFp = open(\"Module1.py\",\"r\")\n",
    "            \n",
    "while True : \n",
    "            inStr = inFp.readline()\n",
    "            if inStr == \"\" :\n",
    "                break;\n",
    "            print(inStr, end =\"\")\n",
    "inFp.close()"
   ]
  },
  {
   "cell_type": "markdown",
   "id": "e68ba842-b109-42f5-9f0c-741d1c6eb965",
   "metadata": {},
   "source": [
    "with .. as"
   ]
  },
  {
   "cell_type": "code",
   "execution_count": 46,
   "id": "b8f70484-2110-4ea8-a3e2-7aa657d80bcb",
   "metadata": {},
   "outputs": [],
   "source": [
    "with open(\"Module1.py\",\"r\") as f :\n",
    "            \n",
    "    while True : \n",
    "            inStr = f.readline()\n",
    "            if str == \"\" :\n",
    "                break\n",
    "            print(str)"
   ]
  },
  {
   "cell_type": "code",
   "execution_count": 2,
   "id": "f3191fcb-b630-411b-9264-84805245f47e",
   "metadata": {},
   "outputs": [],
   "source": [
    "#오류코드\n",
    "\n",
    "from tkinter import *\n",
    "\n",
    "def loadImage(fname) :\n",
    "    global inImage, XSIZE, YSIZE\n",
    "    fp = open(fname, 'rb')\n",
    "    \n",
    "    for i in range(0, XSIZE) :\n",
    "        tmpList = []\n",
    "        for k in range(0, YSIZE) :\n",
    "            data = int(ord(fp.read(1)))\n",
    "            tmpList.append(data)\n",
    "        inImage.append(tmpList)\n",
    "        \n",
    "    fp.close()\n",
    "    \n",
    "def displayImage(image) :\n",
    "    global XSIZE, YSIZE\n",
    "    rgbString = \"\"\n",
    "    for i in range(0, XSIZE) :\n",
    "        tmpString = \"\"\n",
    "        for k in range(0, YSIZE) :\n",
    "            data = image[i][k]\n",
    "            tmpString += \"#%02x%02x%02x \" % (data, data, data) # x 뒤에 한칸 공백\n",
    "        rgbString += \"{\" + tmpString +  \"} \" # } 뒤에 한칸 공백\n",
    "    paper.put(rgbString)\n",
    "    \n",
    "window = None\n",
    "canvas = None\n",
    "XSIZE, YSIZE = 256,256\n",
    "inImage = []\n",
    "\n",
    "window = Tk()\n",
    "window.title(\"흑백 사진 보기\")\n",
    "canvas = Canvas(window, height = XSIZE, width = YSIZE)\n",
    "paper = PhotoImage(width = XSIZE, height = YSIZE)\n",
    "canvas.create_image((XSIZE / 2, YSIZE / 2), image = paper, state = \"normal\")\n",
    "\n",
    "filename = 'RAW/tree.raw'\n",
    "loadImage(filename)\n",
    "\n",
    "displayImage(inImage)\n",
    "\n",
    "canvas.pack()\n",
    "window.mainloop()"
   ]
  },
  {
   "cell_type": "code",
   "execution_count": null,
   "id": "b43400fe-d0aa-4894-bd3a-59ca0300cd76",
   "metadata": {},
   "outputs": [],
   "source": [
    "#돌아가는 코드\n",
    "\n",
    "from tkinter import *\n",
    "\n",
    "## 함수 선언 부분 ##\n",
    "def loadImage(fname) :\n",
    "    global inImage, XSIZE, YSIZE\n",
    "    fp = open(fname, 'rb')\n",
    "\n",
    "    for i in range(0, XSIZE) :\n",
    "        tmpList = []\n",
    "        for k in range(0, YSIZE) :\n",
    "            data = int(ord(fp.read(1)))\n",
    "            tmpList.append(data)\n",
    "        inImage.append(tmpList)\n",
    "\n",
    "    fp.close()\n",
    "\n",
    "def displayImage(image) :\n",
    "    global XSIZE, YSIZE\n",
    "    rgbString = \"\"\n",
    "    for i in range(0, XSIZE) :\n",
    "        tmpString = \"\"\n",
    "        for k in range(0, YSIZE) :\n",
    "            data = image[i][k]\n",
    "            tmpString += \"#%02x%02x%02x \" % (data, data, data) # x 뒤에 한칸 공백\n",
    "        rgbString += \"{\" + tmpString +  \"} \" # } 뒤에 한칸 공백\n",
    "    paper.put(rgbString)\n",
    "\n",
    "## 전역 변수 선언 부분 ##\n",
    "window = None\n",
    "canvas = None\n",
    "XSIZE, YSIZE=256,256\n",
    "inImage=[] # 2차원 리스트 (메모리)\n",
    "\n",
    "## 메인 코드 부분 ##\n",
    "window = Tk()\n",
    "window.title(\"흑백 사진 보기\")\n",
    "canvas = Canvas(window, height = XSIZE, width = YSIZE)\n",
    "paper = PhotoImage(width = XSIZE, height = YSIZE)\n",
    "canvas.create_image((XSIZE/2, YSIZE/2), image = paper, state = \"normal\")\n",
    "\n",
    "# 파일 --> 메모리\n",
    "filename = 'RAW/tree.raw'  # C:/CookPython/RAW/tree.raw\n",
    "loadImage(filename)\n",
    "\n",
    "# 메모리 --> 화면 \n",
    "displayImage(inImage)\n",
    "\n",
    "canvas.pack()\n",
    "window.mainloop()\n"
   ]
  },
  {
   "cell_type": "code",
   "execution_count": null,
   "id": "11bbb957-6e1d-4045-a4e6-33ac1c3defb3",
   "metadata": {},
   "outputs": [],
   "source": []
  },
  {
   "cell_type": "code",
   "execution_count": null,
   "id": "4f5d1de0-3af6-4fba-a587-7506f21e6356",
   "metadata": {},
   "outputs": [],
   "source": []
  },
  {
   "cell_type": "code",
   "execution_count": null,
   "id": "b954372c-5841-4f3a-bff3-3639535c50e5",
   "metadata": {},
   "outputs": [],
   "source": []
  },
  {
   "cell_type": "code",
   "execution_count": null,
   "id": "b5dcfd2a-7b33-45bb-b5fc-1460c9dbf984",
   "metadata": {},
   "outputs": [],
   "source": []
  }
 ],
 "metadata": {
  "kernelspec": {
   "display_name": "Python 3 (ipykernel)",
   "language": "python",
   "name": "python3"
  },
  "language_info": {
   "codemirror_mode": {
    "name": "ipython",
    "version": 3
   },
   "file_extension": ".py",
   "mimetype": "text/x-python",
   "name": "python",
   "nbconvert_exporter": "python",
   "pygments_lexer": "ipython3",
   "version": "3.9.7"
  }
 },
 "nbformat": 4,
 "nbformat_minor": 5
}
