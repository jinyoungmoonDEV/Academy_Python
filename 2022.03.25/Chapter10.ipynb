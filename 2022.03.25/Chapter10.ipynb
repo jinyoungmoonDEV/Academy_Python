{
 "cells": [
  {
   "cell_type": "code",
   "execution_count": 2,
   "id": "2a050582-0b76-439d-8fb0-185c501b513f",
   "metadata": {},
   "outputs": [],
   "source": [
    "from tkinter import *\n",
    "\n",
    "window = Tk()\n",
    "window.title(\"윈도창 연습\")\n",
    "window.geometry(\"600x600\")\n",
    "window.resizable(width = FALSE, height = FALSE)\n",
    "\n",
    "window.mainloop()"
   ]
  },
  {
   "cell_type": "code",
   "execution_count": 6,
   "id": "767d9bed-cfcf-407f-986a-a6fba3517b7d",
   "metadata": {},
   "outputs": [],
   "source": [
    "from tkinter import *\n",
    "\n",
    "window = Tk()\n",
    "window.title('윈도우 창')\n",
    "window.geometry(\"600x600\")\n",
    "\n",
    "label1 = Label(window, text='안녕하세요 Tkinter')\n",
    "label2 = Label(window, text='글씨체', font=('굴림', 30), fg = 'blue')\n",
    "label3 = Label(window, text='위치', fg='blue', width=20, height=5, anchor = NE)\n",
    "\n",
    "label1.pack()\n",
    "label2.pack()\n",
    "label3.pack()\n",
    "\n",
    "window.mainloop()"
   ]
  },
  {
   "cell_type": "markdown",
   "id": "8f1b1462-eb8f-45c8-aaa5-6c2636252520",
   "metadata": {},
   "source": [
    "P304 이미지"
   ]
  },
  {
   "cell_type": "code",
   "execution_count": 1,
   "id": "ad74d886-2ac9-4730-af26-99d55a55d5c6",
   "metadata": {},
   "outputs": [],
   "source": [
    "from tkinter import *\n",
    "window = Tk()\n",
    "photo = PhotoImage(file = 'gif/'+ 'puppy.gif')\n",
    "label1 = Label(window, image = photo)\n",
    "label1.pack()\n",
    "window.mainloop()"
   ]
  },
  {
   "cell_type": "code",
   "execution_count": 1,
   "id": "f92e7648-1fa0-4862-9ec6-d2e479cc2dda",
   "metadata": {},
   "outputs": [],
   "source": [
    "from tkinter import *\n",
    "\n",
    "window = Tk()\n",
    "window.title('윈도우 창')\n",
    "window.geometry(\"600x600\")\n",
    "\n",
    "label1 = Label(window, text='안녕하세요 Tkinter')\n",
    "label2 = Label(window, text='글씨체', font=('굴림', 30), fg = 'blue')\n",
    "label3 = Label(window, text='위치', fg='blue', width=20, height=5, anchor = NE)\n",
    "\n",
    "button1 = Button(window, text='눌러', fg = 'orange',command = quit, anchor = SE)\n",
    "\n",
    "label1.pack()\n",
    "label2.pack()\n",
    "label3.pack()\n",
    "button1.pack()\n",
    "window.mainloop()"
   ]
  },
  {
   "cell_type": "code",
   "execution_count": null,
   "id": "ee81e0bb-d96b-4d7e-a943-ca33434ca17f",
   "metadata": {},
   "outputs": [],
   "source": [
    "from tkinter import *\n",
    "from tkinter import messagebox\n",
    "\n",
    "def myFunc() :\n",
    "    messagebox.showinfo(\"강아지 버튼\", \"강아지가 귀엽죠?\")\n",
    "\n",
    "window = Tk()\n",
    "\n",
    "photo = PhotoImage(file = \"puppy.gif\")\n",
    "button1 = Button(window, image = photo, command = myFunc)\n",
    "\n",
    "button1.pack()\n",
    "\n",
    "window.mainloop()"
   ]
  },
  {
   "cell_type": "code",
   "execution_count": 4,
   "id": "85353c92-9a2e-4bd5-baa0-b1cad5134bb2",
   "metadata": {},
   "outputs": [],
   "source": [
    "from tkinter import *\n",
    "from tkinter import messagebox\n",
    "\n",
    "window = Tk()\n",
    "\n",
    "def myFunc() :\n",
    "    if chk.get() == 0 :\n",
    "        messagebox.showinfo(\"\", \"체크버튼이 꺼졌어요.\")\n",
    "    else :\n",
    "        messagebox.showinfo(\"\", \"체크버튼이 켜졌어요.\")\n",
    "chk = IntVar()\n",
    "cb1 = Checkbutton(window, text = \"클릭하세요\", variable = chk, command = myFunc)\n",
    "cb1.pack()\n",
    "\n",
    "window.mainloop()"
   ]
  },
  {
   "cell_type": "code",
   "execution_count": 9,
   "id": "c1304a14-0013-482b-ba74-c2fa63f62767",
   "metadata": {},
   "outputs": [],
   "source": [
    "from tkinter import *\n",
    "window = Tk()\n",
    "window.geometry('400x400')\n",
    "\n",
    "button1 = Button(window, text = \"버튼1\")\n",
    "button2 = Button(window, text = \"버튼2\")\n",
    "button3 = Button(window, text = \"버튼3\")\n",
    "\n",
    "button1.pack(side = LEFT)\n",
    "button2.pack(side = LEFT)\n",
    "button3.pack(side = LEFT)\n",
    "\n",
    "window.mainloop()"
   ]
  },
  {
   "cell_type": "code",
   "execution_count": 5,
   "id": "2098a810-f7f4-473f-9990-a3fcb69e4511",
   "metadata": {},
   "outputs": [],
   "source": [
    "from tkinter import *\n",
    "from time import *\n",
    "\n",
    "fnameList = [\"jeju1.gif\", \"jeju2.gif\", \"jeju3.gif\", \"jeju4.gif\", \"jeju5.gif\", \"jeju6.gif\", \"jeju7.gif\", \"jeju8.gif\", \"jeju9.gif\"]\n",
    "photoList = [None] * 9\n",
    "num = 0\n",
    "\n",
    "def ClickNext() :\n",
    "    global num\n",
    "    num += 1\n",
    "    if num > 8 :\n",
    "        num = 0\n",
    "    photo = PhotoImage(file = \"gif/\" + fnameList[num])\n",
    "    pLabel.configure(image = photo)\n",
    "    pLabel.image = photo\n",
    "    \n",
    "def ClickPrev() :\n",
    "    global num\n",
    "    num -= 1\n",
    "    if num < 0 :\n",
    "        num = 8\n",
    "    photo = PhotoImage(file = \"gif/\" + fnameList[num])\n",
    "    pLabel.configure(image = photo)\n",
    "    pLabel.image = photo\n",
    "    \n",
    "window = Tk()\n",
    "window.geometry(\"700x500\")\n",
    "window.title(\"사진앨범보기\")\n",
    "    \n",
    "btnPrev = Button(window, text = '<<이전', command = ClickPrev)\n",
    "btnNext = Button(window, text = '다음>>', command = ClickNext)\n",
    "\n",
    "photo = PhotoImage(file = \"gif/\" + fnameList[0])\n",
    "pLabel = Label(window, image = photo)\n",
    "\n",
    "btnPrev.place( x = 250, y = 10)\n",
    "btnNext.place(x = 400, y = 10)\n",
    "pLabel.place(x = 15, y = 50)\n",
    "\n",
    "window.mainloop()"
   ]
  },
  {
   "cell_type": "code",
   "execution_count": null,
   "id": "48bbcdc8-bbdf-41df-aa83-19bbce0cc2e6",
   "metadata": {},
   "outputs": [],
   "source": []
  }
 ],
 "metadata": {
  "kernelspec": {
   "display_name": "Python 3 (ipykernel)",
   "language": "python",
   "name": "python3"
  },
  "language_info": {
   "codemirror_mode": {
    "name": "ipython",
    "version": 3
   },
   "file_extension": ".py",
   "mimetype": "text/x-python",
   "name": "python",
   "nbconvert_exporter": "python",
   "pygments_lexer": "ipython3",
   "version": "3.9.7"
  }
 },
 "nbformat": 4,
 "nbformat_minor": 5
}
