{
 "cells": [
  {
   "cell_type": "code",
   "execution_count": 7,
   "id": "3f9d2a7d-99a4-4309-b071-4ce2af7af86e",
   "metadata": {},
   "outputs": [],
   "source": [
    "a = 100\n",
    "b = 50"
   ]
  },
  {
   "cell_type": "code",
   "execution_count": 1,
   "id": "02da944d-3ba5-42a0-a29e-16f3851a4cce",
   "metadata": {},
   "outputs": [
    {
     "ename": "SyntaxError",
     "evalue": "invalid syntax (Temp/ipykernel_8256/2145921614.py, line 1)",
     "output_type": "error",
     "traceback": [
      "\u001b[1;36m  File \u001b[1;32m\"C:\\Users\\BIT\\AppData\\Local\\Temp/ipykernel_8256/2145921614.py\"\u001b[1;36m, line \u001b[1;32m1\u001b[0m\n\u001b[1;33m    abc = 100 100\u001b[0m\n\u001b[1;37m              ^\u001b[0m\n\u001b[1;31mSyntaxError\u001b[0m\u001b[1;31m:\u001b[0m invalid syntax\n"
     ]
    }
   ],
   "source": [
    "abc = 100 100"
   ]
  },
  {
   "cell_type": "code",
   "execution_count": 2,
   "id": "0aa54566-3442-4e9f-8534-d12e84bd00cc",
   "metadata": {},
   "outputs": [
    {
     "ename": "SyntaxError",
     "evalue": "invalid syntax (Temp/ipykernel_8256/2866338508.py, line 1)",
     "output_type": "error",
     "traceback": [
      "\u001b[1;36m  File \u001b[1;32m\"C:\\Users\\BIT\\AppData\\Local\\Temp/ipykernel_8256/2866338508.py\"\u001b[1;36m, line \u001b[1;32m1\u001b[0m\n\u001b[1;33m    abc = 100 100 sadasda\u001b[0m\n\u001b[1;37m              ^\u001b[0m\n\u001b[1;31mSyntaxError\u001b[0m\u001b[1;31m:\u001b[0m invalid syntax\n"
     ]
    }
   ],
   "source": [
    "abc = 100 100 sadasda"
   ]
  },
  {
   "cell_type": "code",
   "execution_count": 3,
   "id": "694166cd-82d4-4c5a-9fb3-4b6c81268603",
   "metadata": {},
   "outputs": [],
   "source": [
    "a = 100"
   ]
  },
  {
   "cell_type": "code",
   "execution_count": 4,
   "id": "68137d39-eeb0-4b58-9b6f-9e09cc29b73a",
   "metadata": {},
   "outputs": [
    {
     "data": {
      "text/plain": [
       "100"
      ]
     },
     "execution_count": 4,
     "metadata": {},
     "output_type": "execute_result"
    }
   ],
   "source": [
    "a"
   ]
  },
  {
   "cell_type": "code",
   "execution_count": 5,
   "id": "1b51b4de-54b7-4ce8-a005-7940ccc93a04",
   "metadata": {},
   "outputs": [
    {
     "name": "stdout",
     "output_type": "stream",
     "text": [
      "100\n"
     ]
    }
   ],
   "source": [
    "print(a)"
   ]
  },
  {
   "cell_type": "code",
   "execution_count": 8,
   "id": "fd38c402-36d3-4e88-9862-fc314ba43353",
   "metadata": {},
   "outputs": [
    {
     "data": {
      "text/plain": [
       "50"
      ]
     },
     "execution_count": 8,
     "metadata": {},
     "output_type": "execute_result"
    }
   ],
   "source": [
    "b"
   ]
  },
  {
   "cell_type": "code",
   "execution_count": 11,
   "id": "ca266cab-d6d1-47c6-a1f9-4a9155000c34",
   "metadata": {},
   "outputs": [
    {
     "data": {
      "text/plain": [
       "(100, 50)"
      ]
     },
     "execution_count": 11,
     "metadata": {},
     "output_type": "execute_result"
    }
   ],
   "source": [
    "a, b # 튜플 반환"
   ]
  },
  {
   "cell_type": "code",
   "execution_count": 12,
   "id": "c162d864-03c1-4505-9ba3-5e806793ec9a",
   "metadata": {},
   "outputs": [
    {
     "ename": "SyntaxError",
     "evalue": "invalid syntax (Temp/ipykernel_8256/777793195.py, line 1)",
     "output_type": "error",
     "traceback": [
      "\u001b[1;36m  File \u001b[1;32m\"C:\\Users\\BIT\\AppData\\Local\\Temp/ipykernel_8256/777793195.py\"\u001b[1;36m, line \u001b[1;32m1\u001b[0m\n\u001b[1;33m    a  b\u001b[0m\n\u001b[1;37m       ^\u001b[0m\n\u001b[1;31mSyntaxError\u001b[0m\u001b[1;31m:\u001b[0m invalid syntax\n"
     ]
    }
   ],
   "source": [
    "a  b "
   ]
  },
  {
   "cell_type": "code",
   "execution_count": 13,
   "id": "bf9fc276-7e14-45ee-ac38-92795b123608",
   "metadata": {},
   "outputs": [
    {
     "data": {
      "text/plain": [
       "150"
      ]
     },
     "execution_count": 13,
     "metadata": {},
     "output_type": "execute_result"
    }
   ],
   "source": [
    "a + b"
   ]
  },
  {
   "cell_type": "code",
   "execution_count": 14,
   "id": "7d4a633c-1fbf-4ddc-b0fd-eabafa003ee4",
   "metadata": {},
   "outputs": [
    {
     "data": {
      "text/plain": [
       "50"
      ]
     },
     "execution_count": 14,
     "metadata": {},
     "output_type": "execute_result"
    }
   ],
   "source": [
    "a - b"
   ]
  },
  {
   "cell_type": "code",
   "execution_count": 15,
   "id": "5c0a0390-b10b-45c4-be5e-1e66c7175e55",
   "metadata": {},
   "outputs": [
    {
     "data": {
      "text/plain": [
       "2.0"
      ]
     },
     "execution_count": 15,
     "metadata": {},
     "output_type": "execute_result"
    }
   ],
   "source": [
    "a / b"
   ]
  },
  {
   "cell_type": "code",
   "execution_count": 16,
   "id": "3cdbb9dd-8968-4517-91b4-91ab079780e2",
   "metadata": {},
   "outputs": [
    {
     "data": {
      "text/plain": [
       "5000"
      ]
     },
     "execution_count": 16,
     "metadata": {},
     "output_type": "execute_result"
    }
   ],
   "source": [
    "a * b"
   ]
  },
  {
   "cell_type": "code",
   "execution_count": 17,
   "id": "151b4cc8-6843-4077-810c-f5ff30b56813",
   "metadata": {},
   "outputs": [
    {
     "data": {
      "text/plain": [
       "5000"
      ]
     },
     "execution_count": 17,
     "metadata": {},
     "output_type": "execute_result"
    }
   ],
   "source": [
    "result = a * b\n",
    "result"
   ]
  },
  {
   "cell_type": "code",
   "execution_count": 18,
   "id": "30be77e4-5e9c-4773-b92e-000c7c8da96e",
   "metadata": {},
   "outputs": [
    {
     "data": {
      "text/plain": [
       "50000"
      ]
     },
     "execution_count": 18,
     "metadata": {},
     "output_type": "execute_result"
    }
   ],
   "source": [
    "result * 10"
   ]
  },
  {
   "cell_type": "code",
   "execution_count": 19,
   "id": "fcd98abe-9960-4577-9f52-bdbfe4557e75",
   "metadata": {},
   "outputs": [
    {
     "data": {
      "text/plain": [
       "100.0"
      ]
     },
     "execution_count": 19,
     "metadata": {},
     "output_type": "execute_result"
    }
   ],
   "source": [
    "math_score = 100\n",
    "eng_score = 100\n",
    "average = (math_score + eng_score) / 2\n",
    "average"
   ]
  },
  {
   "cell_type": "code",
   "execution_count": 20,
   "id": "c4e28df8-61f7-4d3e-a1f3-ca77a8b7a0eb",
   "metadata": {},
   "outputs": [],
   "source": [
    "math_score = \"백점\""
   ]
  },
  {
   "cell_type": "code",
   "execution_count": 21,
   "id": "ddfb1fd9-589a-448c-9e61-5ac68919b40d",
   "metadata": {},
   "outputs": [
    {
     "name": "stdout",
     "output_type": "stream",
     "text": [
      "100 + 50 = 5000\n"
     ]
    }
   ],
   "source": [
    "# 결과출력\n",
    "print(a, '+', b, '=', result)"
   ]
  },
  {
   "cell_type": "code",
   "execution_count": null,
   "id": "52d3f152-7793-42f5-8832-f646724dcd6f",
   "metadata": {},
   "outputs": [],
   "source": []
  },
  {
   "cell_type": "markdown",
   "id": "745da329-1b9d-459a-bdb2-d46d6b3de4b1",
   "metadata": {},
   "source": [
    "# 사칙연산을 수행합니다."
   ]
  },
  {
   "cell_type": "code",
   "execution_count": 70,
   "id": "d48a4aab-d2e8-46c2-82f0-683cba762a17",
   "metadata": {},
   "outputs": [
    {
     "name": "stdout",
     "output_type": "stream",
     "text": [
      "100 + 50 = 150\n",
      "100 - 50 = 50\n",
      "100 * 50 = 5000\n",
      "100 / 50 = 2.0\n"
     ]
    }
   ],
   "source": [
    "a = 100\n",
    "b = 50\n",
    "result = a + b \n",
    "print(a, '+', b, \"=\", result)\n",
    "result = a - b\n",
    "print(a, '-', b, \"=\", result)\n",
    "result = a * b\n",
    "print(a, '*', b, \"=\", result)\n",
    "result = a / b\n",
    "print(a, '/', b, \"=\", result)"
   ]
  },
  {
   "cell_type": "markdown",
   "id": "34619be2-f796-4624-ad0e-2c300d7d12f8",
   "metadata": {},
   "source": [
    "# input()함수로 작성"
   ]
  },
  {
   "cell_type": "code",
   "execution_count": 69,
   "id": "b39946b6-d480-4b4b-9ac4-f79ad0450fdc",
   "metadata": {},
   "outputs": [
    {
     "name": "stdin",
     "output_type": "stream",
     "text": [
      "첫번쨰 숫자를 입력하세요: 100\n",
      "두번쨰 숫자를 입력하세요: 250\n"
     ]
    },
    {
     "name": "stdout",
     "output_type": "stream",
     "text": [
      "100 + 250 = 350\n",
      "100 - 250 = -150\n",
      "100 * 250 = 25000\n",
      "100 / 250 = 0.4\n"
     ]
    }
   ],
   "source": [
    "a = int(input(\"첫번쨰 숫자를 입력하세요:\"))\n",
    "b = int(input(\"두번쨰 숫자를 입력하세요:\"))\n",
    "result = a + b \n",
    "print(a, '+', b, \"=\", result)\n",
    "result = a - b\n",
    "print(a, '-', b, \"=\", result)\n",
    "result = a * b\n",
    "print(a, '*', b, \"=\", result)\n",
    "result = a / b\n",
    "print(a, '/', b, \"=\", result)"
   ]
  },
  {
   "cell_type": "markdown",
   "id": "07ddeec7-9722-461a-beb6-0dd3020cde27",
   "metadata": {},
   "source": [
    "# P60 연습문제 7번"
   ]
  },
  {
   "cell_type": "code",
   "execution_count": 8,
   "id": "e91dd434-8f81-4226-a7a8-1f378c166afe",
   "metadata": {},
   "outputs": [
    {
     "name": "stdin",
     "output_type": "stream",
     "text": [
      "이름을 입력하세요: 문진영\n",
      "숫자1 입력: 10\n",
      "숫자2 입력: 20\n",
      "숫자3 입력: 30\n"
     ]
    },
    {
     "name": "stdout",
     "output_type": "stream",
     "text": [
      "문진영 님의 계산결과 입니다.\n",
      "10 + 20 + 30 = 60\n",
      "10 * 20 * 30 = 6000\n",
      "10+20+30= 60\n"
     ]
    }
   ],
   "source": [
    "name = input(\"이름을 입력하세요:\")\n",
    "a = int(input(\"숫자1 입력:\"))\n",
    "b = int(input(\"숫자2 입력:\"))\n",
    "c = int(input(\"숫자3 입력:\"))\n",
    "print(name,\"님의 계산결과 입니다.\")\n",
    "result = a + b + c\n",
    "print(a, '+', b, '+', c, '=', result)\n",
    "result = a * b * c\n",
    "print(a, '*', b, '*', c, '=', result)\n",
    "print(f\"{a}+{b}+{c}=\", (a+b+c))"
   ]
  },
  {
   "cell_type": "markdown",
   "id": "f32685ee-a930-419b-bd94-62402fd830cb",
   "metadata": {},
   "source": [
    "# *위의 f는 Format의 약자(정수를 문자로 치환)"
   ]
  },
  {
   "cell_type": "markdown",
   "id": "7a654f84-4f7c-4d1d-97a7-c311abce7619",
   "metadata": {},
   "source": [
    "# *shift+m:셀 결합!"
   ]
  },
  {
   "cell_type": "markdown",
   "id": "c193a9e7-42ae-4ca7-a131-0f58893857d6",
   "metadata": {
    "tags": []
   },
   "source": [
    "# P62~103코드"
   ]
  },
  {
   "cell_type": "code",
   "execution_count": 6,
   "id": "d9bd46d9-bc56-4a46-b98c-61543688ba9a",
   "metadata": {},
   "outputs": [
    {
     "name": "stdout",
     "output_type": "stream",
     "text": [
      "100\n",
      "100\n"
     ]
    }
   ],
   "source": [
    "print(\"100\") \n",
    "print(\"%d\" % 100) "
   ]
  },
  {
   "cell_type": "code",
   "execution_count": 8,
   "id": "5029b164-01d5-476d-878e-6f7a0e37811f",
   "metadata": {},
   "outputs": [
    {
     "name": "stdout",
     "output_type": "stream",
     "text": [
      "100 + 100\n",
      "200\n"
     ]
    }
   ],
   "source": [
    "print(\"100 + 100\")\n",
    "print(\"%d\" % (100 + 100))"
   ]
  },
  {
   "cell_type": "code",
   "execution_count": 12,
   "id": "4ee8f80a-f04b-4821-9d62-e50bfee7370f",
   "metadata": {},
   "outputs": [
    {
     "name": "stdout",
     "output_type": "stream",
     "text": [
      "100\n",
      "100 200\n"
     ]
    }
   ],
   "source": [
    "print(\"%d\" % (100))\n",
    "print(\"%d %d\" % (100, 200))"
   ]
  },
  {
   "cell_type": "code",
   "execution_count": 20,
   "id": "ab578df2-b791-403b-aba7-7b28cd4419be",
   "metadata": {},
   "outputs": [
    {
     "name": "stdout",
     "output_type": "stream",
     "text": [
      "100 / 200 =   0.5\n"
     ]
    }
   ],
   "source": [
    "print(\"%d / %d = %5.1f\" % (100, 200, 0.5))"
   ]
  },
  {
   "cell_type": "code",
   "execution_count": 3,
   "id": "8ea274a1-7504-4286-8006-288c7a99835f",
   "metadata": {},
   "outputs": [
    {
     "name": "stdout",
     "output_type": "stream",
     "text": [
      "123\n",
      "  123\n",
      "00123\n"
     ]
    }
   ],
   "source": [
    "print(\"%d\" % 123)\n",
    "print(\"%5d\" % 123)\n",
    "print(\"%05d\" % 123)"
   ]
  },
  {
   "cell_type": "code",
   "execution_count": 4,
   "id": "6b86fc2b-14e1-4792-b60e-2252078855de",
   "metadata": {},
   "outputs": [
    {
     "name": "stdout",
     "output_type": "stream",
     "text": [
      "123.450000\n",
      "  123.5\n",
      "123.450\n"
     ]
    }
   ],
   "source": [
    "print(\"%f\" %123.45)\n",
    "print(\"%7.1f\" % 123.45)\n",
    "print(\"%7.3f\" % 123.45)"
   ]
  },
  {
   "cell_type": "code",
   "execution_count": 5,
   "id": "540f9e3f-761d-4d82-9c15-f8a974a2cc20",
   "metadata": {},
   "outputs": [
    {
     "name": "stdout",
     "output_type": "stream",
     "text": [
      "Python\n",
      "    Python\n"
     ]
    }
   ],
   "source": [
    "print(\"%s\" % \"Python\")\n",
    "print(\"%10s\" % \"Python\")"
   ]
  },
  {
   "cell_type": "code",
   "execution_count": 6,
   "id": "382ab61a-cdf9-41f2-883c-b006b7e6221a",
   "metadata": {},
   "outputs": [
    {
     "name": "stdout",
     "output_type": "stream",
     "text": [
      "123   123 00123\n",
      "123   123 00123\n"
     ]
    }
   ],
   "source": [
    "print(\"%d %5d %05d\" % (123, 123, 123))\n",
    "print(\"{0:d} {1:5d} {2:05d}\".format(123, 123, 123))"
   ]
  },
  {
   "cell_type": "code",
   "execution_count": 8,
   "id": "fad35ca4-f4eb-4621-9acd-c22e71dab5e3",
   "metadata": {},
   "outputs": [
    {
     "name": "stdout",
     "output_type": "stream",
     "text": [
      "300 200 100\n"
     ]
    }
   ],
   "source": [
    "print(\"{2:d} {1:d} {0:d}\".format(100, 200, 300))"
   ]
  },
  {
   "cell_type": "code",
   "execution_count": 9,
   "id": "3ced3633-5563-402e-9fc0-a2fb53535c72",
   "metadata": {},
   "outputs": [
    {
     "name": "stdout",
     "output_type": "stream",
     "text": [
      "한 행입니다. 또 한 행입니다.\n"
     ]
    }
   ],
   "source": [
    "print(\"한 행입니다. 또 한 행입니다.\")"
   ]
  },
  {
   "cell_type": "code",
   "execution_count": 12,
   "id": "25261b66-5200-454e-8889-1a04bbf19cc3",
   "metadata": {},
   "outputs": [
    {
     "name": "stdout",
     "output_type": "stream",
     "text": [
      "한 행입니다. \n",
      "또 한 행입니다.\n"
     ]
    }
   ],
   "source": [
    "print(\"한 행입니다. \\n또 한 행입니다.\")"
   ]
  },
  {
   "cell_type": "code",
   "execution_count": 15,
   "id": "0dbe6a8a-1a12-407b-8f5c-54bfa84aea74",
   "metadata": {},
   "outputs": [
    {
     "name": "stdout",
     "output_type": "stream",
     "text": [
      "\n",
      "줄바꿈\n",
      "연습\n",
      "\t탭키\t연습\n",
      "글자가 \"강조\" 되는 효과1\n",
      "글자가 '강조'되는 효과2\n",
      "\\\\\\역슬래시 세 개 출력\n",
      "\\n \\t \\\" \\\\를 그대로 출력\n"
     ]
    }
   ],
   "source": [
    "print(\"\\n줄바꿈\\n연습\")\n",
    "print(\"\\t탭키\\t연습\")\n",
    "print(\"글자가 \\\"강조\\\" 되는 효과1\")\n",
    "print(\"글자가 \\'강조\\'되는 효과2\")\n",
    "print(\"\\\\\\\\\\\\역슬래시 세 개 출력\")\n",
    "print(r\"\\n \\t \\\" \\\\를"
   ]
  },
  {
   "cell_type": "code",
   "execution_count": 17,
   "id": "b4a2dc52-2875-4f10-8ea6-b5d5d98e7dc5",
   "metadata": {},
   "outputs": [
    {
     "name": "stdout",
     "output_type": "stream",
     "text": [
      "    *    \n",
      "   ***   \n",
      "  *****  \n",
      " ******* \n",
      "*********\n",
      " ******* \n",
      "  *****  \n",
      "   ***   \n",
      "    *    \n"
     ]
    }
   ],
   "source": [
    "print(\"    *    \")\n",
    "print(\"   ***   \")\n",
    "print(\"  *****  \")\n",
    "print(\" ******* \")\n",
    "print(\"*********\")\n",
    "print(\" ******* \")\n",
    "print(\"  *****  \")\n",
    "print(\"   ***   \")\n",
    "print(\"    *    \")"
   ]
  },
  {
   "cell_type": "code",
   "execution_count": null,
   "id": "30602139-c9c3-4bd4-a6e9-0831c9986744",
   "metadata": {},
   "outputs": [],
   "source": []
  },
  {
   "cell_type": "code",
   "execution_count": null,
   "id": "0fc40b6e-1af0-4602-9aac-5935b98a5709",
   "metadata": {},
   "outputs": [],
   "source": []
  },
  {
   "cell_type": "code",
   "execution_count": null,
   "id": "ecc287b6-8d5a-41af-99dd-b07aea8f8c34",
   "metadata": {},
   "outputs": [],
   "source": []
  },
  {
   "cell_type": "code",
   "execution_count": null,
   "id": "29b2b325-78e0-42b9-8c89-1307c8616938",
   "metadata": {},
   "outputs": [],
   "source": []
  },
  {
   "cell_type": "code",
   "execution_count": null,
   "id": "12170e30-33b1-4805-a3cf-2bafcefb2127",
   "metadata": {},
   "outputs": [],
   "source": []
  },
  {
   "cell_type": "code",
   "execution_count": null,
   "id": "2ffe07b9-c29d-4b09-ae4c-9a67f20ce0f9",
   "metadata": {},
   "outputs": [],
   "source": []
  },
  {
   "cell_type": "code",
   "execution_count": null,
   "id": "a77bb371-e9db-4faa-b2e0-758e65cfc759",
   "metadata": {},
   "outputs": [],
   "source": []
  },
  {
   "cell_type": "code",
   "execution_count": null,
   "id": "c5e893ee-7ef9-4a53-8c18-c2340afff262",
   "metadata": {},
   "outputs": [],
   "source": []
  }
 ],
 "metadata": {
  "kernelspec": {
   "display_name": "Python 3 (ipykernel)",
   "language": "python",
   "name": "python3"
  },
  "language_info": {
   "codemirror_mode": {
    "name": "ipython",
    "version": 3
   },
   "file_extension": ".py",
   "mimetype": "text/x-python",
   "name": "python",
   "nbconvert_exporter": "python",
   "pygments_lexer": "ipython3",
   "version": "3.9.7"
  }
 },
 "nbformat": 4,
 "nbformat_minor": 5
}
