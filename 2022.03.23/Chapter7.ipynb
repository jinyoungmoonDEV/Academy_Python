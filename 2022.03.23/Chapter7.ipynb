{
 "cells": [
  {
   "cell_type": "markdown",
   "id": "f7beabab-ae7b-4dc9-8de4-35f4ece319e3",
   "metadata": {},
   "source": [
    "# Chapter7"
   ]
  },
  {
   "cell_type": "markdown",
   "id": "898ba81b-a650-427a-9186-151b00ad1a63",
   "metadata": {},
   "source": [
    "## 리스트"
   ]
  },
  {
   "cell_type": "code",
   "execution_count": 1,
   "id": "8021fe2d-8673-4291-9581-ea5c133ea65c",
   "metadata": {},
   "outputs": [],
   "source": [
    "a = ['1', 1, 1000,'파','이','썬']"
   ]
  },
  {
   "cell_type": "code",
   "execution_count": 2,
   "id": "3c027ded-12ee-439e-9311-1c74d72b21e2",
   "metadata": {},
   "outputs": [
    {
     "data": {
      "text/plain": [
       "list"
      ]
     },
     "execution_count": 2,
     "metadata": {},
     "output_type": "execute_result"
    }
   ],
   "source": [
    "type(a)"
   ]
  },
  {
   "cell_type": "code",
   "execution_count": 3,
   "id": "8d657969-05df-4da0-98c2-fd959cd14206",
   "metadata": {},
   "outputs": [
    {
     "data": {
      "text/plain": [
       "'1'"
      ]
     },
     "execution_count": 3,
     "metadata": {},
     "output_type": "execute_result"
    }
   ],
   "source": [
    "#index\n",
    "a[0]"
   ]
  },
  {
   "cell_type": "code",
   "execution_count": 5,
   "id": "e1f44631-80e2-4cbc-a5b4-ca43c6549a8f",
   "metadata": {},
   "outputs": [
    {
     "data": {
      "text/plain": [
       "('이', '썬')"
      ]
     },
     "execution_count": 5,
     "metadata": {},
     "output_type": "execute_result"
    }
   ],
   "source": [
    "a[4],a[5]"
   ]
  },
  {
   "cell_type": "code",
   "execution_count": 6,
   "id": "bbaf0952-67a3-41fb-8d20-fb1dbbe52850",
   "metadata": {},
   "outputs": [
    {
     "ename": "IndexError",
     "evalue": "list index out of range",
     "output_type": "error",
     "traceback": [
      "\u001b[1;31m---------------------------------------------------------------------------\u001b[0m",
      "\u001b[1;31mIndexError\u001b[0m                                Traceback (most recent call last)",
      "\u001b[1;32m~\\AppData\\Local\\Temp/ipykernel_1820/510490795.py\u001b[0m in \u001b[0;36m<module>\u001b[1;34m\u001b[0m\n\u001b[1;32m----> 1\u001b[1;33m \u001b[0ma\u001b[0m\u001b[1;33m[\u001b[0m\u001b[1;36m6\u001b[0m\u001b[1;33m]\u001b[0m\u001b[1;33m\u001b[0m\u001b[1;33m\u001b[0m\u001b[0m\n\u001b[0m",
      "\u001b[1;31mIndexError\u001b[0m: list index out of range"
     ]
    }
   ],
   "source": [
    "a[6]"
   ]
  },
  {
   "cell_type": "code",
   "execution_count": 7,
   "id": "45a00910-4a42-4a90-822c-815632c1d098",
   "metadata": {},
   "outputs": [
    {
     "name": "stdout",
     "output_type": "stream",
     "text": [
      "1\n",
      "1\n",
      "1000\n",
      "파\n",
      "이\n",
      "썬\n"
     ]
    }
   ],
   "source": [
    "for i in a:\n",
    "    print(i)"
   ]
  },
  {
   "cell_type": "code",
   "execution_count": 8,
   "id": "9e6df702-60e7-4146-9036-01044f45994f",
   "metadata": {},
   "outputs": [],
   "source": [
    "b = [a,1,3,5,7,9]"
   ]
  },
  {
   "cell_type": "code",
   "execution_count": 9,
   "id": "3bf19e9e-9515-4509-8dd9-5909b2ddd7f9",
   "metadata": {},
   "outputs": [
    {
     "data": {
      "text/plain": [
       "[['1', 1, 1000, '파', '이', '썬'], 1, 3, 5, 7, 9]"
      ]
     },
     "execution_count": 9,
     "metadata": {},
     "output_type": "execute_result"
    }
   ],
   "source": [
    "b"
   ]
  },
  {
   "cell_type": "code",
   "execution_count": 10,
   "id": "8f981c56-e07c-4167-8e87-5f5a99a5a385",
   "metadata": {},
   "outputs": [],
   "source": [
    "a = []"
   ]
  },
  {
   "cell_type": "code",
   "execution_count": 11,
   "id": "3e3fcee2-12f1-489c-9f60-db214c01847a",
   "metadata": {},
   "outputs": [
    {
     "data": {
      "text/plain": [
       "list"
      ]
     },
     "execution_count": 11,
     "metadata": {},
     "output_type": "execute_result"
    }
   ],
   "source": [
    "type(a)"
   ]
  },
  {
   "cell_type": "code",
   "execution_count": 12,
   "id": "ac75b548-c79f-4985-84ec-a0d5d7ca177d",
   "metadata": {},
   "outputs": [],
   "source": [
    "a.append(1)\n",
    "a.append('둘')\n",
    "a.append(3)"
   ]
  },
  {
   "cell_type": "code",
   "execution_count": 13,
   "id": "bf6f54c1-8a3f-44c3-bbcc-1ca69a2e8249",
   "metadata": {},
   "outputs": [
    {
     "data": {
      "text/plain": [
       "[1, '둘', 3]"
      ]
     },
     "execution_count": 13,
     "metadata": {},
     "output_type": "execute_result"
    }
   ],
   "source": [
    "a"
   ]
  },
  {
   "cell_type": "code",
   "execution_count": 14,
   "id": "2d07ceb1-ff3d-46a9-a5cc-b82524d64c10",
   "metadata": {},
   "outputs": [
    {
     "name": "stdout",
     "output_type": "stream",
     "text": [
      "1\n",
      "둘\n",
      "3\n"
     ]
    }
   ],
   "source": [
    "for i in a:\n",
    "    print(i)"
   ]
  },
  {
   "cell_type": "code",
   "execution_count": 15,
   "id": "2f648ef6-1f08-45d9-a84d-ce63ec890a17",
   "metadata": {},
   "outputs": [
    {
     "name": "stdout",
     "output_type": "stream",
     "text": [
      "1\n",
      "둘\n",
      "3\n"
     ]
    }
   ],
   "source": [
    "for i in range(0, 3) :\n",
    "    print(a[i])"
   ]
  },
  {
   "cell_type": "code",
   "execution_count": 16,
   "id": "e13b6301-962f-4ca6-b5db-a72f6eb708ab",
   "metadata": {},
   "outputs": [
    {
     "data": {
      "text/plain": [
       "3"
      ]
     },
     "execution_count": 16,
     "metadata": {},
     "output_type": "execute_result"
    }
   ],
   "source": [
    "len(a)"
   ]
  },
  {
   "cell_type": "code",
   "execution_count": 17,
   "id": "656e6c26-47d8-46ae-91dd-8e56ca3493ad",
   "metadata": {},
   "outputs": [
    {
     "name": "stdout",
     "output_type": "stream",
     "text": [
      "1\n",
      "둘\n",
      "3\n"
     ]
    }
   ],
   "source": [
    "for i in range(0, len(a)) :\n",
    "    print(a[i])"
   ]
  },
  {
   "cell_type": "code",
   "execution_count": 25,
   "id": "14859644-d220-47c5-8623-716eec44b5ce",
   "metadata": {},
   "outputs": [
    {
     "name": "stdin",
     "output_type": "stream",
     "text": [
      "1번쨰 숫자 :  1\n",
      "2번쨰 숫자 :  1\n",
      "3번쨰 숫자 :  1\n",
      "4번쨰 숫자 :  1\n",
      "5번쨰 숫자 :  11\n",
      "6번쨰 숫자 :  1\n"
     ]
    },
    {
     "name": "stdout",
     "output_type": "stream",
     "text": [
      "합계 ==> 16\n"
     ]
    }
   ],
   "source": [
    "aa = []\n",
    "for i in range(0, 6) :\n",
    "    aa.append(0)\n",
    "hap = 0\n",
    "\n",
    "for i in range(0, len(aa)) : \n",
    "    aa[i] = int(input(str(i+1) +\"번쨰 숫자 : \"))\n",
    "    hap += aa[i]\n",
    "    \n",
    "print(\"합계 ==> %d\" % hap)"
   ]
  },
  {
   "cell_type": "markdown",
   "id": "f0e90205-3e00-48ba-9d71-e6e223a230ca",
   "metadata": {},
   "source": [
    "P192\n",
    "- 역순으로된 인덱스"
   ]
  },
  {
   "cell_type": "code",
   "execution_count": 27,
   "id": "7b965744-3218-481f-a057-b14a32eb838e",
   "metadata": {},
   "outputs": [
    {
     "ename": "IndexError",
     "evalue": "list index out of range",
     "output_type": "error",
     "traceback": [
      "\u001b[1;31m---------------------------------------------------------------------------\u001b[0m",
      "\u001b[1;31mIndexError\u001b[0m                                Traceback (most recent call last)",
      "\u001b[1;32m~\\AppData\\Local\\Temp/ipykernel_1820/3623732399.py\u001b[0m in \u001b[0;36m<module>\u001b[1;34m\u001b[0m\n\u001b[0;32m     10\u001b[0m     \u001b[0mbb\u001b[0m\u001b[1;33m.\u001b[0m\u001b[0mappend\u001b[0m\u001b[1;33m(\u001b[0m\u001b[0maa\u001b[0m\u001b[1;33m[\u001b[0m\u001b[1;36m99\u001b[0m \u001b[1;33m-\u001b[0m \u001b[0mi\u001b[0m\u001b[1;33m]\u001b[0m\u001b[1;33m)\u001b[0m\u001b[1;33m\u001b[0m\u001b[1;33m\u001b[0m\u001b[0m\n\u001b[0;32m     11\u001b[0m \u001b[1;33m\u001b[0m\u001b[0m\n\u001b[1;32m---> 12\u001b[1;33m \u001b[0mprint\u001b[0m\u001b[1;33m(\u001b[0m\u001b[1;34m\"bb[0]에는 %d이, bb[99]에는 %d이 입력됩니다.\"\u001b[0m \u001b[1;33m%\u001b[0m \u001b[1;33m(\u001b[0m\u001b[0mbb\u001b[0m\u001b[1;33m[\u001b[0m\u001b[1;36m0\u001b[0m\u001b[1;33m]\u001b[0m\u001b[1;33m,\u001b[0m \u001b[0mb\u001b[0m\u001b[1;33m[\u001b[0m\u001b[1;36m99\u001b[0m\u001b[1;33m]\u001b[0m\u001b[1;33m)\u001b[0m\u001b[1;33m)\u001b[0m\u001b[1;33m\u001b[0m\u001b[1;33m\u001b[0m\u001b[0m\n\u001b[0m",
      "\u001b[1;31mIndexError\u001b[0m: list index out of range"
     ]
    }
   ],
   "source": [
    "aa = []\n",
    "bb = []\n",
    "value = 0\n",
    "\n",
    "for i in range(0, 100) :\n",
    "    aa.append(value)\n",
    "    value += 2\n",
    "    \n",
    "for i in range(0, 100) :\n",
    "    bb.append(aa[99 - i])\n",
    "        \n",
    "print(\"bb[0]에는 %d이, bb[99]에는 %d이 입력됩니다.\" % (bb[0], b[99]))"
   ]
  },
  {
   "cell_type": "code",
   "execution_count": 28,
   "id": "8de840c4-87ff-45ce-aaf1-cfa923729029",
   "metadata": {},
   "outputs": [
    {
     "data": {
      "text/plain": [
       "[10, 20, 30, 40]"
      ]
     },
     "execution_count": 28,
     "metadata": {},
     "output_type": "execute_result"
    }
   ],
   "source": [
    "aa = [10,20,30,40]\n",
    "aa"
   ]
  },
  {
   "cell_type": "code",
   "execution_count": 29,
   "id": "81d0598a-c2a5-47b4-be60-843cb30c51ca",
   "metadata": {},
   "outputs": [
    {
     "data": {
      "text/plain": [
       "(10, 30, 20)"
      ]
     },
     "execution_count": 29,
     "metadata": {},
     "output_type": "execute_result"
    }
   ],
   "source": [
    "aa[0], aa[2], aa[1]"
   ]
  },
  {
   "cell_type": "code",
   "execution_count": 30,
   "id": "408f8668-d7a6-4507-910a-7e63d59d1525",
   "metadata": {},
   "outputs": [
    {
     "data": {
      "text/plain": [
       "(40, 30)"
      ]
     },
     "execution_count": 30,
     "metadata": {},
     "output_type": "execute_result"
    }
   ],
   "source": [
    "aa[-1], aa[-2]"
   ]
  },
  {
   "cell_type": "code",
   "execution_count": 31,
   "id": "44c242de-094e-4bf7-a1c1-642d61f84afb",
   "metadata": {},
   "outputs": [
    {
     "data": {
      "text/plain": [
       "[10]"
      ]
     },
     "execution_count": 31,
     "metadata": {},
     "output_type": "execute_result"
    }
   ],
   "source": [
    "# 인덱스 법위 'start:stop'\n",
    "aa[0:1]     # 끝은 stop - 1"
   ]
  },
  {
   "cell_type": "code",
   "execution_count": 32,
   "id": "b7e0edef-3fe1-4a22-ae1a-f7a51c585e8b",
   "metadata": {},
   "outputs": [
    {
     "data": {
      "text/plain": [
       "[20, 30, 40]"
      ]
     },
     "execution_count": 32,
     "metadata": {},
     "output_type": "execute_result"
    }
   ],
   "source": [
    "aa[1:]"
   ]
  },
  {
   "cell_type": "code",
   "execution_count": 34,
   "id": "1bb465f4-628c-4c66-a706-ad65c735dd15",
   "metadata": {},
   "outputs": [
    {
     "data": {
      "text/plain": [
       "[10, 20]"
      ]
     },
     "execution_count": 34,
     "metadata": {},
     "output_type": "execute_result"
    }
   ],
   "source": [
    "aa[:2]"
   ]
  },
  {
   "cell_type": "code",
   "execution_count": 35,
   "id": "f319a6a8-e7ee-40f9-ac38-6398e98e4d5e",
   "metadata": {},
   "outputs": [
    {
     "data": {
      "text/plain": [
       "[10, 20, 30, 40]"
      ]
     },
     "execution_count": 35,
     "metadata": {},
     "output_type": "execute_result"
    }
   ],
   "source": [
    "aa[:]"
   ]
  },
  {
   "cell_type": "code",
   "execution_count": null,
   "id": "619b1488-6e52-45a5-8913-4493e30c2a9f",
   "metadata": {},
   "outputs": [],
   "source": [
    "_ = aa[:] #COPY"
   ]
  },
  {
   "cell_type": "markdown",
   "id": "39c27660-fa57-4784-9f9e-edb3780d4880",
   "metadata": {},
   "source": [
    "# in, not in"
   ]
  },
  {
   "cell_type": "code",
   "execution_count": 36,
   "id": "7c4afbdc-b07b-479c-8824-5e3baa97df21",
   "metadata": {},
   "outputs": [
    {
     "data": {
      "text/plain": [
       "True"
      ]
     },
     "execution_count": 36,
     "metadata": {},
     "output_type": "execute_result"
    }
   ],
   "source": [
    "10 in aa"
   ]
  },
  {
   "cell_type": "code",
   "execution_count": 37,
   "id": "cb1bb4f7-943b-4874-97dc-229eb25b71a9",
   "metadata": {},
   "outputs": [
    {
     "data": {
      "text/plain": [
       "False"
      ]
     },
     "execution_count": 37,
     "metadata": {},
     "output_type": "execute_result"
    }
   ],
   "source": [
    "10 not in aa"
   ]
  },
  {
   "cell_type": "markdown",
   "id": "8cbdc556-5f23-493e-a997-9d812984e70c",
   "metadata": {},
   "source": [
    "### broadcasting"
   ]
  },
  {
   "cell_type": "code",
   "execution_count": 38,
   "id": "0dcaa24b-fdab-4cc0-9676-c9b46fbf4b44",
   "metadata": {},
   "outputs": [
    {
     "data": {
      "text/plain": [
       "([10, 20, 30, 40], [50, 60, 70, 80])"
      ]
     },
     "execution_count": 38,
     "metadata": {},
     "output_type": "execute_result"
    }
   ],
   "source": [
    "a = [10,20,30,40]\n",
    "b = [50,60,70,80]\n",
    "a,b"
   ]
  },
  {
   "cell_type": "code",
   "execution_count": 39,
   "id": "e0cf7419-8a35-4352-82c0-b7ca22a20602",
   "metadata": {},
   "outputs": [
    {
     "name": "stdout",
     "output_type": "stream",
     "text": [
      "[10, 20, 30, 40, 10, 20, 30, 40]\n"
     ]
    }
   ],
   "source": [
    "print(a * 2)"
   ]
  },
  {
   "cell_type": "code",
   "execution_count": 40,
   "id": "3630aef7-38b1-40e0-87f0-5b0e18c70d80",
   "metadata": {},
   "outputs": [
    {
     "ename": "TypeError",
     "evalue": "can only concatenate list (not \"int\") to list",
     "output_type": "error",
     "traceback": [
      "\u001b[1;31m---------------------------------------------------------------------------\u001b[0m",
      "\u001b[1;31mTypeError\u001b[0m                                 Traceback (most recent call last)",
      "\u001b[1;32m~\\AppData\\Local\\Temp/ipykernel_1820/559713107.py\u001b[0m in \u001b[0;36m<module>\u001b[1;34m\u001b[0m\n\u001b[1;32m----> 1\u001b[1;33m \u001b[0mprint\u001b[0m\u001b[1;33m(\u001b[0m\u001b[0ma\u001b[0m \u001b[1;33m+\u001b[0m \u001b[1;36m2\u001b[0m\u001b[1;33m)\u001b[0m\u001b[1;33m\u001b[0m\u001b[1;33m\u001b[0m\u001b[0m\n\u001b[0m",
      "\u001b[1;31mTypeError\u001b[0m: can only concatenate list (not \"int\") to list"
     ]
    }
   ],
   "source": [
    "print(a + 2)"
   ]
  },
  {
   "cell_type": "code",
   "execution_count": 41,
   "id": "15b0e85b-b75a-490c-ae74-72e582a7d297",
   "metadata": {},
   "outputs": [
    {
     "ename": "TypeError",
     "evalue": "unsupported operand type(s) for -: 'list' and 'int'",
     "output_type": "error",
     "traceback": [
      "\u001b[1;31m---------------------------------------------------------------------------\u001b[0m",
      "\u001b[1;31mTypeError\u001b[0m                                 Traceback (most recent call last)",
      "\u001b[1;32m~\\AppData\\Local\\Temp/ipykernel_1820/3592445512.py\u001b[0m in \u001b[0;36m<module>\u001b[1;34m\u001b[0m\n\u001b[1;32m----> 1\u001b[1;33m \u001b[0ma\u001b[0m \u001b[1;33m-\u001b[0m \u001b[1;36m2\u001b[0m\u001b[1;33m\u001b[0m\u001b[1;33m\u001b[0m\u001b[0m\n\u001b[0m",
      "\u001b[1;31mTypeError\u001b[0m: unsupported operand type(s) for -: 'list' and 'int'"
     ]
    }
   ],
   "source": [
    "a - 2"
   ]
  },
  {
   "cell_type": "code",
   "execution_count": 42,
   "id": "c7683f77-9e51-403c-b33a-e09755d0d799",
   "metadata": {},
   "outputs": [
    {
     "data": {
      "text/plain": [
       "[10, 20, 30, 40, 50, 60, 70, 80]"
      ]
     },
     "execution_count": 42,
     "metadata": {},
     "output_type": "execute_result"
    }
   ],
   "source": [
    "a + b"
   ]
  },
  {
   "cell_type": "code",
   "execution_count": 43,
   "id": "8b06f219-6275-43bc-a47a-9df8094fc393",
   "metadata": {},
   "outputs": [
    {
     "ename": "TypeError",
     "evalue": "can't multiply sequence by non-int of type 'list'",
     "output_type": "error",
     "traceback": [
      "\u001b[1;31m---------------------------------------------------------------------------\u001b[0m",
      "\u001b[1;31mTypeError\u001b[0m                                 Traceback (most recent call last)",
      "\u001b[1;32m~\\AppData\\Local\\Temp/ipykernel_1820/937666681.py\u001b[0m in \u001b[0;36m<module>\u001b[1;34m\u001b[0m\n\u001b[1;32m----> 1\u001b[1;33m \u001b[0ma\u001b[0m \u001b[1;33m*\u001b[0m \u001b[0mb\u001b[0m\u001b[1;33m\u001b[0m\u001b[1;33m\u001b[0m\u001b[0m\n\u001b[0m",
      "\u001b[1;31mTypeError\u001b[0m: can't multiply sequence by non-int of type 'list'"
     ]
    }
   ],
   "source": [
    "a * b"
   ]
  },
  {
   "cell_type": "code",
   "execution_count": 45,
   "id": "f5960b8f-037f-4070-a74a-36efd1b2e771",
   "metadata": {},
   "outputs": [
    {
     "data": {
      "text/plain": [
       "[10, 30, 50, 70]"
      ]
     },
     "execution_count": 45,
     "metadata": {},
     "output_type": "execute_result"
    }
   ],
   "source": [
    "a = [10,20,30,40,50,60,70,80]\n",
    "a[::2]"
   ]
  },
  {
   "cell_type": "code",
   "execution_count": 46,
   "id": "d0f4aa27-4010-47fd-b082-6bfff3e70a80",
   "metadata": {},
   "outputs": [
    {
     "data": {
      "text/plain": [
       "[80, 60, 40, 20]"
      ]
     },
     "execution_count": 46,
     "metadata": {},
     "output_type": "execute_result"
    }
   ],
   "source": [
    "a[::-2]"
   ]
  },
  {
   "cell_type": "markdown",
   "id": "5818af01-fcdb-4361-a322-dfbc8289465e",
   "metadata": {},
   "source": [
    "값의 변경\n",
    " - 불변형 자료 : string, tuple\n",
    " - 가변형 자료 : list, dict\n",
    "\n"
   ]
  },
  {
   "cell_type": "markdown",
   "id": "22c5902f-5c2d-4b37-8f94-1d3ffe1381e0",
   "metadata": {},
   "source": [
    "# list함수"
   ]
  },
  {
   "cell_type": "code",
   "execution_count": 47,
   "id": "274467a1-f159-4241-afa5-ec4596fa6378",
   "metadata": {},
   "outputs": [
    {
     "name": "stdout",
     "output_type": "stream",
     "text": [
      "1\n",
      "2\n",
      "3\n",
      "4\n",
      "5\n",
      "6\n",
      "7\n",
      "8\n",
      "9\n",
      "10\n",
      "11\n",
      "12\n",
      "13\n",
      "14\n",
      "15\n",
      "16\n",
      "17\n",
      "18\n",
      "19\n",
      "20\n",
      "21\n",
      "22\n",
      "23\n",
      "24\n",
      "25\n",
      "26\n",
      "27\n",
      "28\n",
      "29\n",
      "30\n",
      "31\n",
      "32\n",
      "33\n",
      "34\n",
      "35\n",
      "36\n",
      "37\n",
      "38\n",
      "39\n",
      "40\n",
      "41\n",
      "42\n",
      "43\n",
      "44\n",
      "45\n",
      "46\n",
      "47\n",
      "48\n",
      "49\n",
      "50\n",
      "51\n",
      "52\n",
      "53\n",
      "54\n",
      "55\n",
      "56\n",
      "57\n",
      "58\n",
      "59\n",
      "60\n",
      "61\n",
      "62\n",
      "63\n",
      "64\n",
      "65\n",
      "66\n",
      "67\n",
      "68\n",
      "69\n",
      "70\n",
      "71\n",
      "72\n",
      "73\n",
      "74\n",
      "75\n",
      "76\n",
      "77\n",
      "78\n",
      "79\n",
      "80\n",
      "81\n",
      "82\n",
      "83\n",
      "84\n",
      "85\n",
      "86\n",
      "87\n",
      "88\n",
      "89\n",
      "90\n",
      "91\n",
      "92\n",
      "93\n",
      "94\n",
      "95\n",
      "96\n",
      "97\n",
      "98\n",
      "99\n"
     ]
    }
   ],
   "source": [
    "for i in range(1, 100) :\n",
    "    print(i)"
   ]
  },
  {
   "cell_type": "code",
   "execution_count": 49,
   "id": "a0d1c700-5445-46b1-8ffc-a17aee9c80f5",
   "metadata": {},
   "outputs": [
    {
     "name": "stdout",
     "output_type": "stream",
     "text": [
      "[1, 2, 3, 4, 5, 6, 7, 8, 9, 10, 11, 12, 13, 14, 15, 16, 17, 18, 19, 20, 21, 22, 23, 24, 25, 26, 27, 28, 29, 30, 31, 32, 33, 34, 35, 36, 37, 38, 39, 40, 41, 42, 43, 44, 45, 46, 47, 48, 49, 50, 51, 52, 53, 54, 55, 56, 57, 58, 59, 60, 61, 62, 63, 64, 65, 66, 67, 68, 69, 70, 71, 72, 73, 74, 75, 76, 77, 78, 79, 80, 81, 82, 83, 84, 85, 86, 87, 88, 89, 90, 91, 92, 93, 94, 95, 96, 97, 98, 99]\n"
     ]
    }
   ],
   "source": [
    "nums = list(range(1, 100))\n",
    "print(nums)"
   ]
  },
  {
   "cell_type": "code",
   "execution_count": 50,
   "id": "c46c268e-4623-40e7-bb96-8d87bd344b0f",
   "metadata": {},
   "outputs": [
    {
     "data": {
      "text/plain": [
       "\u001b[1;31mInit signature:\u001b[0m \u001b[0mlist\u001b[0m\u001b[1;33m(\u001b[0m\u001b[0miterable\u001b[0m\u001b[1;33m=\u001b[0m\u001b[1;33m(\u001b[0m\u001b[1;33m)\u001b[0m\u001b[1;33m,\u001b[0m \u001b[1;33m/\u001b[0m\u001b[1;33m)\u001b[0m\u001b[1;33m\u001b[0m\u001b[1;33m\u001b[0m\u001b[0m\n",
       "\u001b[1;31mDocstring:\u001b[0m     \n",
       "Built-in mutable sequence.\n",
       "\n",
       "If no argument is given, the constructor creates a new empty list.\n",
       "The argument must be an iterable if specified.\n",
       "\u001b[1;31mType:\u001b[0m           type\n",
       "\u001b[1;31mSubclasses:\u001b[0m     _HashedSeq, StackSummary, DeferredConfigList, SList, _ImmutableLineList, FormattedText, NodeList, _ExplodedList, Stack, _Accumulator, ...\n"
      ]
     },
     "metadata": {},
     "output_type": "display_data"
    }
   ],
   "source": [
    "list?"
   ]
  },
  {
   "cell_type": "markdown",
   "id": "f72a5819-19ad-4706-875f-c143b369acec",
   "metadata": {},
   "source": [
    "# 리스트 값의 변경"
   ]
  },
  {
   "cell_type": "code",
   "execution_count": 67,
   "id": "a4f672ae-2258-485c-90f8-1dc87a647954",
   "metadata": {},
   "outputs": [
    {
     "name": "stdout",
     "output_type": "stream",
     "text": [
      "[1, 2, 3, 4, 5, 6, 7, 8, 9]\n"
     ]
    }
   ],
   "source": [
    "a = list(range(1, 10))\n",
    "print(a)"
   ]
  },
  {
   "cell_type": "code",
   "execution_count": 53,
   "id": "38bde341-8d95-4fe3-a1f8-7d68f02ab826",
   "metadata": {},
   "outputs": [
    {
     "name": "stdout",
     "output_type": "stream",
     "text": [
      "[1, 2, 300, 4, 5, 6, 7, 8, 9]\n"
     ]
    }
   ],
   "source": [
    "a[2] = 300\n",
    "print(a)"
   ]
  },
  {
   "cell_type": "code",
   "execution_count": 54,
   "id": "cfc2e457-b25e-4f40-967f-b975ac5b6a58",
   "metadata": {},
   "outputs": [
    {
     "name": "stdout",
     "output_type": "stream",
     "text": [
      "[1, 200, 201, 300, 4, 5, 6, 7, 8, 9]\n"
     ]
    }
   ],
   "source": [
    "a[1:2] = [200, 201]\n",
    "print(a)"
   ]
  },
  {
   "cell_type": "code",
   "execution_count": 55,
   "id": "c9baca63-8bc2-4ffc-8e8b-2165976894dc",
   "metadata": {},
   "outputs": [
    {
     "data": {
      "text/plain": [
       "[200, 201, 300]"
      ]
     },
     "execution_count": 55,
     "metadata": {},
     "output_type": "execute_result"
    }
   ],
   "source": [
    "a[1:4]"
   ]
  },
  {
   "cell_type": "code",
   "execution_count": 56,
   "id": "e2d9c809-63aa-4cae-b85f-8dd3fce84eac",
   "metadata": {},
   "outputs": [
    {
     "name": "stdout",
     "output_type": "stream",
     "text": [
      "[-100, -200, 8, 9]\n"
     ]
    }
   ],
   "source": [
    "a[:-2] = [-100, -200]\n",
    "print(a)"
   ]
  },
  {
   "cell_type": "code",
   "execution_count": 62,
   "id": "f3c1597b-a43e-4b8b-ba9e-a72177f12107",
   "metadata": {},
   "outputs": [
    {
     "data": {
      "text/plain": [
       "[-100, -200, 8, 9]"
      ]
     },
     "execution_count": 62,
     "metadata": {},
     "output_type": "execute_result"
    }
   ],
   "source": [
    "a[0:8]"
   ]
  },
  {
   "cell_type": "code",
   "execution_count": 70,
   "id": "0e807712-c8ed-43fd-9f8f-86f9e165675b",
   "metadata": {},
   "outputs": [
    {
     "ename": "IndexError",
     "evalue": "list assignment index out of range",
     "output_type": "error",
     "traceback": [
      "\u001b[1;31m---------------------------------------------------------------------------\u001b[0m",
      "\u001b[1;31mIndexError\u001b[0m                                Traceback (most recent call last)",
      "\u001b[1;32m~\\AppData\\Local\\Temp/ipykernel_1820/876167425.py\u001b[0m in \u001b[0;36m<module>\u001b[1;34m\u001b[0m\n\u001b[1;32m----> 1\u001b[1;33m \u001b[0ma\u001b[0m\u001b[1;33m[\u001b[0m\u001b[1;36m4\u001b[0m\u001b[1;33m]\u001b[0m \u001b[1;33m=\u001b[0m \u001b[1;33m[\u001b[0m\u001b[1;36m200\u001b[0m\u001b[1;33m,\u001b[0m \u001b[1;36m201\u001b[0m\u001b[1;33m]\u001b[0m\u001b[1;33m\u001b[0m\u001b[1;33m\u001b[0m\u001b[0m\n\u001b[0m\u001b[0;32m      2\u001b[0m \u001b[0mprint\u001b[0m\u001b[1;33m(\u001b[0m\u001b[0ma\u001b[0m\u001b[1;33m)\u001b[0m\u001b[1;33m\u001b[0m\u001b[1;33m\u001b[0m\u001b[0m\n",
      "\u001b[1;31mIndexError\u001b[0m: list assignment index out of range"
     ]
    }
   ],
   "source": [
    "a[4] = [200, 201]\n",
    "print(a)"
   ]
  },
  {
   "cell_type": "code",
   "execution_count": 64,
   "id": "915835ac-9164-4a6e-8a13-7bd56d80800b",
   "metadata": {},
   "outputs": [
    {
     "name": "stdout",
     "output_type": "stream",
     "text": [
      "[-100, -200, 8]\n"
     ]
    }
   ],
   "source": [
    "del(a[3:5])\n",
    "print(a)"
   ]
  },
  {
   "cell_type": "code",
   "execution_count": 65,
   "id": "4de78308-d40a-4ceb-bb23-57feaf224b5c",
   "metadata": {},
   "outputs": [
    {
     "name": "stdout",
     "output_type": "stream",
     "text": [
      "[[], -200, 8]\n"
     ]
    }
   ],
   "source": [
    "a[0] = []\n",
    "print(a)"
   ]
  },
  {
   "cell_type": "code",
   "execution_count": 69,
   "id": "c63de4b9-2cee-4ceb-ac97-4a021c0da842",
   "metadata": {},
   "outputs": [
    {
     "name": "stdout",
     "output_type": "stream",
     "text": [
      "[6, 7, 8, 9]\n"
     ]
    }
   ],
   "source": [
    "a[0:2] = []\n",
    "print(a)"
   ]
  },
  {
   "cell_type": "markdown",
   "id": "be82730b-c46b-4124-8d0e-bfe5b201368b",
   "metadata": {},
   "source": [
    "## 집계 함수\n",
    "     - sum(), max, min()\n",
    "     - len()"
   ]
  },
  {
   "cell_type": "code",
   "execution_count": 73,
   "id": "cda4c49c-603a-448d-8d28-19f28b6b7fee",
   "metadata": {},
   "outputs": [],
   "source": [
    "a = [-100, -5, 9, 999, 777, -678]"
   ]
  },
  {
   "cell_type": "code",
   "execution_count": 75,
   "id": "cfb8ae3b-a0a2-4fe0-b172-91de1ab952d4",
   "metadata": {},
   "outputs": [
    {
     "data": {
      "text/plain": [
       "6"
      ]
     },
     "execution_count": 75,
     "metadata": {},
     "output_type": "execute_result"
    }
   ],
   "source": [
    "len(a)"
   ]
  },
  {
   "cell_type": "code",
   "execution_count": 76,
   "id": "65dcb44d-958e-4a29-8397-b5095134acf1",
   "metadata": {},
   "outputs": [
    {
     "name": "stdout",
     "output_type": "stream",
     "text": [
      "0\n"
     ]
    }
   ],
   "source": [
    "#for 써서 합계\n",
    "hap = 0\n",
    "for i in a :\n",
    "    sum += i\n",
    "print(hap)"
   ]
  },
  {
   "cell_type": "code",
   "execution_count": 78,
   "id": "b7ea6277-4892-48f5-a84f-4a4480787374",
   "metadata": {},
   "outputs": [
    {
     "data": {
      "text/plain": [
       "1002"
      ]
     },
     "execution_count": 78,
     "metadata": {},
     "output_type": "execute_result"
    }
   ],
   "source": [
    "sum(a)"
   ]
  },
  {
   "cell_type": "code",
   "execution_count": 79,
   "id": "dda8becd-d323-428c-bb1e-d8090f1ecb09",
   "metadata": {},
   "outputs": [
    {
     "data": {
      "text/plain": [
       "-678"
      ]
     },
     "execution_count": 79,
     "metadata": {},
     "output_type": "execute_result"
    }
   ],
   "source": [
    "min(a)"
   ]
  },
  {
   "cell_type": "code",
   "execution_count": 80,
   "id": "fc359af9-da6a-4598-a3c4-0f836ed439b4",
   "metadata": {},
   "outputs": [
    {
     "data": {
      "text/plain": [
       "999"
      ]
     },
     "execution_count": 80,
     "metadata": {},
     "output_type": "execute_result"
    }
   ],
   "source": [
    "max(a)"
   ]
  },
  {
   "cell_type": "code",
   "execution_count": 92,
   "id": "9334ee48-7d74-4406-9ebb-060ad5b3890a",
   "metadata": {},
   "outputs": [
    {
     "name": "stdout",
     "output_type": "stream",
     "text": [
      "현재 리스트 :[30, 10, 20]\n"
     ]
    },
    {
     "data": {
      "text/plain": [
       "[30, 20, 222, 10, 88, 77]"
      ]
     },
     "execution_count": 92,
     "metadata": {},
     "output_type": "execute_result"
    }
   ],
   "source": [
    "myList = [30, 10, 20]\n",
    "print(\"현재 리스트 :%s\" % myList)\n",
    "\n",
    "myList.append(40)\n",
    "myList\n",
    "myList.pop()\n",
    "myList\n",
    "myList.sort()\n",
    "myList\n",
    "myList.reverse()\n",
    "myList\n",
    "myList.insert(2, 222)\n",
    "myList\n",
    "myList.extend([77,88,77])\n",
    "myList\n",
    "myList.count(77)\n",
    "myList\n",
    "myList.remove(77)\n",
    "myList"
   ]
  },
  {
   "cell_type": "markdown",
   "id": "5bd193f7-cc4f-4a8a-9a91-147ffee9d190",
   "metadata": {},
   "source": [
    "## sorted vs list.sort()"
   ]
  },
  {
   "cell_type": "code",
   "execution_count": 93,
   "id": "6ebcc5d1-68c0-452a-add2-05000f35972b",
   "metadata": {},
   "outputs": [],
   "source": [
    "myList = [30, 10, 20]"
   ]
  },
  {
   "cell_type": "code",
   "execution_count": 94,
   "id": "29d4cd77-a1cd-4b9b-8897-41d462cb1c09",
   "metadata": {},
   "outputs": [
    {
     "data": {
      "text/plain": [
       "[10, 20, 30]"
      ]
     },
     "execution_count": 94,
     "metadata": {},
     "output_type": "execute_result"
    }
   ],
   "source": [
    "sorted(myList)"
   ]
  },
  {
   "cell_type": "code",
   "execution_count": 95,
   "id": "791bd836-586b-4eab-929c-83a60f6f001c",
   "metadata": {},
   "outputs": [
    {
     "data": {
      "text/plain": [
       "[30, 10, 20]"
      ]
     },
     "execution_count": 95,
     "metadata": {},
     "output_type": "execute_result"
    }
   ],
   "source": [
    "myList"
   ]
  },
  {
   "cell_type": "code",
   "execution_count": 96,
   "id": "621fb55c-529f-4cfe-b806-0e47245225fd",
   "metadata": {},
   "outputs": [],
   "source": [
    "myList.sort()"
   ]
  },
  {
   "cell_type": "code",
   "execution_count": 97,
   "id": "c3011d5e-fc58-41eb-9735-29ec9410e5f2",
   "metadata": {},
   "outputs": [
    {
     "data": {
      "text/plain": [
       "[10, 20, 30]"
      ]
     },
     "execution_count": 97,
     "metadata": {},
     "output_type": "execute_result"
    }
   ],
   "source": [
    "myList"
   ]
  },
  {
   "cell_type": "markdown",
   "id": "cc13bf20-9f6d-4696-81d4-a9e0e983b8a2",
   "metadata": {},
   "source": [
    "## 2차원 리스트"
   ]
  },
  {
   "cell_type": "code",
   "execution_count": 98,
   "id": "3194bfeb-189f-4860-8b4f-81af7aeef0e7",
   "metadata": {},
   "outputs": [],
   "source": [
    "a = [[1,2,3,4],\n",
    "    [5,6,7,8,],\n",
    "    [9,10,11,12]]"
   ]
  },
  {
   "cell_type": "code",
   "execution_count": 99,
   "id": "ecd7b830-757d-4efa-90cf-772d25829af6",
   "metadata": {},
   "outputs": [
    {
     "data": {
      "text/plain": [
       "3"
      ]
     },
     "execution_count": 99,
     "metadata": {},
     "output_type": "execute_result"
    }
   ],
   "source": [
    "len(a)"
   ]
  },
  {
   "cell_type": "code",
   "execution_count": 100,
   "id": "404c58e0-03ac-4a38-974c-8212a96383a5",
   "metadata": {},
   "outputs": [
    {
     "data": {
      "text/plain": [
       "([1, 2, 3, 4], [5, 6, 7, 8], [[5, 6, 7, 8], [9, 10, 11, 12]])"
      ]
     },
     "execution_count": 100,
     "metadata": {},
     "output_type": "execute_result"
    }
   ],
   "source": [
    "a[0], a[1], a[1:3]"
   ]
  },
  {
   "cell_type": "code",
   "execution_count": 101,
   "id": "69e18ecb-4fca-4341-bee6-3f442c5647d1",
   "metadata": {},
   "outputs": [
    {
     "data": {
      "text/plain": [
       "2"
      ]
     },
     "execution_count": 101,
     "metadata": {},
     "output_type": "execute_result"
    }
   ],
   "source": [
    "a[0][1]"
   ]
  },
  {
   "cell_type": "code",
   "execution_count": 104,
   "id": "e8bbc297-8c2e-42a7-af2f-f19592cd2c26",
   "metadata": {},
   "outputs": [
    {
     "name": "stdout",
     "output_type": "stream",
     "text": [
      "  1   2   3   4 \n",
      "  5   6   7   8 \n",
      "  9  10  11  12 \n"
     ]
    }
   ],
   "source": [
    "list1 = []\n",
    "list2 = []\n",
    "value = 1\n",
    "for i in range(0, 3) :\n",
    "    for k in range(0, 4) :\n",
    "        list1.append(value)\n",
    "        value += 1\n",
    "    list2.append(list1)\n",
    "    list1 = []\n",
    "    \n",
    "for i in range(0, 3) :\n",
    "    for k in range(0, 4) :\n",
    "        print(\"%3d\" % list2[i][k], end = \" \")\n",
    "    print(\"\")"
   ]
  },
  {
   "cell_type": "markdown",
   "id": "1d30d0a8-c20a-4dbe-b0b9-55277186f755",
   "metadata": {},
   "source": [
    "## 튜플"
   ]
  },
  {
   "cell_type": "code",
   "execution_count": 109,
   "id": "feb89a42-e5bb-40e3-8018-a9a156b3d6be",
   "metadata": {},
   "outputs": [
    {
     "data": {
      "text/plain": [
       "(1, 2, 3, 4, 5)"
      ]
     },
     "execution_count": 109,
     "metadata": {},
     "output_type": "execute_result"
    }
   ],
   "source": [
    "tt1 = (1,2,3,4,5)\n",
    "tt1"
   ]
  },
  {
   "cell_type": "code",
   "execution_count": 111,
   "id": "dc81d4d0-5589-4bac-a4c8-27d59275a47d",
   "metadata": {},
   "outputs": [
    {
     "data": {
      "text/plain": [
       "tuple"
      ]
     },
     "execution_count": 111,
     "metadata": {},
     "output_type": "execute_result"
    }
   ],
   "source": [
    "type(tt1)"
   ]
  },
  {
   "cell_type": "code",
   "execution_count": 110,
   "id": "10f9d2a8-8574-4d30-9b1f-780ac28eea34",
   "metadata": {},
   "outputs": [
    {
     "data": {
      "text/plain": [
       "(0, 10, 5)"
      ]
     },
     "execution_count": 110,
     "metadata": {},
     "output_type": "execute_result"
    }
   ],
   "source": [
    "a, b, c = 0, 10, 5\n",
    "a, b, c"
   ]
  },
  {
   "cell_type": "code",
   "execution_count": 112,
   "id": "db051420-1ee9-43f1-b5ec-fb25d6213d07",
   "metadata": {},
   "outputs": [
    {
     "data": {
      "text/plain": [
       "()"
      ]
     },
     "execution_count": 112,
     "metadata": {},
     "output_type": "execute_result"
    }
   ],
   "source": [
    "tt1 = ()\n",
    "tt1"
   ]
  },
  {
   "cell_type": "code",
   "execution_count": 113,
   "id": "60527bc3-2652-431d-8fe9-2318a4182803",
   "metadata": {},
   "outputs": [
    {
     "data": {
      "text/plain": [
       "(10, 20, 30)"
      ]
     },
     "execution_count": 113,
     "metadata": {},
     "output_type": "execute_result"
    }
   ],
   "source": [
    "tt2 = 10, 20, 30\n",
    "tt2"
   ]
  },
  {
   "cell_type": "code",
   "execution_count": 114,
   "id": "3ba6a4ac-26f4-4b64-b674-682674ce15a2",
   "metadata": {},
   "outputs": [
    {
     "data": {
      "text/plain": [
       "10"
      ]
     },
     "execution_count": 114,
     "metadata": {},
     "output_type": "execute_result"
    }
   ],
   "source": [
    "tt2 = 10\n",
    "tt2"
   ]
  },
  {
   "cell_type": "code",
   "execution_count": 116,
   "id": "ae656ba7-18c9-4cc4-b021-065285054bc6",
   "metadata": {},
   "outputs": [
    {
     "data": {
      "text/plain": [
       "(10,)"
      ]
     },
     "execution_count": 116,
     "metadata": {},
     "output_type": "execute_result"
    }
   ],
   "source": [
    "tt2 = 10,\n",
    "tt2"
   ]
  },
  {
   "cell_type": "markdown",
   "id": "644a4bc0-c8d3-4ff4-b544-b826ba8c89d0",
   "metadata": {},
   "source": [
    "불변형"
   ]
  },
  {
   "cell_type": "code",
   "execution_count": 118,
   "id": "0a626367-2a34-4170-a38e-2c72a85a6939",
   "metadata": {},
   "outputs": [
    {
     "data": {
      "text/plain": [
       "(10, 20, 30, 40, 50, 60, 70)"
      ]
     },
     "execution_count": 118,
     "metadata": {},
     "output_type": "execute_result"
    }
   ],
   "source": [
    "tt2 = 10, 20, 30, 40, 50, 60, 70\n",
    "tt2"
   ]
  },
  {
   "cell_type": "code",
   "execution_count": 119,
   "id": "75986d52-6a45-4e62-af1f-131ce8b90c18",
   "metadata": {},
   "outputs": [
    {
     "data": {
      "text/plain": [
       "(10, 30)"
      ]
     },
     "execution_count": 119,
     "metadata": {},
     "output_type": "execute_result"
    }
   ],
   "source": [
    "tt2[0], tt2[2]"
   ]
  },
  {
   "cell_type": "code",
   "execution_count": 121,
   "id": "9f890f0b-5bf7-4afb-9886-be88a522fbca",
   "metadata": {},
   "outputs": [
    {
     "data": {
      "text/plain": [
       "(30, 40, 50)"
      ]
     },
     "execution_count": 121,
     "metadata": {},
     "output_type": "execute_result"
    }
   ],
   "source": [
    "tt2[2:5]"
   ]
  },
  {
   "cell_type": "code",
   "execution_count": 122,
   "id": "549d4357-44bf-4cf2-abf6-040f3065782f",
   "metadata": {},
   "outputs": [
    {
     "data": {
      "text/plain": [
       "50"
      ]
     },
     "execution_count": 122,
     "metadata": {},
     "output_type": "execute_result"
    }
   ],
   "source": [
    "tt2[-3]"
   ]
  },
  {
   "cell_type": "code",
   "execution_count": 124,
   "id": "229b80cf-bdd3-4c90-a2a1-b7fbef41a15c",
   "metadata": {},
   "outputs": [
    {
     "data": {
      "text/plain": [
       "(10, 20, 30, 40, 50)"
      ]
     },
     "execution_count": 124,
     "metadata": {},
     "output_type": "execute_result"
    }
   ],
   "source": [
    "tt2[:-2]"
   ]
  },
  {
   "cell_type": "code",
   "execution_count": 125,
   "id": "db672e4e-2272-4146-a42a-0e33d6c49bf0",
   "metadata": {},
   "outputs": [
    {
     "ename": "TypeError",
     "evalue": "'tuple' object does not support item assignment",
     "output_type": "error",
     "traceback": [
      "\u001b[1;31m---------------------------------------------------------------------------\u001b[0m",
      "\u001b[1;31mTypeError\u001b[0m                                 Traceback (most recent call last)",
      "\u001b[1;32m~\\AppData\\Local\\Temp/ipykernel_1820/1822700653.py\u001b[0m in \u001b[0;36m<module>\u001b[1;34m\u001b[0m\n\u001b[1;32m----> 1\u001b[1;33m \u001b[0mtt2\u001b[0m\u001b[1;33m[\u001b[0m\u001b[1;36m0\u001b[0m\u001b[1;33m]\u001b[0m \u001b[1;33m=\u001b[0m \u001b[1;36m1000\u001b[0m\u001b[1;33m\u001b[0m\u001b[1;33m\u001b[0m\u001b[0m\n\u001b[0m",
      "\u001b[1;31mTypeError\u001b[0m: 'tuple' object does not support item assignment"
     ]
    }
   ],
   "source": [
    "tt2[0] = 1000"
   ]
  },
  {
   "cell_type": "code",
   "execution_count": 126,
   "id": "c1e63dba-3b14-4d5a-9daf-1ad05b1c71a0",
   "metadata": {},
   "outputs": [
    {
     "ename": "TypeError",
     "evalue": "'tuple' object does not support item assignment",
     "output_type": "error",
     "traceback": [
      "\u001b[1;31m---------------------------------------------------------------------------\u001b[0m",
      "\u001b[1;31mTypeError\u001b[0m                                 Traceback (most recent call last)",
      "\u001b[1;32m~\\AppData\\Local\\Temp/ipykernel_1820/236188005.py\u001b[0m in \u001b[0;36m<module>\u001b[1;34m\u001b[0m\n\u001b[1;32m----> 1\u001b[1;33m \u001b[0mtt2\u001b[0m\u001b[1;33m[\u001b[0m\u001b[1;36m1\u001b[0m\u001b[1;33m:\u001b[0m\u001b[1;36m2\u001b[0m\u001b[1;33m]\u001b[0m \u001b[1;33m=\u001b[0m \u001b[1;33m(\u001b[0m\u001b[1;36m10\u001b[0m\u001b[1;33m,\u001b[0m \u001b[1;36m20\u001b[0m\u001b[1;33m)\u001b[0m\u001b[1;33m\u001b[0m\u001b[1;33m\u001b[0m\u001b[0m\n\u001b[0m\u001b[0;32m      2\u001b[0m \u001b[0mtt2\u001b[0m\u001b[1;33m\u001b[0m\u001b[1;33m\u001b[0m\u001b[0m\n",
      "\u001b[1;31mTypeError\u001b[0m: 'tuple' object does not support item assignment"
     ]
    }
   ],
   "source": [
    "tt2[1:2] = (10, 20)\n",
    "tt2"
   ]
  },
  {
   "cell_type": "code",
   "execution_count": 127,
   "id": "f0d81773-8956-4204-844c-cf920b202332",
   "metadata": {},
   "outputs": [
    {
     "ename": "TypeError",
     "evalue": "'tuple' object doesn't support item deletion",
     "output_type": "error",
     "traceback": [
      "\u001b[1;31m---------------------------------------------------------------------------\u001b[0m",
      "\u001b[1;31mTypeError\u001b[0m                                 Traceback (most recent call last)",
      "\u001b[1;32m~\\AppData\\Local\\Temp/ipykernel_1820/2265084623.py\u001b[0m in \u001b[0;36m<module>\u001b[1;34m\u001b[0m\n\u001b[1;32m----> 1\u001b[1;33m \u001b[1;32mdel\u001b[0m\u001b[1;33m(\u001b[0m\u001b[0mtt2\u001b[0m\u001b[1;33m[\u001b[0m\u001b[1;36m1\u001b[0m\u001b[1;33m]\u001b[0m\u001b[1;33m)\u001b[0m\u001b[1;33m\u001b[0m\u001b[1;33m\u001b[0m\u001b[0m\n\u001b[0m",
      "\u001b[1;31mTypeError\u001b[0m: 'tuple' object doesn't support item deletion"
     ]
    }
   ],
   "source": [
    "del(tt2[1])"
   ]
  },
  {
   "cell_type": "code",
   "execution_count": null,
   "id": "274bb1b5-b6fb-4f98-9dce-bd0cfa036041",
   "metadata": {},
   "outputs": [],
   "source": [
    "del(tt2)"
   ]
  },
  {
   "cell_type": "code",
   "execution_count": 128,
   "id": "d83d4aee-d303-4318-80a2-d18c75f24909",
   "metadata": {},
   "outputs": [],
   "source": [
    "tt2 = ('A','B')\n",
    "tt1 = (10,20,30,40)"
   ]
  },
  {
   "cell_type": "code",
   "execution_count": 129,
   "id": "985959a8-4930-47d3-b033-2a7dc936c8a5",
   "metadata": {},
   "outputs": [
    {
     "ename": "TypeError",
     "evalue": "can only concatenate tuple (not \"int\") to tuple",
     "output_type": "error",
     "traceback": [
      "\u001b[1;31m---------------------------------------------------------------------------\u001b[0m",
      "\u001b[1;31mTypeError\u001b[0m                                 Traceback (most recent call last)",
      "\u001b[1;32m~\\AppData\\Local\\Temp/ipykernel_1820/1310581228.py\u001b[0m in \u001b[0;36m<module>\u001b[1;34m\u001b[0m\n\u001b[1;32m----> 1\u001b[1;33m \u001b[0mtt2\u001b[0m \u001b[1;33m+\u001b[0m\u001b[1;36m2\u001b[0m\u001b[1;33m\u001b[0m\u001b[1;33m\u001b[0m\u001b[0m\n\u001b[0m",
      "\u001b[1;31mTypeError\u001b[0m: can only concatenate tuple (not \"int\") to tuple"
     ]
    }
   ],
   "source": [
    "tt2 +2"
   ]
  },
  {
   "cell_type": "code",
   "execution_count": 130,
   "id": "287017db-a27a-4f77-ba67-0aec0aceca7f",
   "metadata": {},
   "outputs": [
    {
     "data": {
      "text/plain": [
       "('A', 'B', 'A', 'B')"
      ]
     },
     "execution_count": 130,
     "metadata": {},
     "output_type": "execute_result"
    }
   ],
   "source": [
    "tt2 * 2"
   ]
  },
  {
   "cell_type": "code",
   "execution_count": 131,
   "id": "7b8afda3-8534-4df9-b87f-312f815cf1ab",
   "metadata": {},
   "outputs": [
    {
     "data": {
      "text/plain": [
       "('A', 'B', 10, 20, 30, 40)"
      ]
     },
     "execution_count": 131,
     "metadata": {},
     "output_type": "execute_result"
    }
   ],
   "source": [
    "tt2 + tt1"
   ]
  },
  {
   "cell_type": "code",
   "execution_count": 132,
   "id": "c4076ced-dc0e-4821-9ac2-d2d28b22dfd5",
   "metadata": {},
   "outputs": [
    {
     "data": {
      "text/plain": [
       "(1, 2, 3, 4, 5, 6, 7, 8, 9)"
      ]
     },
     "execution_count": 132,
     "metadata": {},
     "output_type": "execute_result"
    }
   ],
   "source": [
    "tt2 = tuple(range(1, 10))\n",
    "tt2"
   ]
  },
  {
   "cell_type": "markdown",
   "id": "6d2ef588-8fef-494a-835d-763f9547e068",
   "metadata": {},
   "source": [
    "# 리스트 <-> 튜플변환\n",
    " - list()\n",
    " - tuple()"
   ]
  },
  {
   "cell_type": "code",
   "execution_count": 133,
   "id": "378b0a03-417c-4682-887a-ee3bb1f40959",
   "metadata": {},
   "outputs": [],
   "source": [
    "li = [1,2,3,4,5]\n",
    "t1 = (-9,-8,-7,-6)"
   ]
  },
  {
   "cell_type": "code",
   "execution_count": 134,
   "id": "64e81203-53d4-4683-b9f2-853866f39b6c",
   "metadata": {},
   "outputs": [
    {
     "data": {
      "text/plain": [
       "(1, 2, 3, 4, 5)"
      ]
     },
     "execution_count": 134,
     "metadata": {},
     "output_type": "execute_result"
    }
   ],
   "source": [
    "tuple(li)"
   ]
  },
  {
   "cell_type": "code",
   "execution_count": 135,
   "id": "720d6c2d-9742-4aa6-badb-f4768f175a93",
   "metadata": {},
   "outputs": [
    {
     "data": {
      "text/plain": [
       "[-9, -8, -7, -6]"
      ]
     },
     "execution_count": 135,
     "metadata": {},
     "output_type": "execute_result"
    }
   ],
   "source": [
    "list(t1)"
   ]
  },
  {
   "cell_type": "markdown",
   "id": "db8b5967-e67f-48e2-9948-4050a8733906",
   "metadata": {},
   "source": [
    "# 딕셔너리"
   ]
  },
  {
   "cell_type": "code",
   "execution_count": 140,
   "id": "ad4b3a50-025c-4433-b1bf-7fb4418eab75",
   "metadata": {},
   "outputs": [
    {
     "data": {
      "text/plain": [
       "dict"
      ]
     },
     "execution_count": 140,
     "metadata": {},
     "output_type": "execute_result"
    }
   ],
   "source": [
    "dic1 = {}\n",
    "type(dic1)"
   ]
  },
  {
   "cell_type": "code",
   "execution_count": 141,
   "id": "f85caa7f-7038-45ac-9560-46c7c3157b8b",
   "metadata": {},
   "outputs": [
    {
     "data": {
      "text/plain": [
       "{1: 'a', 2: 'b', 3: 'c'}"
      ]
     },
     "execution_count": 141,
     "metadata": {},
     "output_type": "execute_result"
    }
   ],
   "source": [
    "dic1 = {1:'a', 2:'b',3:'c'}\n",
    "dic1"
   ]
  },
  {
   "cell_type": "code",
   "execution_count": 142,
   "id": "6cbd27b6-8af0-4a42-9e0e-595afa07d1e8",
   "metadata": {},
   "outputs": [
    {
     "data": {
      "text/plain": [
       "'a'"
      ]
     },
     "execution_count": 142,
     "metadata": {},
     "output_type": "execute_result"
    }
   ],
   "source": [
    "dic1[1]"
   ]
  },
  {
   "cell_type": "code",
   "execution_count": 146,
   "id": "6b9c94ad-b490-4873-b136-fd157be53db3",
   "metadata": {},
   "outputs": [
    {
     "data": {
      "text/plain": [
       "{'a': 123, 'b': 234, 'c': 456}"
      ]
     },
     "execution_count": 146,
     "metadata": {},
     "output_type": "execute_result"
    }
   ],
   "source": [
    "dic1 = {'a' : 123, 'b': 234, 'c': 456}\n",
    "dic1"
   ]
  },
  {
   "cell_type": "code",
   "execution_count": 147,
   "id": "ee925884-bb3c-49f6-849c-a5733b3439f1",
   "metadata": {},
   "outputs": [
    {
     "data": {
      "text/plain": [
       "{'학번': 1000, '이름': '홍길동', '학과': '컴공'}"
      ]
     },
     "execution_count": 147,
     "metadata": {},
     "output_type": "execute_result"
    }
   ],
   "source": [
    "student1 = {'학번' : 1000, '이름' : '홍길동', '학과' : '컴공'}\n",
    "student1"
   ]
  },
  {
   "cell_type": "code",
   "execution_count": 148,
   "id": "c5bb7d8d-7f9f-4b2c-b232-4515700a5b20",
   "metadata": {},
   "outputs": [
    {
     "data": {
      "text/plain": [
       "1000"
      ]
     },
     "execution_count": 148,
     "metadata": {},
     "output_type": "execute_result"
    }
   ],
   "source": [
    "student1['학번']"
   ]
  },
  {
   "cell_type": "code",
   "execution_count": 149,
   "id": "32accf4d-b2e0-4449-92ef-fe3592563d83",
   "metadata": {},
   "outputs": [
    {
     "data": {
      "text/plain": [
       "{'학번': 1000, '이름': '홍길동', '학과': '컴공', '연락처': '000-222-333'}"
      ]
     },
     "execution_count": 149,
     "metadata": {},
     "output_type": "execute_result"
    }
   ],
   "source": [
    "student1['연락처'] = '000-222-333'\n",
    "student1"
   ]
  },
  {
   "cell_type": "code",
   "execution_count": 150,
   "id": "0645152e-77fc-45f6-9590-58e044a19301",
   "metadata": {},
   "outputs": [
    {
     "data": {
      "text/plain": [
       "{'학번': 1000, '이름': '홍길동', '학과': '컴공', '연락처': ''}"
      ]
     },
     "execution_count": 150,
     "metadata": {},
     "output_type": "execute_result"
    }
   ],
   "source": [
    "student1['연락처'] =''\n",
    "student1"
   ]
  },
  {
   "cell_type": "code",
   "execution_count": 151,
   "id": "48cd4a58-5ecd-4b68-bbed-c45d3eabd51f",
   "metadata": {},
   "outputs": [
    {
     "data": {
      "text/plain": [
       "{'학번': 1000, '이름': '홍길동', '학과': '컴공'}"
      ]
     },
     "execution_count": 151,
     "metadata": {},
     "output_type": "execute_result"
    }
   ],
   "source": [
    "del student1['연락처']\n",
    "student1"
   ]
  },
  {
   "cell_type": "code",
   "execution_count": 152,
   "id": "80a8627e-80a8-4482-8eb2-10c0e27e1bb3",
   "metadata": {},
   "outputs": [
    {
     "data": {
      "text/plain": [
       "{'학번': 2000, '이름': '홍길동', '학과': '컴공'}"
      ]
     },
     "execution_count": 152,
     "metadata": {},
     "output_type": "execute_result"
    }
   ],
   "source": [
    "student1 = {'학번' : 1000, '이름' : '홍길동', '학과' : '컴공', '학번' : 2000}\n",
    "student1"
   ]
  },
  {
   "cell_type": "code",
   "execution_count": 153,
   "id": "8a698eb3-a3d2-4a89-b1f1-f1427c1a0463",
   "metadata": {},
   "outputs": [
    {
     "data": {
      "text/plain": [
       "'홍길동'"
      ]
     },
     "execution_count": 153,
     "metadata": {},
     "output_type": "execute_result"
    }
   ],
   "source": [
    "student1.get('이름')"
   ]
  },
  {
   "cell_type": "code",
   "execution_count": 154,
   "id": "85763fc4-f9c6-4182-a293-ca46f06248a5",
   "metadata": {},
   "outputs": [
    {
     "ename": "KeyError",
     "evalue": "'주소'",
     "output_type": "error",
     "traceback": [
      "\u001b[1;31m---------------------------------------------------------------------------\u001b[0m",
      "\u001b[1;31mKeyError\u001b[0m                                  Traceback (most recent call last)",
      "\u001b[1;32m~\\AppData\\Local\\Temp/ipykernel_1820/4148728907.py\u001b[0m in \u001b[0;36m<module>\u001b[1;34m\u001b[0m\n\u001b[1;32m----> 1\u001b[1;33m \u001b[0mstudent1\u001b[0m\u001b[1;33m[\u001b[0m\u001b[1;34m'주소'\u001b[0m\u001b[1;33m]\u001b[0m\u001b[1;33m\u001b[0m\u001b[1;33m\u001b[0m\u001b[0m\n\u001b[0m",
      "\u001b[1;31mKeyError\u001b[0m: '주소'"
     ]
    }
   ],
   "source": [
    "student1['주소']"
   ]
  },
  {
   "cell_type": "code",
   "execution_count": 155,
   "id": "b063a286-e66d-433e-a149-28b76ac0e21e",
   "metadata": {},
   "outputs": [],
   "source": [
    "student1.get('주소')"
   ]
  },
  {
   "cell_type": "code",
   "execution_count": 156,
   "id": "11f3eb00-e68b-4964-8a30-c30ae435942b",
   "metadata": {},
   "outputs": [
    {
     "data": {
      "text/plain": [
       "dict_keys(['학번', '이름', '학과'])"
      ]
     },
     "execution_count": 156,
     "metadata": {},
     "output_type": "execute_result"
    }
   ],
   "source": [
    "student1.keys()"
   ]
  },
  {
   "cell_type": "code",
   "execution_count": 157,
   "id": "fd180bd5-ba5e-44a4-a201-5e9ab9a53b78",
   "metadata": {},
   "outputs": [
    {
     "data": {
      "text/plain": [
       "dict_values([2000, '홍길동', '컴공'])"
      ]
     },
     "execution_count": 157,
     "metadata": {},
     "output_type": "execute_result"
    }
   ],
   "source": [
    "student1.values()"
   ]
  },
  {
   "cell_type": "code",
   "execution_count": 158,
   "id": "83a7c50f-d207-43dd-8d4f-e598e2408e01",
   "metadata": {},
   "outputs": [
    {
     "data": {
      "text/plain": [
       "dict_items([('학번', 2000), ('이름', '홍길동'), ('학과', '컴공')])"
      ]
     },
     "execution_count": 158,
     "metadata": {},
     "output_type": "execute_result"
    }
   ],
   "source": [
    "student1.items()"
   ]
  },
  {
   "cell_type": "code",
   "execution_count": 159,
   "id": "12752525-2969-4f22-91bf-b6819f0c4f0a",
   "metadata": {},
   "outputs": [
    {
     "data": {
      "text/plain": [
       "False"
      ]
     },
     "execution_count": 159,
     "metadata": {},
     "output_type": "execute_result"
    }
   ],
   "source": [
    "'홍길동' in student1"
   ]
  },
  {
   "cell_type": "code",
   "execution_count": 160,
   "id": "e9cb758b-2439-442f-95c9-1b0ff00b96ae",
   "metadata": {},
   "outputs": [
    {
     "data": {
      "text/plain": [
       "True"
      ]
     },
     "execution_count": 160,
     "metadata": {},
     "output_type": "execute_result"
    }
   ],
   "source": [
    "'이름' in student1"
   ]
  },
  {
   "cell_type": "code",
   "execution_count": 161,
   "id": "d958fdae-51d6-403e-a58e-f39cf1abccaa",
   "metadata": {},
   "outputs": [
    {
     "name": "stdout",
     "output_type": "stream",
     "text": [
      "2000\n",
      "홍길동\n",
      "컴공\n"
     ]
    }
   ],
   "source": [
    "for key in student1.keys() :\n",
    "    print(student1[key])"
   ]
  },
  {
   "cell_type": "code",
   "execution_count": 162,
   "id": "3c6beb62-745b-4186-a586-b0381919adf9",
   "metadata": {},
   "outputs": [
    {
     "name": "stdout",
     "output_type": "stream",
     "text": [
      "학번 2000\n",
      "이름 홍길동\n",
      "학과 컴공\n"
     ]
    }
   ],
   "source": [
    "for k, v in student1.items() :\n",
    "    print(k,v)"
   ]
  },
  {
   "cell_type": "code",
   "execution_count": null,
   "id": "9774b41d-3515-4b60-afd6-af0c66032794",
   "metadata": {},
   "outputs": [
    {
     "name": "stdin",
     "output_type": "stream",
     "text": [
      "['떡볶이', '짜장면', '라면', '피자', '맥주', '치킨', '삼겹살']중 좋아하는 음식은? 떡볶이\n"
     ]
    },
    {
     "name": "stdout",
     "output_type": "stream",
     "text": [
      "<떡볶이> 궁합 음식은 <오뎅>입니다.\n"
     ]
    },
    {
     "name": "stdin",
     "output_type": "stream",
     "text": [
      "['떡볶이', '짜장면', '라면', '피자', '맥주', '치킨', '삼겹살']중 좋아하는 음식은? 몰라\n"
     ]
    },
    {
     "name": "stdout",
     "output_type": "stream",
     "text": [
      "그런 음식 업습니다. 확인해 보세요.\n"
     ]
    },
    {
     "name": "stdin",
     "output_type": "stream",
     "text": [
      "['떡볶이', '짜장면', '라면', '피자', '맥주', '치킨', '삼겹살']중 좋아하는 음식은? ㅋ\n"
     ]
    },
    {
     "name": "stdout",
     "output_type": "stream",
     "text": [
      "그런 음식 업습니다. 확인해 보세요.\n"
     ]
    }
   ],
   "source": [
    "foods = {\"떡볶이\" : \"오뎅\",\n",
    "         \"짜장면\" : \"탕수육\",\n",
    "         \"라면\" : \"김치\",\n",
    "         \"피자\" : \"콜라\",\n",
    "         \"맥주\" : \"땅콩\",\n",
    "         \"치킨\" : \"치킨무\",\n",
    "         \"삼겹살\" : \"비빔면\"}\n",
    "while(True) : \n",
    "    myfood = input(str(list(foods.keys())) + '중 좋아하는 음식은?')\n",
    "    if myfood in foods :\n",
    "        print(\"<%s> 궁합 음식은 <%s>입니다.\" % (myfood, foods.get(myfood)))\n",
    "    elif myfood == \"끝\" :\n",
    "        break\n",
    "    else : \n",
    "        print(\"그런 음식 업습니다. 확인해 보세요.\")"
   ]
  },
  {
   "cell_type": "markdown",
   "id": "e38b263c-25e1-4195-92f7-26b24d0421e2",
   "metadata": {},
   "source": [
    "# 세트"
   ]
  },
  {
   "cell_type": "code",
   "execution_count": 1,
   "id": "a6cb07b9-49fe-4330-bd38-b23440e50b40",
   "metadata": {},
   "outputs": [
    {
     "data": {
      "text/plain": [
       "{1, 2, 3, 4}"
      ]
     },
     "execution_count": 1,
     "metadata": {},
     "output_type": "execute_result"
    }
   ],
   "source": [
    "mySet1 = {1,2,3,3,3,4}\n",
    "mySet1"
   ]
  },
  {
   "cell_type": "code",
   "execution_count": 2,
   "id": "3d5d38da-69ff-41dd-8424-548fd0a9d777",
   "metadata": {},
   "outputs": [
    {
     "data": {
      "text/plain": [
       "{}"
      ]
     },
     "execution_count": 2,
     "metadata": {},
     "output_type": "execute_result"
    }
   ],
   "source": [
    "s2 = {}\n",
    "s2"
   ]
  },
  {
   "cell_type": "code",
   "execution_count": 3,
   "id": "c0c4ec9e-bb58-4e40-83a3-e836fdcc387e",
   "metadata": {},
   "outputs": [
    {
     "data": {
      "text/plain": [
       "dict"
      ]
     },
     "execution_count": 3,
     "metadata": {},
     "output_type": "execute_result"
    }
   ],
   "source": [
    "type(s2)"
   ]
  },
  {
   "cell_type": "code",
   "execution_count": 5,
   "id": "6d2f85e3-7c2d-4607-ad17-77cbf7ce7fdd",
   "metadata": {},
   "outputs": [
    {
     "data": {
      "text/plain": [
       "set()"
      ]
     },
     "execution_count": 5,
     "metadata": {},
     "output_type": "execute_result"
    }
   ],
   "source": [
    "s2 = set()\n",
    "s2"
   ]
  },
  {
   "cell_type": "code",
   "execution_count": 6,
   "id": "07c6fea5-f5c4-40e9-aa6f-69f8ee70fdf9",
   "metadata": {},
   "outputs": [
    {
     "data": {
      "text/plain": [
       "set"
      ]
     },
     "execution_count": 6,
     "metadata": {},
     "output_type": "execute_result"
    }
   ],
   "source": [
    "type(s2)"
   ]
  },
  {
   "cell_type": "code",
   "execution_count": 7,
   "id": "f5372092-25bc-4150-a07d-819ec0916792",
   "metadata": {},
   "outputs": [
    {
     "data": {
      "text/plain": [
       "{1, 2, 3, 6, 7}"
      ]
     },
     "execution_count": 7,
     "metadata": {},
     "output_type": "execute_result"
    }
   ],
   "source": [
    "mySet1 = {1,2,3,4,5}\n",
    "mySet2 = {4,5,6,7}\n",
    "mySet1 & mySet2\n",
    "mySet1 | mySet2\n",
    "mySet1 - mySet2\n",
    "mySet1 ^ mySet2"
   ]
  },
  {
   "cell_type": "code",
   "execution_count": 12,
   "id": "e74f7234-d75e-4c6f-bc6d-c824625e89c6",
   "metadata": {},
   "outputs": [
    {
     "data": {
      "text/plain": [
       "{1, 2, 3, 6, 7}"
      ]
     },
     "execution_count": 12,
     "metadata": {},
     "output_type": "execute_result"
    }
   ],
   "source": [
    "mySet1.intersection(mySet2)\n",
    "mySet1.union(mySet2)\n",
    "mySet1.difference(mySet2)\n",
    "mySet1.symmetric_difference(mySet2)"
   ]
  },
  {
   "cell_type": "markdown",
   "id": "bc256ade-1d14-42eb-9806-29cbf0bb08f4",
   "metadata": {},
   "source": [
    "# 컴프리헨션"
   ]
  },
  {
   "cell_type": "code",
   "execution_count": 13,
   "id": "a168b5c6-2f8b-4f91-b397-c11def1c52f7",
   "metadata": {},
   "outputs": [
    {
     "data": {
      "text/plain": [
       "[2, 4, 6, 8, 10]"
      ]
     },
     "execution_count": 13,
     "metadata": {},
     "output_type": "execute_result"
    }
   ],
   "source": [
    "[num * 2 for num in range(1, 6)]"
   ]
  },
  {
   "cell_type": "code",
   "execution_count": 14,
   "id": "45243f03-596d-49d8-a049-728ae411b7e1",
   "metadata": {},
   "outputs": [
    {
     "data": {
      "text/plain": [
       "[2, 4, 6, 8, 10]"
      ]
     },
     "execution_count": 14,
     "metadata": {},
     "output_type": "execute_result"
    }
   ],
   "source": [
    "numlist = [num * 2 for num in range(1, 6)]\n",
    "numlist"
   ]
  },
  {
   "cell_type": "code",
   "execution_count": 15,
   "id": "8741c65a-708a-4006-9786-e54eaafe1d52",
   "metadata": {},
   "outputs": [
    {
     "data": {
      "text/plain": [
       "list"
      ]
     },
     "execution_count": 15,
     "metadata": {},
     "output_type": "execute_result"
    }
   ],
   "source": [
    "type(numlist)"
   ]
  },
  {
   "cell_type": "code",
   "execution_count": 16,
   "id": "dccc9ff9-42d2-4547-8f13-3484092e1162",
   "metadata": {},
   "outputs": [
    {
     "data": {
      "text/plain": [
       "[3, 6, 9, 12, 15, 18]"
      ]
     },
     "execution_count": 16,
     "metadata": {},
     "output_type": "execute_result"
    }
   ],
   "source": [
    "[num for num in range(1, 21) if num % 3 == 0]"
   ]
  },
  {
   "cell_type": "code",
   "execution_count": 17,
   "id": "b3939c39-c80e-47b3-9677-4f74be68dcba",
   "metadata": {},
   "outputs": [],
   "source": [
    "foods = ['1','2','3','4','5']\n",
    "side = [-1,-2,-3]"
   ]
  },
  {
   "cell_type": "code",
   "execution_count": 19,
   "id": "27321d65-dc29-4849-bd2b-cad19702768b",
   "metadata": {},
   "outputs": [
    {
     "name": "stdout",
     "output_type": "stream",
     "text": [
      "1 -1\n",
      "2 -2\n",
      "3 -3\n"
     ]
    }
   ],
   "source": [
    "for f, s in zip(foods, side) :\n",
    "    print (f, s)"
   ]
  },
  {
   "cell_type": "code",
   "execution_count": 20,
   "id": "72c8f3bc-e575-4501-98d1-6d43077646ec",
   "metadata": {},
   "outputs": [
    {
     "data": {
      "text/plain": [
       "<zip at 0x1dd368ca800>"
      ]
     },
     "execution_count": 20,
     "metadata": {},
     "output_type": "execute_result"
    }
   ],
   "source": [
    "zip(foods, side)"
   ]
  },
  {
   "cell_type": "code",
   "execution_count": 25,
   "id": "6ee41733-bdf3-4f30-9977-6667471dbd4c",
   "metadata": {},
   "outputs": [
    {
     "data": {
      "text/plain": [
       "[('1', -1), ('2', -2), ('3', -3)]"
      ]
     },
     "execution_count": 25,
     "metadata": {},
     "output_type": "execute_result"
    }
   ],
   "source": [
    "tupList = list(zip(foods, side))\n",
    "dic = dict(zip(foods, side))\n",
    "tupList"
   ]
  },
  {
   "cell_type": "code",
   "execution_count": 26,
   "id": "dbd8619b-31e7-46d6-be99-d764beefe001",
   "metadata": {},
   "outputs": [
    {
     "data": {
      "text/plain": [
       "{'1': -1, '2': -2, '3': -3}"
      ]
     },
     "execution_count": 26,
     "metadata": {},
     "output_type": "execute_result"
    }
   ],
   "source": [
    "dic"
   ]
  },
  {
   "cell_type": "markdown",
   "id": "8d095580-5d38-457e-8d48-6cfc0518203d",
   "metadata": {},
   "source": [
    "# 복사: 얕은복사/깊은복사\n",
    " - copy by value\n",
    " - copy by reference"
   ]
  },
  {
   "cell_type": "code",
   "execution_count": 27,
   "id": "5438606b-e38b-4129-94c0-0e6b8fe99e42",
   "metadata": {},
   "outputs": [],
   "source": [
    "li = [1,2,3,4]\n",
    "li2 = li"
   ]
  },
  {
   "cell_type": "code",
   "execution_count": 28,
   "id": "d9e10f42-8c88-440b-81f0-60a3da3d700c",
   "metadata": {},
   "outputs": [
    {
     "data": {
      "text/plain": [
       "[1, 2, 3, 4]"
      ]
     },
     "execution_count": 28,
     "metadata": {},
     "output_type": "execute_result"
    }
   ],
   "source": [
    "li"
   ]
  },
  {
   "cell_type": "code",
   "execution_count": 29,
   "id": "8d8e9b26-4209-4f5f-bfb1-dee1be716cbe",
   "metadata": {},
   "outputs": [
    {
     "data": {
      "text/plain": [
       "[1, 2, 3, 4]"
      ]
     },
     "execution_count": 29,
     "metadata": {},
     "output_type": "execute_result"
    }
   ],
   "source": [
    "li2"
   ]
  },
  {
   "cell_type": "markdown",
   "id": "12f1bcec-eed1-4747-8bb6-2c7e4eb1fdcc",
   "metadata": {},
   "source": [
    "### 주소가 같음,다름 .. P217,218"
   ]
  },
  {
   "cell_type": "code",
   "execution_count": 30,
   "id": "5dd6ca25-0ad9-4158-a4df-0c333013d172",
   "metadata": {},
   "outputs": [
    {
     "data": {
      "text/plain": [
       "2049616059520"
      ]
     },
     "execution_count": 30,
     "metadata": {},
     "output_type": "execute_result"
    }
   ],
   "source": [
    "id(li)"
   ]
  },
  {
   "cell_type": "code",
   "execution_count": 31,
   "id": "83c72b8b-ab2b-4632-9e1c-a0468271cbd1",
   "metadata": {},
   "outputs": [
    {
     "data": {
      "text/plain": [
       "2049616059520"
      ]
     },
     "execution_count": 31,
     "metadata": {},
     "output_type": "execute_result"
    }
   ],
   "source": [
    "id(li2)"
   ]
  },
  {
   "cell_type": "code",
   "execution_count": 32,
   "id": "4a735ada-3e74-4055-8579-cb6904c3b64c",
   "metadata": {},
   "outputs": [
    {
     "name": "stdout",
     "output_type": "stream",
     "text": [
      "['짜장면', '탕수육', '군만두']\n",
      "['짬뽕', '탕수육', '군만두', '깐풍기']\n"
     ]
    }
   ],
   "source": [
    "oldList = ['짜장면','탕수육','군만두']\n",
    "newList = oldList\n",
    "print(newList)\n",
    "oldList[0] = '짬뽕'\n",
    "oldList.append('깐풍기')\n",
    "print(newList)"
   ]
  },
  {
   "cell_type": "code",
   "execution_count": 34,
   "id": "0ff083f1-20a8-45c0-83c7-80045de35cb7",
   "metadata": {},
   "outputs": [
    {
     "data": {
      "text/plain": [
       "2049616860160"
      ]
     },
     "execution_count": 34,
     "metadata": {},
     "output_type": "execute_result"
    }
   ],
   "source": [
    "id(oldList)"
   ]
  },
  {
   "cell_type": "code",
   "execution_count": 35,
   "id": "121d708e-90b4-42e7-be09-6e2c16f7f4d4",
   "metadata": {},
   "outputs": [
    {
     "data": {
      "text/plain": [
       "2049616860160"
      ]
     },
     "execution_count": 35,
     "metadata": {},
     "output_type": "execute_result"
    }
   ],
   "source": [
    "id(newList)"
   ]
  },
  {
   "cell_type": "markdown",
   "id": "6511af6a-3647-4011-9352-24afb2db5ff6",
   "metadata": {},
   "source": [
    "copy by reference 문제 회피\n",
    "   - deep coopy\n",
    "   새로운 객체id 만들기"
   ]
  },
  {
   "cell_type": "code",
   "execution_count": 192,
   "id": "a9978805-2040-4bd8-8c91-c03fcaebe99f",
   "metadata": {},
   "outputs": [
    {
     "data": {
      "text/plain": [
       "(2038944713472, 2038944429632)"
      ]
     },
     "execution_count": 192,
     "metadata": {},
     "output_type": "execute_result"
    }
   ],
   "source": [
    "oldList = ['짜장면','탕수육','군만두']\n",
    "newList = oldList[:]\n",
    "id(newList), id(oldList)"
   ]
  },
  {
   "cell_type": "code",
   "execution_count": 195,
   "id": "65cafe9f-f2d9-4e5e-8e71-0a360ae4feef",
   "metadata": {},
   "outputs": [
    {
     "data": {
      "text/plain": [
       "(2038944713472, 2038944724800)"
      ]
     },
     "execution_count": 195,
     "metadata": {},
     "output_type": "execute_result"
    }
   ],
   "source": [
    "newlList = oldList.copy()\n",
    "id(newList), id(oldList)"
   ]
  },
  {
   "cell_type": "code",
   "execution_count": 37,
   "id": "fa5af0ae-3f89-40f2-8f75-040383399a25",
   "metadata": {},
   "outputs": [
    {
     "name": "stdout",
     "output_type": "stream",
     "text": [
      "['짜장면', '탕수육', '군만두']\n",
      "['짜장면', '탕수육', '군만두']\n",
      "['짬뽕', '탕수육', '군만두', '깐풍기']\n"
     ]
    }
   ],
   "source": [
    "oldList = ['짜장면','탕수육','군만두']\n",
    "newList = oldList[:]\n",
    "print(newList)\n",
    "oldList[0] = '짬뽕'\n",
    "oldList.append('깐풍기')\n",
    "print(newList)\n",
    "print(oldList)"
   ]
  },
  {
   "cell_type": "code",
   "execution_count": 38,
   "id": "4f482f39-ee23-4400-9dfc-5186c6936649",
   "metadata": {},
   "outputs": [
    {
     "data": {
      "text/plain": [
       "2049614161408"
      ]
     },
     "execution_count": 38,
     "metadata": {},
     "output_type": "execute_result"
    }
   ],
   "source": [
    "id(newList)"
   ]
  },
  {
   "cell_type": "code",
   "execution_count": 39,
   "id": "996b6a58-b239-4fa7-9e2b-9177fe28591e",
   "metadata": {},
   "outputs": [
    {
     "data": {
      "text/plain": [
       "2049616675648"
      ]
     },
     "execution_count": 39,
     "metadata": {},
     "output_type": "execute_result"
    }
   ],
   "source": [
    "id(oldList)"
   ]
  },
  {
   "cell_type": "markdown",
   "id": "2fd57788-1459-4fff-bf3a-fbcb36f2e0fd",
   "metadata": {},
   "source": [
    "# 연습 문제"
   ]
  },
  {
   "cell_type": "code",
   "execution_count": 51,
   "id": "5d5a981d-f30a-4d5f-b4dc-599c106ce37f",
   "metadata": {},
   "outputs": [
    {
     "data": {
      "text/plain": [
       "[100, 200, 300]"
      ]
     },
     "execution_count": 51,
     "metadata": {},
     "output_type": "execute_result"
    }
   ],
   "source": [
    "n1, n2, n3 = 100, 200, 300\n",
    "nn = [n1,n2,n3]\n",
    "nn"
   ]
  },
  {
   "cell_type": "markdown",
   "id": "1c78e6cc-de09-4262-844f-8193230cac25",
   "metadata": {},
   "source": [
    "random 모듈"
   ]
  },
  {
   "cell_type": "code",
   "execution_count": 81,
   "id": "f4ff836d-2ad8-4ea7-aca3-ff99075489dd",
   "metadata": {},
   "outputs": [
    {
     "data": {
      "text/plain": [
       "0.10488294868941372"
      ]
     },
     "execution_count": 81,
     "metadata": {},
     "output_type": "execute_result"
    }
   ],
   "source": [
    "random.random()"
   ]
  },
  {
   "cell_type": "code",
   "execution_count": 127,
   "id": "56e0dfe3-a701-468f-8435-4fd1a3af4f2e",
   "metadata": {},
   "outputs": [
    {
     "data": {
      "text/plain": [
       "7"
      ]
     },
     "execution_count": 127,
     "metadata": {},
     "output_type": "execute_result"
    }
   ],
   "source": [
    "random.randint(1, 20)"
   ]
  },
  {
   "cell_type": "code",
   "execution_count": 173,
   "id": "51b59ed4-bd6e-4d28-b67b-8045175ffe03",
   "metadata": {},
   "outputs": [
    {
     "data": {
      "text/plain": [
       "73"
      ]
     },
     "execution_count": 173,
     "metadata": {},
     "output_type": "execute_result"
    }
   ],
   "source": [
    "random.randrange(1,100)"
   ]
  },
  {
   "cell_type": "code",
   "execution_count": 174,
   "id": "3bf9f7b9-800f-4ed6-b613-4a3cb4432845",
   "metadata": {},
   "outputs": [],
   "source": [
    "a = ['e','d','a','c','b']"
   ]
  },
  {
   "cell_type": "code",
   "execution_count": 185,
   "id": "6782cf6f-56c9-4c73-9cd5-a8a2eb3ee322",
   "metadata": {},
   "outputs": [
    {
     "data": {
      "text/plain": [
       "'b'"
      ]
     },
     "execution_count": 185,
     "metadata": {},
     "output_type": "execute_result"
    }
   ],
   "source": [
    "random.choice(a)"
   ]
  },
  {
   "cell_type": "code",
   "execution_count": 26,
   "id": "a6fe6ee6-c8b2-4aa2-b669-fc9eaac21e56",
   "metadata": {},
   "outputs": [
    {
     "name": "stdout",
     "output_type": "stream",
     "text": [
      "576\n"
     ]
    }
   ],
   "source": [
    "import random\n",
    "nn =[]\n",
    "for _ in range(10) :\n",
    "    num = random.randrange(1, 100)\n",
    "    nn.append(num)\n",
    "hap = 0\n",
    "for i in range(10) :\n",
    "    num = nn[i]\n",
    "    hap += num\n",
    "print(hap)"
   ]
  },
  {
   "cell_type": "code",
   "execution_count": 28,
   "id": "989f9609-dd72-41a7-9cca-11055f40c998",
   "metadata": {},
   "outputs": [
    {
     "name": "stdout",
     "output_type": "stream",
     "text": [
      "[1, 2, 3, 4]\n",
      "[4, 3, 2, 1]\n"
     ]
    }
   ],
   "source": [
    "a1 = [1,2,3,4]\n",
    "a2 = []\n",
    "\n",
    "for i in range(3, -1,-1) :\n",
    "    a2.append(a1[i])\n",
    "print(a1)\n",
    "print(a2)"
   ]
  },
  {
   "cell_type": "code",
   "execution_count": null,
   "id": "2ff35ceb-ae68-4bfe-91fe-93f9c1bf003b",
   "metadata": {},
   "outputs": [],
   "source": []
  },
  {
   "cell_type": "code",
   "execution_count": null,
   "id": "062d8ff6-555b-4dbb-a82d-bf77bfd6e845",
   "metadata": {},
   "outputs": [],
   "source": []
  },
  {
   "cell_type": "code",
   "execution_count": null,
   "id": "0a4e00eb-e6fc-40cb-bb68-18ad8cdf7eea",
   "metadata": {},
   "outputs": [],
   "source": []
  }
 ],
 "metadata": {
  "kernelspec": {
   "display_name": "Python 3 (ipykernel)",
   "language": "python",
   "name": "python3"
  },
  "language_info": {
   "codemirror_mode": {
    "name": "ipython",
    "version": 3
   },
   "file_extension": ".py",
   "mimetype": "text/x-python",
   "name": "python",
   "nbconvert_exporter": "python",
   "pygments_lexer": "ipython3",
   "version": "3.9.7"
  }
 },
 "nbformat": 4,
 "nbformat_minor": 5
}
