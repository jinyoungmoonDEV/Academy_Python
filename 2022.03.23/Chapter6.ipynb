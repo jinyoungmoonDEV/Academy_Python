{
 "cells": [
  {
   "cell_type": "markdown",
   "id": "0c8a29b4-2f11-4af2-b481-c2f7d45fe65d",
   "metadata": {},
   "source": [
    "# Chapter6\n",
    " - 반복!\n",
    "      - 1.for ... in"
   ]
  },
  {
   "cell_type": "code",
   "execution_count": 2,
   "id": "889ae567-9ddb-4280-b38e-9659db3daea1",
   "metadata": {
    "collapsed": true,
    "jupyter": {
     "outputs_hidden": true
    },
    "tags": []
   },
   "outputs": [
    {
     "name": "stdout",
     "output_type": "stream",
     "text": [
      "안녕하세요.... 0\n",
      "안녕하세요.... 2\n",
      "안녕하세요.... 4\n",
      "안녕하세요.... 6\n",
      "안녕하세요.... 8\n"
     ]
    }
   ],
   "source": [
    "for i in range(0,10,2) :\n",
    "    print(\"안녕하세요....\", i)"
   ]
  },
  {
   "cell_type": "code",
   "execution_count": 3,
   "id": "0f6cfd70-c842-4df7-9901-241b15ceff1e",
   "metadata": {
    "tags": []
   },
   "outputs": [
    {
     "name": "stdout",
     "output_type": "stream",
     "text": [
      "안녕하세요.... 20\n",
      "안녕하세요.... 22\n",
      "안녕하세요.... 24\n",
      "안녕하세요.... 26\n",
      "안녕하세요.... 28\n",
      "안녕하세요.... 30\n",
      "안녕하세요.... 32\n",
      "안녕하세요.... 34\n",
      "안녕하세요.... 36\n",
      "안녕하세요.... 38\n",
      "안녕하세요.... 40\n",
      "안녕하세요.... 42\n",
      "안녕하세요.... 44\n",
      "안녕하세요.... 46\n",
      "안녕하세요.... 48\n"
     ]
    }
   ],
   "source": [
    "for i in range(20,50,2) :\n",
    "    print(\"안녕하세요....\", i)"
   ]
  },
  {
   "cell_type": "code",
   "execution_count": null,
   "id": "fded2222-43fb-4fba-bc1f-0507e9b164eb",
   "metadata": {},
   "outputs": [],
   "source": []
  },
  {
   "cell_type": "markdown",
   "id": "4612414d-0f1d-49cb-b105-f89d66de4592",
   "metadata": {},
   "source": [
    "range()"
   ]
  },
  {
   "cell_type": "code",
   "execution_count": 4,
   "id": "27e4f6f9-50a7-4560-8ab8-52ae546c31fa",
   "metadata": {},
   "outputs": [
    {
     "data": {
      "text/plain": [
       "range(0, 5)"
      ]
     },
     "execution_count": 4,
     "metadata": {},
     "output_type": "execute_result"
    }
   ],
   "source": [
    "range(0,5,1)"
   ]
  },
  {
   "cell_type": "code",
   "execution_count": 5,
   "id": "1d4fb795-4537-4ef1-b16a-32dc9ed2096b",
   "metadata": {},
   "outputs": [
    {
     "data": {
      "text/plain": [
       "range"
      ]
     },
     "execution_count": 5,
     "metadata": {},
     "output_type": "execute_result"
    }
   ],
   "source": [
    "type(range(0,5,1))"
   ]
  },
  {
   "cell_type": "code",
   "execution_count": 7,
   "id": "5ea5999b-f3b3-4f44-adfa-7520f9344c46",
   "metadata": {},
   "outputs": [
    {
     "data": {
      "text/plain": [
       "list"
      ]
     },
     "execution_count": 7,
     "metadata": {},
     "output_type": "execute_result"
    }
   ],
   "source": [
    "type ([0,1,3,5,9,10])"
   ]
  },
  {
   "cell_type": "code",
   "execution_count": 8,
   "id": "1612e336-87f8-4030-a39b-20ae01b30109",
   "metadata": {},
   "outputs": [
    {
     "data": {
      "text/plain": [
       "list"
      ]
     },
     "execution_count": 8,
     "metadata": {},
     "output_type": "execute_result"
    }
   ],
   "source": [
    "type(['하나', 100, -0.934, range(1,3,1)])"
   ]
  },
  {
   "cell_type": "code",
   "execution_count": 10,
   "id": "ab59c9a5-c05b-4254-8277-f3a34aaf5473",
   "metadata": {},
   "outputs": [
    {
     "name": "stdout",
     "output_type": "stream",
     "text": [
      "하나\n",
      "100\n",
      "-0.934\n",
      "range(1, 3)\n"
     ]
    }
   ],
   "source": [
    "# 리스트\n",
    "for i in ['하나', 100, -0.934, range(1,3,1)] :\n",
    "    print(i)"
   ]
  },
  {
   "cell_type": "code",
   "execution_count": 24,
   "id": "ea8cb572-9e32-4a0b-97ee-644fdf571823",
   "metadata": {},
   "outputs": [
    {
     "name": "stdout",
     "output_type": "stream",
     "text": [
      "0:안녕하세요? for문을 공부 중입니다!\n",
      "0:안녕하세요? for문을 공부 중입니다.\n",
      "1:안녕하세요? for문을 공부 중입니다!\n",
      "1:안녕하세요? for문을 공부 중입니다.\n",
      "2:안녕하세요? for문을 공부 중입니다!\n",
      "2:안녕하세요? for문을 공부 중입니다.\n"
     ]
    }
   ],
   "source": [
    "for i in range(0, 3, 1) :\n",
    "    print(f\"{i}:안녕하세요? for문을 공부 중입니다!\")\n",
    "    print(\"{}:안녕하세요? for문을 공부 중입니다.\".format(i))"
   ]
  },
  {
   "cell_type": "markdown",
   "id": "a5c3eff0-c3f9-4b6c-b910-2f810e2ccdce",
   "metadata": {},
   "source": [
    "## 던더~(_)"
   ]
  },
  {
   "cell_type": "code",
   "execution_count": 25,
   "id": "90433242-8f36-49ec-a15d-d3e115230db8",
   "metadata": {},
   "outputs": [
    {
     "name": "stdout",
     "output_type": "stream",
     "text": [
      "안녕\n",
      "안녕\n",
      "안녕\n"
     ]
    }
   ],
   "source": [
    "for _ in range(1,4,1) :\n",
    "    print(\"안녕\")"
   ]
  },
  {
   "cell_type": "markdown",
   "id": "ce7d2051-1d2d-432e-aad4-74fec005cb8c",
   "metadata": {},
   "source": [
    "내림차순"
   ]
  },
  {
   "cell_type": "code",
   "execution_count": 26,
   "id": "2c1332f5-1ff3-44f4-9795-3c2adb922e2a",
   "metadata": {},
   "outputs": [
    {
     "name": "stdout",
     "output_type": "stream",
     "text": [
      "안녕 5\n",
      "안녕 4\n",
      "안녕 3\n",
      "안녕 2\n",
      "안녕 1\n",
      "안녕 0\n",
      "안녕 -1\n",
      "안녕 -2\n",
      "안녕 -3\n",
      "안녕 -4\n"
     ]
    }
   ],
   "source": [
    "for i in range(5, -5, -1) : \n",
    "    print(\"안녕\", i)"
   ]
  },
  {
   "cell_type": "markdown",
   "id": "ea127328-1536-46f7-956c-8ac391f2f56a",
   "metadata": {},
   "source": [
    "줄바꿈(carrage return, line feed)\n",
    " - \\n :"
   ]
  },
  {
   "cell_type": "code",
   "execution_count": 29,
   "id": "b83986ae-11cc-4c53-bbdf-41c532d562c2",
   "metadata": {},
   "outputs": [
    {
     "name": "stdout",
     "output_type": "stream",
     "text": [
      "3 2 1 0 -1 "
     ]
    }
   ],
   "source": [
    "for i in range(3, -2, -1) : \n",
    "    print('%d' % i, end=\" \")"
   ]
  },
  {
   "cell_type": "code",
   "execution_count": 30,
   "id": "f14dd1ef-adf5-4fb0-b409-fc39ccb572c3",
   "metadata": {},
   "outputs": [
    {
     "name": "stdout",
     "output_type": "stream",
     "text": [
      "Object `end` not found.\n"
     ]
    }
   ],
   "source": []
  },
  {
   "cell_type": "code",
   "execution_count": 31,
   "id": "52d0e27a-8fbf-4d40-bcb6-169e7d3740fc",
   "metadata": {},
   "outputs": [
    {
     "name": "stdout",
     "output_type": "stream",
     "text": [
      "3\t2\t1\t0\t-1\t"
     ]
    }
   ],
   "source": [
    "for i in range(3, -2, -1) : \n",
    "    print('%d' % i, end=\"\\t\")"
   ]
  },
  {
   "cell_type": "markdown",
   "id": "538e45cc-ec6f-43bb-b9f5-da56c7b3fddd",
   "metadata": {},
   "source": [
    "P153 실습"
   ]
  },
  {
   "cell_type": "code",
   "execution_count": 36,
   "id": "839037de-a6a9-42dc-a003-c5c31d4c5c7a",
   "metadata": {},
   "outputs": [
    {
     "name": "stdout",
     "output_type": "stream",
     "text": [
      "1에서 10까지의 합계 : 55\n"
     ]
    }
   ],
   "source": [
    "i, hap= 0, 0\n",
    "\n",
    "for i in range(1, 11, 1) :\n",
    "    hap += i\n",
    "print(\"1에서 10까지의 합계 : %d\" % hap)"
   ]
  },
  {
   "cell_type": "markdown",
   "id": "9f9532c3-4134-4e94-8be8-491475745cd5",
   "metadata": {},
   "source": [
    "## P154홀수의 합 구하는 실습"
   ]
  },
  {
   "cell_type": "code",
   "execution_count": 40,
   "id": "443b941f-236d-4aec-bbae-422c735714a7",
   "metadata": {},
   "outputs": [
    {
     "name": "stdout",
     "output_type": "stream",
     "text": [
      "500과 1000사이에 있는 홀수의 합계 : 187500\n"
     ]
    }
   ],
   "source": [
    "i, hap= 0, 0\n",
    "\n",
    "for i in range(501, 1001, 2) :\n",
    "    hap += i\n",
    "print(\"500과 1000사이에 있는 홀수의 합계 : %d\" % hap)"
   ]
  },
  {
   "cell_type": "code",
   "execution_count": 43,
   "id": "e2fe9a24-8ab5-4a16-9297-c378b9ebee58",
   "metadata": {},
   "outputs": [
    {
     "name": "stdout",
     "output_type": "stream",
     "text": [
      "500과 1000사이에 있는 짝수의 합계 : 187250\n"
     ]
    }
   ],
   "source": [
    "i, hap= 0, 0\n",
    "\n",
    "for i in range(500, 1000, 2) :\n",
    "    hap += i\n",
    "print(\"500과 1000사이에 있는 짝수의 합계 : %d\" % hap)"
   ]
  },
  {
   "cell_type": "code",
   "execution_count": 49,
   "id": "48cd4e7f-e2bf-4bd5-ba18-8a8650b47f7f",
   "metadata": {},
   "outputs": [
    {
     "name": "stdout",
     "output_type": "stream",
     "text": [
      "500과 1000사이에 있는 짝수와 홀수의 합계 : 374750\n"
     ]
    }
   ],
   "source": [
    "i, n, hap, hap2= 0, 0, 0, 0\n",
    "\n",
    "for i in range(500, 1000, 2) :\n",
    "    hap += i\n",
    "for n in range(501, 1001, 2) :\n",
    "    hap2 += n\n",
    "print(\"500과 1000사이에 있는 짝수와 홀수의 합계 : %d\" % (hap + hap2))"
   ]
  },
  {
   "cell_type": "code",
   "execution_count": 52,
   "id": "370c51cf-d3b0-4a94-9ea9-076943aad869",
   "metadata": {},
   "outputs": [
    {
     "name": "stdin",
     "output_type": "stream",
     "text": [
      "값을 입력하세요 :  5\n"
     ]
    },
    {
     "name": "stdout",
     "output_type": "stream",
     "text": [
      "1에서 5까지의 합계 : 15\n"
     ]
    }
   ],
   "source": [
    "i, hap = 0,0\n",
    "num = 0\n",
    "\n",
    "num = int(input(\"값을 입력하세요 : \"))\n",
    "\n",
    "for i in range(1, num+1, 1) :\n",
    "    hap = hap +i\n",
    "print(\"1에서 %d까지의 합계 : %d\" % (num, hap))"
   ]
  },
  {
   "cell_type": "code",
   "execution_count": 55,
   "id": "478467ca-ad49-4646-8310-52662a0101ff",
   "metadata": {},
   "outputs": [
    {
     "name": "stdin",
     "output_type": "stream",
     "text": [
      "시작값을 입력하세요 :  1\n",
      "끝값을 입력하세요 :  5\n",
      "증가값을 입력하세요 :  1\n"
     ]
    },
    {
     "name": "stdout",
     "output_type": "stream",
     "text": [
      "1에서 5까지 1씩 증가한 값의 합계 : 15\n"
     ]
    }
   ],
   "source": [
    "i, hap = 0,0\n",
    "\n",
    "start = int(input(\"시작값을 입력하세요 : \"))\n",
    "end = int(input(\"끝값을 입력하세요 : \"))\n",
    "inc = int(input(\"증가값을 입력하세요 : \"))\n",
    "\n",
    "for i in range(start, end+1, inc) :\n",
    "    hap = hap +i\n",
    "print(\"%d에서 %d까지 %d씩 증가한 값의 합계 : %d\" % (start, end ,inc, hap))"
   ]
  },
  {
   "cell_type": "markdown",
   "id": "6d3addf0-f4ed-4922-82a4-5380bf165b77",
   "metadata": {},
   "source": [
    "## 중첩 for"
   ]
  },
  {
   "cell_type": "code",
   "execution_count": 59,
   "id": "f13b0d5c-70e5-41a0-bda1-1b12bbc678f4",
   "metadata": {},
   "outputs": [
    {
     "name": "stdout",
     "output_type": "stream",
     "text": [
      "안녕 11 1\n",
      "안녕 12 1\n",
      "안녕 13 1\n",
      "안녕 14 1\n",
      "안녕 15 1\n",
      "안녕 11 2\n",
      "안녕 12 2\n",
      "안녕 13 2\n",
      "안녕 14 2\n",
      "안녕 15 2\n",
      "안녕 11 3\n",
      "안녕 12 3\n",
      "안녕 13 3\n",
      "안녕 14 3\n",
      "안녕 15 3\n",
      "안녕 11 4\n",
      "안녕 12 4\n",
      "안녕 13 4\n",
      "안녕 14 4\n",
      "안녕 15 4\n"
     ]
    }
   ],
   "source": [
    "for i in range(1, 5, 1) : \n",
    "    for j in range(11, 16, 1) :\n",
    "        print('안녕', j, i)"
   ]
  },
  {
   "cell_type": "code",
   "execution_count": 66,
   "id": "d675ea58-eda2-4976-a88d-1f92c5e9233a",
   "metadata": {},
   "outputs": [
    {
     "name": "stdout",
     "output_type": "stream",
     "text": [
      "2 X 1 =  2\n",
      "2 X 2 =  4\n",
      "2 X 3 =  6\n",
      "2 X 4 =  8\n",
      "2 X 5 = 10\n",
      "2 X 6 = 12\n",
      "2 X 7 = 14\n",
      "2 X 8 = 16\n",
      "2 X 9 = 18\n",
      "\n",
      "3 X 1 =  3\n",
      "3 X 2 =  6\n",
      "3 X 3 =  9\n",
      "3 X 4 = 12\n",
      "3 X 5 = 15\n",
      "3 X 6 = 18\n",
      "3 X 7 = 21\n",
      "3 X 8 = 24\n",
      "3 X 9 = 27\n",
      "\n",
      "4 X 1 =  4\n",
      "4 X 2 =  8\n",
      "4 X 3 = 12\n",
      "4 X 4 = 16\n",
      "4 X 5 = 20\n",
      "4 X 6 = 24\n",
      "4 X 7 = 28\n",
      "4 X 8 = 32\n",
      "4 X 9 = 36\n",
      "\n",
      "5 X 1 =  5\n",
      "5 X 2 = 10\n",
      "5 X 3 = 15\n",
      "5 X 4 = 20\n",
      "5 X 5 = 25\n",
      "5 X 6 = 30\n",
      "5 X 7 = 35\n",
      "5 X 8 = 40\n",
      "5 X 9 = 45\n",
      "\n",
      "6 X 1 =  6\n",
      "6 X 2 = 12\n",
      "6 X 3 = 18\n",
      "6 X 4 = 24\n",
      "6 X 5 = 30\n",
      "6 X 6 = 36\n",
      "6 X 7 = 42\n",
      "6 X 8 = 48\n",
      "6 X 9 = 54\n",
      "\n",
      "7 X 1 =  7\n",
      "7 X 2 = 14\n",
      "7 X 3 = 21\n",
      "7 X 4 = 28\n",
      "7 X 5 = 35\n",
      "7 X 6 = 42\n",
      "7 X 7 = 49\n",
      "7 X 8 = 56\n",
      "7 X 9 = 63\n",
      "\n",
      "8 X 1 =  8\n",
      "8 X 2 = 16\n",
      "8 X 3 = 24\n",
      "8 X 4 = 32\n",
      "8 X 5 = 40\n",
      "8 X 6 = 48\n",
      "8 X 7 = 56\n",
      "8 X 8 = 64\n",
      "8 X 9 = 72\n",
      "\n",
      "9 X 1 =  9\n",
      "9 X 2 = 18\n",
      "9 X 3 = 27\n",
      "9 X 4 = 36\n",
      "9 X 5 = 45\n",
      "9 X 6 = 54\n",
      "9 X 7 = 63\n",
      "9 X 8 = 72\n",
      "9 X 9 = 81\n",
      "\n"
     ]
    }
   ],
   "source": [
    "i, k = 0, 0\n",
    "\n",
    "for i in range(2, 10, 1) :\n",
    "    for k in range(1, 10, 1) :\n",
    "        print(\"%d X %d = %2d\" % (i, k, i * k))\n",
    "    print(\"\")"
   ]
  },
  {
   "cell_type": "code",
   "execution_count": 69,
   "id": "875c26c8-0f1e-4edd-a053-be2f19500fd3",
   "metadata": {},
   "outputs": [
    {
     "name": "stdout",
     "output_type": "stream",
     "text": [
      "* \n",
      "* * \n",
      "* * * \n",
      "* * * * \n",
      "* * * * * \n",
      "* * * * * * \n",
      "* * * * * * * \n",
      "* * * * * * * * \n",
      "* * * * * * * * * \n",
      "* * * * * * * * * * \n"
     ]
    }
   ],
   "source": [
    "i = 0\n",
    "\n",
    "for i in range(1, 11) :\n",
    "    for j in range(1, i+1) :\n",
    "        print('*', end = ' ')\n",
    "    print()"
   ]
  },
  {
   "cell_type": "markdown",
   "id": "3eae7f7c-7d4d-4616-8f29-2b41df3933ff",
   "metadata": {
    "tags": []
   },
   "source": [
    "# while문\n",
    "### for처럼 반복적이지만 for와 달리 조건의 T or F로 처리하여 F시 break"
   ]
  },
  {
   "cell_type": "code",
   "execution_count": 70,
   "id": "01e3dae9-9b60-43af-b924-f207ddca98cf",
   "metadata": {},
   "outputs": [
    {
     "name": "stdout",
     "output_type": "stream",
     "text": [
      "0 안녕하세요? while문을 공부 중입니다.\n",
      "1 안녕하세요? while문을 공부 중입니다.\n",
      "2 안녕하세요? while문을 공부 중입니다.\n"
     ]
    }
   ],
   "source": [
    "i = 0\n",
    "while i < 3 :\n",
    "    print(\"%d 안녕하세요? while문을 공부 중입니다.\" % i)\n",
    "    i = i + 1"
   ]
  },
  {
   "cell_type": "code",
   "execution_count": 71,
   "id": "a908e9e1-9470-49f8-b83e-cda8f5bd5f64",
   "metadata": {},
   "outputs": [
    {
     "name": "stdout",
     "output_type": "stream",
     "text": [
      "1에서 10까지의 합계 : 55\n"
     ]
    }
   ],
   "source": [
    "i, hap = 0, 0\n",
    "\n",
    "i = 1\n",
    "while i < 11 :\n",
    "    hap = hap + i\n",
    "    i = i+1\n",
    "    \n",
    "print(\"1에서 10까지의 합계 : %d\" % hap)"
   ]
  },
  {
   "cell_type": "markdown",
   "id": "70726c57-0c2d-46e3-8943-354132843b52",
   "metadata": {},
   "source": [
    "P167 계산기"
   ]
  },
  {
   "cell_type": "code",
   "execution_count": null,
   "id": "a59b452e-f31a-4c2a-a13a-2b74495994db",
   "metadata": {},
   "outputs": [
    {
     "name": "stdin",
     "output_type": "stream",
     "text": [
      "계산할 첫번쨰 수를 입력하세요 :  0\n",
      "계산할 두번쨰 수를 입력하세요 :  0\n",
      "계산할 연산자 를 입력하세요 :  0\n"
     ]
    },
    {
     "name": "stdout",
     "output_type": "stream",
     "text": [
      "연산자를 잘못 입력했습니다.\n"
     ]
    },
    {
     "name": "stdin",
     "output_type": "stream",
     "text": [
      "계산할 첫번쨰 수를 입력하세요 :  0\n",
      "계산할 두번쨰 수를 입력하세요 :  0\n",
      "계산할 연산자 를 입력하세요 :  00\n"
     ]
    },
    {
     "name": "stdout",
     "output_type": "stream",
     "text": [
      "연산자를 잘못 입력했습니다.\n"
     ]
    },
    {
     "name": "stdin",
     "output_type": "stream",
     "text": [
      "계산할 첫번쨰 수를 입력하세요 :  0\n",
      "계산할 두번쨰 수를 입력하세요 :  0\n"
     ]
    }
   ],
   "source": [
    "ch = \"\"\n",
    "a, b = 0, 0\n",
    "while True :\n",
    "    a = int(input(\"계산할 첫번쨰 수를 입력하세요 : \"))\n",
    "    b = int(input(\"계산할 두번쨰 수를 입력하세요 : \"))\n",
    "    ch = int(input(\"계산할 연산자 를 입력하세요 : \"))\n",
    "    \n",
    "    if(ch == \"+\") :\n",
    "        print(\"%d + %d = %d\" % (a,b,a + b))\n",
    "    elif(ch == \"-\") :\n",
    "        print(\"%d - %d = %d\" % (a,b,a - b))\n",
    "    elif(ch == \"*\") :\n",
    "        print(\"%d * %d = %d\" % (a,b,a * b))\n",
    "    elif(ch == \"/\") :\n",
    "        print(\"%d / %d = %d\" % (a,b,a / b))\n",
    "    elif(ch == \"%\") :\n",
    "        print(\"%d %% %d = %d\" % (a,b,a % b))\n",
    "    elif(ch == \"//\") :\n",
    "        print(\"%d // %d = %d\" % (a,b,a // b))\n",
    "    elif(ch == \"**\") :\n",
    "        print(\"%d ** %d = %d\" % (a,b,a ** b))\n",
    "    else : \n",
    "        print(\"연산자를 잘못 입력했습니다.\")"
   ]
  },
  {
   "cell_type": "markdown",
   "id": "1c293241-53dc-4beb-aa97-d0df609a2472",
   "metadata": {},
   "source": [
    "# break"
   ]
  },
  {
   "cell_type": "code",
   "execution_count": 1,
   "id": "d7267e13-5804-4d0d-b922-68221339006e",
   "metadata": {},
   "outputs": [
    {
     "name": "stdout",
     "output_type": "stream",
     "text": [
      "for 1 times:\n"
     ]
    }
   ],
   "source": [
    "for i in range(1,100) :\n",
    "    print(\"for %d times:\" % i)\n",
    "    break"
   ]
  },
  {
   "cell_type": "code",
   "execution_count": 2,
   "id": "b5c48d48-5b93-4440-ab6a-510f71686303",
   "metadata": {},
   "outputs": [
    {
     "name": "stdout",
     "output_type": "stream",
     "text": [
      "while...\n"
     ]
    }
   ],
   "source": [
    "while True :\n",
    "    print(\"while...\")\n",
    "    break"
   ]
  },
  {
   "cell_type": "markdown",
   "id": "6ac855b5-f39f-4ea9-857d-066b77e3f2b2",
   "metadata": {},
   "source": [
    "주석 :\n",
    " - 한 줄 주석 : `#`\n",
    " - 블럭(범위, 여러 줄)주석X\n",
    "     - 대체:\"\"\" \"\"\""
   ]
  },
  {
   "cell_type": "code",
   "execution_count": 8,
   "id": "482ee4fb-3a64-436d-9178-3f0f34bf2867",
   "metadata": {},
   "outputs": [
    {
     "data": {
      "text/plain": [
       "'안녕하세요.\\n반갑습니다.\\n'"
      ]
     },
     "execution_count": 8,
     "metadata": {},
     "output_type": "execute_result"
    }
   ],
   "source": [
    "t = \"\"\"안녕하세요.\n",
    "반갑습니다.\n",
    "\"\"\"\n",
    "t"
   ]
  },
  {
   "cell_type": "code",
   "execution_count": 9,
   "id": "30d22233-62ff-4fe9-b393-390367eccc01",
   "metadata": {},
   "outputs": [
    {
     "name": "stdin",
     "output_type": "stream",
     "text": [
      "더할 첫번쨰 수를 입력하세요 :  0\n"
     ]
    },
    {
     "name": "stdout",
     "output_type": "stream",
     "text": [
      "0이 입력됐습니다... 끝냅니다...\n",
      "0을 입력해 반복문을 탈출했습니다.\n"
     ]
    }
   ],
   "source": [
    "hap = 0\n",
    "a, b = 0, 0\n",
    "\n",
    "while True :\n",
    "    a = int(input(\"더할 첫번쨰 수를 입력하세요 : \"))\n",
    "    if a == 0 :\n",
    "        print(\"0이 입력됐습니다... 끝냅니다...\")\n",
    "        break\n",
    "    b = int(input(\"더할 두번쨰 수를 입력하세요 : \"))\n",
    "    hap = a+ b\n",
    "    print(\"%d + %d = %d\" % (a, b, hap))\n",
    "    \n",
    "print(\"0을 입력해 반복문을 탈출했습니다.\")"
   ]
  },
  {
   "cell_type": "code",
   "execution_count": 10,
   "id": "c6b06b38-473b-4c9f-a0b8-e421c4702594",
   "metadata": {},
   "outputs": [
    {
     "name": "stdout",
     "output_type": "stream",
     "text": [
      "안녕 11 1\n",
      "안녕 12 1\n",
      "안녕 13 1\n",
      "안녕 14 1\n",
      "안녕 11 2\n",
      "안녕 12 2\n",
      "안녕 13 2\n",
      "안녕 14 2\n",
      "안녕 11 3\n",
      "안녕 12 3\n",
      "안녕 13 3\n",
      "안녕 14 3\n",
      "안녕 11 4\n",
      "안녕 12 4\n",
      "안녕 13 4\n",
      "안녕 14 4\n"
     ]
    }
   ],
   "source": [
    "#중첩 반복문과 break\n",
    "for i in range(1, 5, 1) : \n",
    "    for j in range(11, 16, 1) :\n",
    "        print('안녕', j, i)\n",
    "        if j ==14 :\n",
    "            break"
   ]
  },
  {
   "cell_type": "markdown",
   "id": "e1d89a3f-5bbd-4785-851d-96d7d4aabcda",
   "metadata": {},
   "source": [
    "# continue"
   ]
  },
  {
   "cell_type": "code",
   "execution_count": 11,
   "id": "eeaa01bf-5e8c-45fc-9cbe-02b2fa7212d9",
   "metadata": {},
   "outputs": [
    {
     "name": "stdout",
     "output_type": "stream",
     "text": [
      "for 1 times:\n",
      "for 2 times:\n",
      "for 4 times:\n",
      "for 5 times:\n",
      "for 7 times:\n",
      "for 8 times:\n",
      "for 10 times:\n",
      "for 11 times:\n",
      "for 13 times:\n",
      "for 14 times:\n",
      "for 16 times:\n",
      "for 17 times:\n",
      "for 19 times:\n",
      "for 20 times:\n",
      "for 22 times:\n",
      "for 23 times:\n",
      "for 25 times:\n",
      "for 26 times:\n",
      "for 28 times:\n",
      "for 29 times:\n",
      "for 31 times:\n",
      "for 32 times:\n",
      "for 34 times:\n",
      "for 35 times:\n",
      "for 37 times:\n",
      "for 38 times:\n",
      "for 40 times:\n",
      "for 41 times:\n",
      "for 43 times:\n",
      "for 44 times:\n",
      "for 46 times:\n",
      "for 47 times:\n",
      "for 49 times:\n",
      "for 50 times:\n",
      "for 52 times:\n",
      "for 53 times:\n",
      "for 55 times:\n",
      "for 56 times:\n",
      "for 58 times:\n",
      "for 59 times:\n",
      "for 61 times:\n",
      "for 62 times:\n",
      "for 64 times:\n",
      "for 65 times:\n",
      "for 67 times:\n",
      "for 68 times:\n",
      "for 70 times:\n",
      "for 71 times:\n",
      "for 73 times:\n",
      "for 74 times:\n",
      "for 76 times:\n",
      "for 77 times:\n",
      "for 79 times:\n",
      "for 80 times:\n",
      "for 82 times:\n",
      "for 83 times:\n",
      "for 85 times:\n",
      "for 86 times:\n",
      "for 88 times:\n",
      "for 89 times:\n",
      "for 91 times:\n",
      "for 92 times:\n",
      "for 94 times:\n",
      "for 95 times:\n",
      "for 97 times:\n",
      "for 98 times:\n"
     ]
    }
   ],
   "source": [
    "for i in range(1, 100) :\n",
    "    if i % 3 == 0 :\n",
    "        continue\n",
    "    print(\"for %d times:\" % i)"
   ]
  },
  {
   "cell_type": "markdown",
   "id": "c36ac90c-853a-4d86-8e46-e14fdd6a3374",
   "metadata": {},
   "source": [
    "## P177 쪽 연습문제 :\n",
    "    - 6번:\n",
    "    - 8번:while수정"
   ]
  },
  {
   "cell_type": "code",
   "execution_count": 3,
   "id": "4b09d718-767c-4112-afa0-724c58458ab8",
   "metadata": {},
   "outputs": [
    {
     "name": "stdout",
     "output_type": "stream",
     "text": [
      "쿡북~\n",
      "쿡북~\n",
      "쿡북~\n",
      "쿡북~\n",
      "쿡북~\n",
      "쿡북~\n",
      "쿡북~\n",
      "쿡북~\n",
      "쿡북~\n",
      "쿡북~\n",
      "쿡북~\n",
      "쿡북~\n",
      "쿡북~\n",
      "쿡북~\n",
      "쿡북~\n",
      "쿡북~\n",
      "쿡북~\n",
      "쿡북~\n",
      "쿡북~\n",
      "쿡북~\n",
      "쿡북~\n",
      "쿡북~\n",
      "쿡북~\n",
      "쿡북~\n"
     ]
    }
   ],
   "source": [
    "for i in range(4) :\n",
    "    for j in range(3) :\n",
    "        for k in range(2) :\n",
    "            print(\"쿡북~\")"
   ]
  },
  {
   "cell_type": "code",
   "execution_count": 5,
   "id": "93235114-3ac7-4275-ac6d-cb5d60d352eb",
   "metadata": {},
   "outputs": [
    {
     "name": "stdout",
     "output_type": "stream",
     "text": [
      "23088\n"
     ]
    }
   ],
   "source": [
    "hap = 0\n",
    "\n",
    "n=1234\n",
    "\n",
    "while n < 4568 :\n",
    "    if n%444 == 0:\n",
    "        hap +=n\n",
    "    n += 1\n",
    "print(hap)"
   ]
  },
  {
   "cell_type": "markdown",
   "id": "b8751fdd-63cb-4020-a2d7-0077d3b45823",
   "metadata": {},
   "source": [
    "# 연습문제 9,10"
   ]
  },
  {
   "cell_type": "code",
   "execution_count": 24,
   "id": "6522b12e-7f00-4214-926d-9611b138afca",
   "metadata": {},
   "outputs": [
    {
     "name": "stdout",
     "output_type": "stream",
     "text": [
      "40722\n"
     ]
    }
   ],
   "source": [
    "#9.\n",
    "start = 3333\n",
    "end = 9999\n",
    "hap = 0\n",
    "for i in range(start, end + 1) :\n",
    "    if i % 1234 == 0 :\n",
    "        hap += i\n",
    "        i += 1\n",
    "        if hap >= 1000000 :\n",
    "            break\n",
    "    else :\n",
    "        continue\n",
    "else :\n",
    "    print(hap)"
   ]
  },
  {
   "cell_type": "code",
   "execution_count": 8,
   "id": "d5cbdc54-3782-4f5a-98f0-aa88ee738f3c",
   "metadata": {},
   "outputs": [
    {
     "name": "stdin",
     "output_type": "stream",
     "text": [
      "숫자를 여러 개 입력하세요 :  5914\n"
     ]
    },
    {
     "name": "stdout",
     "output_type": "stream",
     "text": [
      "\n",
      "★★★★★★★★★★\n",
      "★★★★★★★★★★★★★★★★★★\n",
      "★★\n",
      "★★★★★★★★\n"
     ]
    }
   ],
   "source": [
    "#10.\n",
    "i, k,starNum= 0, 0, 0\n",
    "starStr, ch, star = \"\",\"\",\"\"\n",
    "\n",
    "if __name__ == \"__main__\" :\n",
    "    starStr = input(\"숫자를 여러 개 입력하세요 : \")\n",
    "    print(\"\")\n",
    "    i = 0\n",
    "    ch = starStr[i]\n",
    "    while True :\n",
    "        starNum = int(ch)\n",
    "        \n",
    "        star = \"\"\n",
    "        for k in range(0, starNum * 2) :\n",
    "            star += \"\\u2605\"\n",
    "            k += 1\n",
    "        print(star)\n",
    "        \n",
    "        i += 1\n",
    "        if(i > len(starStr) -1) :\n",
    "            break\n",
    "        ch = starStr[i]"
   ]
  },
  {
   "cell_type": "code",
   "execution_count": null,
   "id": "9d49d6e9-1fe9-4490-b802-2287a7730197",
   "metadata": {},
   "outputs": [],
   "source": []
  },
  {
   "cell_type": "code",
   "execution_count": null,
   "id": "3b62e3ee-ec02-4684-a548-f45a11eddc59",
   "metadata": {},
   "outputs": [],
   "source": []
  },
  {
   "cell_type": "code",
   "execution_count": null,
   "id": "f8051a6e-ceea-4c11-997d-fcad927802bf",
   "metadata": {},
   "outputs": [],
   "source": []
  },
  {
   "cell_type": "code",
   "execution_count": null,
   "id": "899f07d1-d527-4317-96ae-3d4e9dfe2fab",
   "metadata": {},
   "outputs": [],
   "source": []
  },
  {
   "cell_type": "code",
   "execution_count": null,
   "id": "a6de7350-f7ab-4057-a81d-ad82c62ae8b8",
   "metadata": {},
   "outputs": [],
   "source": []
  },
  {
   "cell_type": "code",
   "execution_count": null,
   "id": "e00b6206-1cd1-4e61-a226-0612511b1294",
   "metadata": {},
   "outputs": [],
   "source": []
  },
  {
   "cell_type": "code",
   "execution_count": null,
   "id": "ef9472c4-b7ed-474c-8244-579e258cfa8d",
   "metadata": {},
   "outputs": [],
   "source": []
  },
  {
   "cell_type": "code",
   "execution_count": null,
   "id": "4fd8a1a8-25a4-4b34-ab53-6ae81e3c3e87",
   "metadata": {},
   "outputs": [],
   "source": []
  },
  {
   "cell_type": "code",
   "execution_count": null,
   "id": "397ea479-eefa-41a5-aff6-05efb27eaae7",
   "metadata": {},
   "outputs": [],
   "source": []
  },
  {
   "cell_type": "code",
   "execution_count": null,
   "id": "af5221ad-d3ab-406f-9e11-170cd8143297",
   "metadata": {},
   "outputs": [],
   "source": []
  },
  {
   "cell_type": "code",
   "execution_count": null,
   "id": "af22192b-3b5e-4f19-9670-6376cbb47b15",
   "metadata": {},
   "outputs": [],
   "source": []
  },
  {
   "cell_type": "code",
   "execution_count": null,
   "id": "1ace8307-d379-48c2-9bd0-6f882ff37fcb",
   "metadata": {},
   "outputs": [],
   "source": []
  },
  {
   "cell_type": "code",
   "execution_count": null,
   "id": "cbceaf01-7f42-40eb-bd06-d6dadfbc7ff6",
   "metadata": {},
   "outputs": [],
   "source": []
  },
  {
   "cell_type": "code",
   "execution_count": null,
   "id": "d90b8347-270c-44be-bc9c-82cdedd4ce4e",
   "metadata": {},
   "outputs": [],
   "source": []
  },
  {
   "cell_type": "code",
   "execution_count": null,
   "id": "a7fdb1ce-be09-4c9e-9282-ad21557ee220",
   "metadata": {},
   "outputs": [],
   "source": []
  },
  {
   "cell_type": "code",
   "execution_count": null,
   "id": "d5222e0c-32df-473e-ad9d-5c279ce9a095",
   "metadata": {},
   "outputs": [],
   "source": []
  },
  {
   "cell_type": "code",
   "execution_count": null,
   "id": "30ed71da-76d0-4e6e-a1c0-d4bb70e5b26e",
   "metadata": {},
   "outputs": [],
   "source": []
  },
  {
   "cell_type": "code",
   "execution_count": null,
   "id": "eb36f633-b8cb-4565-ad65-2f133a75dcde",
   "metadata": {},
   "outputs": [],
   "source": []
  },
  {
   "cell_type": "code",
   "execution_count": null,
   "id": "8b0b4f22-81dc-4395-87b5-e24ab2bd67e1",
   "metadata": {},
   "outputs": [],
   "source": []
  },
  {
   "cell_type": "code",
   "execution_count": null,
   "id": "d61a7b78-7b37-4e2e-b723-bb2259b9087c",
   "metadata": {},
   "outputs": [],
   "source": []
  },
  {
   "cell_type": "code",
   "execution_count": null,
   "id": "1dfa4a5f-462f-4b8d-bc07-0174c9db04a0",
   "metadata": {},
   "outputs": [],
   "source": []
  },
  {
   "cell_type": "code",
   "execution_count": null,
   "id": "db5925e8-b82b-40ca-aca9-48eb7e5c1cd1",
   "metadata": {},
   "outputs": [],
   "source": []
  },
  {
   "cell_type": "code",
   "execution_count": null,
   "id": "a0d91e47-3038-44e3-9b5c-cd361a79b479",
   "metadata": {},
   "outputs": [],
   "source": []
  },
  {
   "cell_type": "code",
   "execution_count": null,
   "id": "0f5eed07-965e-4d35-b671-d021656f0fcb",
   "metadata": {},
   "outputs": [],
   "source": []
  }
 ],
 "metadata": {
  "kernelspec": {
   "display_name": "Python 3 (ipykernel)",
   "language": "python",
   "name": "python3"
  },
  "language_info": {
   "codemirror_mode": {
    "name": "ipython",
    "version": 3
   },
   "file_extension": ".py",
   "mimetype": "text/x-python",
   "name": "python",
   "nbconvert_exporter": "python",
   "pygments_lexer": "ipython3",
   "version": "3.9.7"
  }
 },
 "nbformat": 4,
 "nbformat_minor": 5
}
