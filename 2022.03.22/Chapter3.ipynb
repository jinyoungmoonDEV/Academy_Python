{
 "cells": [
  {
   "cell_type": "markdown",
   "id": "237d8a5f-1f15-42db-8535-a6fa46d64df8",
   "metadata": {},
   "source": [
    "# Chapter3"
   ]
  },
  {
   "cell_type": "markdown",
   "id": "171f4e9e-1694-4100-ba74-c46adc79f6b9",
   "metadata": {},
   "source": [
    "print() 입력 값을 기본 콘솔(터미널)로 내보내는 역활!!!\n",
    "\n",
    "**OS 콘솔**\n",
    " - 표준입츌력을 수행하는 프로그램!"
   ]
  },
  {
   "cell_type": "code",
   "execution_count": 1,
   "id": "ac6b53ef-7dd8-412f-bea2-e4979e7e0292",
   "metadata": {},
   "outputs": [
    {
     "name": "stdout",
     "output_type": "stream",
     "text": [
      "안녕\n"
     ]
    }
   ],
   "source": [
    "print(\"안녕\")"
   ]
  },
  {
   "cell_type": "code",
   "execution_count": 2,
   "id": "a895da1d-b06c-4a05-8f89-542c3b2c5852",
   "metadata": {},
   "outputs": [
    {
     "name": "stdin",
     "output_type": "stream",
     "text": [
      "입력 aaa\n"
     ]
    },
    {
     "data": {
      "text/plain": [
       "'aaa'"
      ]
     },
     "execution_count": 2,
     "metadata": {},
     "output_type": "execute_result"
    }
   ],
   "source": [
    "input('입력')"
   ]
  },
  {
   "cell_type": "markdown",
   "id": "b3942d6b-d02b-4bfd-9f04-9df2ecaf8f14",
   "metadata": {
    "tags": []
   },
   "source": [
    "# P62~103코드"
   ]
  },
  {
   "cell_type": "markdown",
   "id": "4fbf96a9-b60f-4b0c-a06a-459ed0763f89",
   "metadata": {},
   "source": [
    "**형식화 문자열(Formatting string) ex) %d **\n",
    "\n",
    "1. '%' 연결자\n",
    "1. 'String.format()'\n",
    "1. 'f'리터럴"
   ]
  },
  {
   "cell_type": "code",
   "execution_count": 4,
   "id": "0a26664c-1d5a-4490-bd8e-253e2f4cab27",
   "metadata": {},
   "outputs": [
    {
     "name": "stdout",
     "output_type": "stream",
     "text": [
      "100\n",
      "100\n",
      "입력100는 평균입니다.\n",
      "입력100는 50의 평균이고 곱셈은 100*50=5000 입니다.\n"
     ]
    }
   ],
   "source": [
    "print(\"100\") \n",
    "print(\"%d\" % 100) \n",
    "print(\"입력%d는 평균입니다.\" % 100)\n",
    "print(\"입력%d는 %d의 평균이고 곱셈은 %d*%d=%d 입니다.\" % (100, 50, 100, 50, (100*50)) )"
   ]
  },
  {
   "cell_type": "markdown",
   "id": "f8e4f06d-b463-4eed-b00c-0308c434242a",
   "metadata": {},
   "source": [
    "f리터럴 방식"
   ]
  },
  {
   "cell_type": "code",
   "execution_count": 5,
   "id": "e36a58b0-2f81-4fcc-852d-255bec5e1187",
   "metadata": {},
   "outputs": [
    {
     "name": "stdout",
     "output_type": "stream",
     "text": [
      "입력100는 50의 평균이고 곱셈은 100*50=5000 입니다.\n"
     ]
    }
   ],
   "source": [
    "print(f\"입력{100}는 {50}의 평균이고 곱셈은 {100}*{50}={5000} 입니다.\")"
   ]
  },
  {
   "cell_type": "code",
   "execution_count": 6,
   "id": "863c26d8-bb8d-43c4-a844-8c72f67d1190",
   "metadata": {},
   "outputs": [
    {
     "name": "stdout",
     "output_type": "stream",
     "text": [
      "100\n"
     ]
    }
   ],
   "source": [
    "print(\"%d\" % 100)"
   ]
  },
  {
   "cell_type": "code",
   "execution_count": 7,
   "id": "8209a928-672f-4a1c-a79c-c654a21fa3ed",
   "metadata": {},
   "outputs": [
    {
     "name": "stdout",
     "output_type": "stream",
     "text": [
      "0.100000\n"
     ]
    }
   ],
   "source": [
    "print(\"%f\" % 0.1)"
   ]
  },
  {
   "cell_type": "markdown",
   "id": "8f8cbd2a-9c76-458d-bfef-8aaede2a0c78",
   "metadata": {},
   "source": [
    "**%x:16진수 표기법**"
   ]
  },
  {
   "cell_type": "code",
   "execution_count": 10,
   "id": "a80c237d-8e04-40dd-bdc4-e605858cd723",
   "metadata": {},
   "outputs": [
    {
     "name": "stdout",
     "output_type": "stream",
     "text": [
      "9 a b c d e f\n"
     ]
    }
   ],
   "source": [
    "print(\"%x %x %x %x %x %x %x\" % (9,10,11,12,13,14,15))"
   ]
  },
  {
   "cell_type": "code",
   "execution_count": 11,
   "id": "e9d10056-9d9c-436a-9fbc-c026aaeed561",
   "metadata": {},
   "outputs": [
    {
     "name": "stdout",
     "output_type": "stream",
     "text": [
      "10\n"
     ]
    }
   ],
   "source": [
    "print(\"%x\" % 16)"
   ]
  },
  {
   "cell_type": "markdown",
   "id": "4ff01586-3612-416d-bac9-132aac12306d",
   "metadata": {},
   "source": [
    "**%o:8진수 표기법**"
   ]
  },
  {
   "cell_type": "code",
   "execution_count": 12,
   "id": "1e970b35-a9af-494e-bc36-20044821dfd0",
   "metadata": {},
   "outputs": [
    {
     "name": "stdout",
     "output_type": "stream",
     "text": [
      "1 3 7 10 11 12 13\n"
     ]
    }
   ],
   "source": [
    "print(\"%o %o %o %o %o %o %o\" % (1,3,7,8,9,10,11))"
   ]
  },
  {
   "cell_type": "code",
   "execution_count": 8,
   "id": "9a854a2a-054f-46bb-8666-2e966cbabfd8",
   "metadata": {},
   "outputs": [
    {
     "name": "stdout",
     "output_type": "stream",
     "text": [
      "100 + 100\n",
      "200\n"
     ]
    }
   ],
   "source": [
    "print(\"100 + 100\")\n",
    "print(\"%d\" % (100 + 100))"
   ]
  },
  {
   "cell_type": "code",
   "execution_count": 12,
   "id": "3e8fa0de-5eee-416d-805c-0641372fd938",
   "metadata": {},
   "outputs": [
    {
     "name": "stdout",
     "output_type": "stream",
     "text": [
      "100\n",
      "100 200\n"
     ]
    }
   ],
   "source": [
    "print(\"%d\" % (100))\n",
    "print(\"%d %d\" % (100, 200))"
   ]
  },
  {
   "cell_type": "code",
   "execution_count": 20,
   "id": "deacc7e7-b49b-44a7-8a13-220a908d9e55",
   "metadata": {},
   "outputs": [
    {
     "name": "stdout",
     "output_type": "stream",
     "text": [
      "100 / 200 =   0.5\n"
     ]
    }
   ],
   "source": [
    "print(\"%d / %d = %5.1f\" % (100, 200, 0.5))"
   ]
  },
  {
   "cell_type": "code",
   "execution_count": 3,
   "id": "67b38bdc-7d76-479b-90bd-f6b25becc589",
   "metadata": {},
   "outputs": [
    {
     "name": "stdout",
     "output_type": "stream",
     "text": [
      "123\n",
      "  123\n",
      "00123\n"
     ]
    }
   ],
   "source": [
    "print(\"%d\" % 123)\n",
    "print(\"%5d\" % 123)\n",
    "print(\"%05d\" % 123)"
   ]
  },
  {
   "cell_type": "code",
   "execution_count": 4,
   "id": "1091d91e-f245-4744-8ff5-6aa2543b59d5",
   "metadata": {},
   "outputs": [
    {
     "name": "stdout",
     "output_type": "stream",
     "text": [
      "123.450000\n",
      "  123.5\n",
      "123.450\n"
     ]
    }
   ],
   "source": [
    "print(\"%f\" %123.45)\n",
    "print(\"%7.1f\" % 123.45)\n",
    "print(\"%7.3f\" % 123.45)"
   ]
  },
  {
   "cell_type": "code",
   "execution_count": 5,
   "id": "52387c8a-b743-4dfb-8c8a-ae0a594761ba",
   "metadata": {},
   "outputs": [
    {
     "name": "stdout",
     "output_type": "stream",
     "text": [
      "Python\n",
      "    Python\n"
     ]
    }
   ],
   "source": [
    "print(\"%s\" % \"Python\")\n",
    "print(\"%10s\" % \"Python\")"
   ]
  },
  {
   "cell_type": "markdown",
   "id": "5bc64f59-12fb-47e3-988a-5880562a5318",
   "metadata": {},
   "source": [
    "format() 문자열"
   ]
  },
  {
   "cell_type": "code",
   "execution_count": 14,
   "id": "e2f137fc-df87-4902-8469-f268b975f00d",
   "metadata": {},
   "outputs": [
    {
     "name": "stdout",
     "output_type": "stream",
     "text": [
      "123   123 00123\n",
      "123   123 00123\n"
     ]
    }
   ],
   "source": [
    "print(\"%d %5d %05d\" % (123, 123, 123))\n",
    "print(\"{0:d} {1:5d} {2:05d}\".format(123, 123, 123))"
   ]
  },
  {
   "cell_type": "code",
   "execution_count": 17,
   "id": "82e819ab-b074-4ea8-a522-f7fc73fbd95e",
   "metadata": {},
   "outputs": [
    {
     "name": "stdout",
     "output_type": "stream",
     "text": [
      "789   456 00123\n"
     ]
    }
   ],
   "source": [
    "print(\"{2:d} {1:5d} {0:05d}\".format(123,456,789))"
   ]
  },
  {
   "cell_type": "code",
   "execution_count": 8,
   "id": "5c3be321-dca1-42f9-99b1-bdbdd1b65400",
   "metadata": {},
   "outputs": [
    {
     "name": "stdout",
     "output_type": "stream",
     "text": [
      "300 200 100\n"
     ]
    }
   ],
   "source": [
    "print(\"{2:d} {1:d} {0:d}\".format(100, 200, 300))"
   ]
  },
  {
   "cell_type": "markdown",
   "id": "d05ec0bb-ae0e-4246-b23c-dd913f335663",
   "metadata": {},
   "source": [
    "**이스케이프 문자**"
   ]
  },
  {
   "cell_type": "code",
   "execution_count": 9,
   "id": "b56efb78-3aa6-4ff8-85e7-790b51b545ab",
   "metadata": {},
   "outputs": [
    {
     "name": "stdout",
     "output_type": "stream",
     "text": [
      "한 행입니다. 또 한 행입니다.\n"
     ]
    }
   ],
   "source": [
    "print(\"한 행입니다. 또 한 행입니다.\")"
   ]
  },
  {
   "cell_type": "code",
   "execution_count": 12,
   "id": "f18edd64-7043-4962-b1e2-1ef5dbf158a4",
   "metadata": {},
   "outputs": [
    {
     "name": "stdout",
     "output_type": "stream",
     "text": [
      "한 행입니다. \n",
      "또 한 행입니다.\n"
     ]
    }
   ],
   "source": [
    "print(\"한 행입니다. \\n또 한 행입니다.\")"
   ]
  },
  {
   "cell_type": "code",
   "execution_count": 21,
   "id": "b4fea6b0-f7ef-410e-958f-64b25c7c980e",
   "metadata": {},
   "outputs": [
    {
     "name": "stdout",
     "output_type": "stream",
     "text": [
      "----\t----\t----\t\n",
      "\n",
      " aaa \t bbb \t ccc \t\n",
      "\n",
      "----\t----\t----\t\n",
      "\n"
     ]
    }
   ],
   "source": [
    "print(\"----\\t----\\t----\\t\\n\")\n",
    "print(\" aaa \\t bbb \\t ccc \\t\\n\")\n",
    "print(\"----\\t----\\t----\\t\\n\")"
   ]
  },
  {
   "cell_type": "markdown",
   "id": "870413f4-8fbc-4389-9f66-898aadf19e16",
   "metadata": {},
   "source": [
    "**아래 r : raw string 기법**"
   ]
  },
  {
   "cell_type": "code",
   "execution_count": 22,
   "id": "379c4212-829b-459a-a826-225ac921993c",
   "metadata": {},
   "outputs": [
    {
     "name": "stdout",
     "output_type": "stream",
     "text": [
      "한줄뛰고 \n",
      "줄바꿈\n",
      "연습\n",
      "\t탭키\t연습\n",
      "글자가 \"강조\" 되는 효과1\n",
      "글자가 '강조'되는 효과2\n",
      "\\\\\\역슬래시 세 개 출력\n",
      "\\n \\t \\\" \\\\를 그래로 출력\n"
     ]
    }
   ],
   "source": [
    "print(\"한줄뛰고 \\n줄바꿈\\n연습\")\n",
    "print(\"\\t탭키\\t연습\")\n",
    "print(\"글자가 \\\"강조\\\" 되는 효과1\")\n",
    "print(\"글자가 \\'강조\\'되는 효과2\")\n",
    "print(\"\\\\\\\\\\\\역슬래시 세 개 출력\")\n",
    "print(r\"\\n \\t \\\" \\\\를 그래로 출력\")"
   ]
  },
  {
   "cell_type": "code",
   "execution_count": 17,
   "id": "6e46d566-8e2c-4af9-b09c-e91f6b95d26d",
   "metadata": {},
   "outputs": [
    {
     "name": "stdout",
     "output_type": "stream",
     "text": [
      "    *    \n",
      "   ***   \n",
      "  *****  \n",
      " ******* \n",
      "*********\n",
      " ******* \n",
      "  *****  \n",
      "   ***   \n",
      "    *    \n"
     ]
    }
   ],
   "source": [
    "print(\"    *    \")\n",
    "print(\"   ***   \")\n",
    "print(\"  *****  \")\n",
    "print(\" ******* \")\n",
    "print(\"*********\")\n",
    "print(\" ******* \")\n",
    "print(\"  *****  \")\n",
    "print(\"   ***   \")\n",
    "print(\"    *    \")"
   ]
  },
  {
   "cell_type": "markdown",
   "id": "7b634675-4073-4ad2-9855-a27a1d3c7f0f",
   "metadata": {},
   "source": [
    "# Section\n",
    "\n",
    "변수 = 동적타이핌(Dynamic typing)"
   ]
  },
  {
   "cell_type": "code",
   "execution_count": 33,
   "id": "5d1d6df8-d1b0-4c9c-8dbb-378f4995e3c1",
   "metadata": {},
   "outputs": [],
   "source": [
    "# 참거짓 값: True, False"
   ]
  },
  {
   "cell_type": "code",
   "execution_count": 44,
   "id": "60bdf58c-a6d6-433e-bf1f-a1523445f8cf",
   "metadata": {},
   "outputs": [],
   "source": [
    "boolVar = True"
   ]
  },
  {
   "cell_type": "code",
   "execution_count": 45,
   "id": "98019cca-9f9e-4b17-9599-73b3465f5f9b",
   "metadata": {},
   "outputs": [
    {
     "data": {
      "text/plain": [
       "True"
      ]
     },
     "execution_count": 45,
     "metadata": {},
     "output_type": "execute_result"
    }
   ],
   "source": [
    "boolVar"
   ]
  },
  {
   "cell_type": "code",
   "execution_count": 46,
   "id": "fe2a9c14-1a85-4295-8b49-c40e26e393ed",
   "metadata": {},
   "outputs": [
    {
     "data": {
      "text/plain": [
       "'문자열'"
      ]
     },
     "execution_count": 46,
     "metadata": {},
     "output_type": "execute_result"
    }
   ],
   "source": [
    "boolVar = \"문자열\"\n",
    "boolVar"
   ]
  },
  {
   "cell_type": "code",
   "execution_count": 47,
   "id": "9ee6de3b-9e40-4687-b9f7-7dab63f3ec6c",
   "metadata": {},
   "outputs": [],
   "source": [
    "boolVar = 0.1"
   ]
  },
  {
   "cell_type": "code",
   "execution_count": 56,
   "id": "247c9349-fe58-4866-bc8c-2256a2f54e9d",
   "metadata": {},
   "outputs": [
    {
     "ename": "TypeError",
     "evalue": "can only concatenate str (not \"float\") to str",
     "output_type": "error",
     "traceback": [
      "\u001b[1;31m---------------------------------------------------------------------------\u001b[0m",
      "\u001b[1;31mTypeError\u001b[0m                                 Traceback (most recent call last)",
      "\u001b[1;32m~\\AppData\\Local\\Temp/ipykernel_8132/4034436319.py\u001b[0m in \u001b[0;36m<module>\u001b[1;34m\u001b[0m\n\u001b[1;32m----> 1\u001b[1;33m \u001b[0mprint\u001b[0m\u001b[1;33m(\u001b[0m\u001b[1;34m\"boolVar는 \"\u001b[0m \u001b[1;33m+\u001b[0m \u001b[0mboolVar\u001b[0m\u001b[1;33m)\u001b[0m\u001b[1;33m\u001b[0m\u001b[1;33m\u001b[0m\u001b[0m\n\u001b[0m",
      "\u001b[1;31mTypeError\u001b[0m: can only concatenate str (not \"float\") to str"
     ]
    }
   ],
   "source": [
    "print(\"boolVar는 \" + boolVar)"
   ]
  },
  {
   "cell_type": "code",
   "execution_count": 57,
   "id": "569b58c2-46b3-4ed2-b056-37eecbb2bb50",
   "metadata": {},
   "outputs": [
    {
     "name": "stdout",
     "output_type": "stream",
     "text": [
      "boolVar는  0.1\n"
     ]
    }
   ],
   "source": [
    "print(\"boolVar는 \", \"0.1\")"
   ]
  },
  {
   "cell_type": "code",
   "execution_count": 52,
   "id": "72c8b2b3-f437-418b-bf55-2834884cecc9",
   "metadata": {},
   "outputs": [
    {
     "name": "stdout",
     "output_type": "stream",
     "text": [
      "boolVar는  0.1\n"
     ]
    }
   ],
   "source": [
    "print(\"boolVar는 \", boolVar)"
   ]
  },
  {
   "cell_type": "code",
   "execution_count": 50,
   "id": "f62b8538-6baf-4cbd-9e34-799a3984773e",
   "metadata": {},
   "outputs": [
    {
     "name": "stdout",
     "output_type": "stream",
     "text": [
      "boolVar는 0.100000 \n"
     ]
    }
   ],
   "source": [
    "print(\"boolVar는 %f \"% boolVar)"
   ]
  },
  {
   "cell_type": "code",
   "execution_count": 55,
   "id": "74bfd0d4-48df-4412-8891-a4390fb68628",
   "metadata": {},
   "outputs": [
    {
     "data": {
      "text/plain": [
       "(True, 0, 0.1, '안녕')"
      ]
     },
     "execution_count": 55,
     "metadata": {},
     "output_type": "execute_result"
    }
   ],
   "source": [
    "a, b, f, s = True, 0, 0.1, \"안녕\"\n",
    "a, b, f, s"
   ]
  },
  {
   "cell_type": "code",
   "execution_count": 59,
   "id": "5a780661-2d08-43e9-8c74-fe4a84e88cd4",
   "metadata": {},
   "outputs": [],
   "source": [
    "z = y = w =0"
   ]
  },
  {
   "cell_type": "code",
   "execution_count": 60,
   "id": "cc1350bf-bcc3-45cf-ba34-1cb2b7aec1dc",
   "metadata": {},
   "outputs": [
    {
     "data": {
      "text/plain": [
       "(0, 0, 0)"
      ]
     },
     "execution_count": 60,
     "metadata": {},
     "output_type": "execute_result"
    }
   ],
   "source": [
    "z, y, w"
   ]
  },
  {
   "cell_type": "markdown",
   "id": "7ac69daf-d2c1-4e57-afee-de5479f7379d",
   "metadata": {},
   "source": [
    "변수이름\n",
    " - 숫자시작 X\n",
    " - 예약어 X"
   ]
  },
  {
   "cell_type": "code",
   "execution_count": 61,
   "id": "a91999d3-51b4-4a38-9723-7ff0a83bf7e3",
   "metadata": {},
   "outputs": [
    {
     "ename": "SyntaxError",
     "evalue": "invalid syntax (Temp/ipykernel_8132/2716630727.py, line 1)",
     "output_type": "error",
     "traceback": [
      "\u001b[1;36m  File \u001b[1;32m\"C:\\Users\\BIT\\AppData\\Local\\Temp/ipykernel_8132/2716630727.py\"\u001b[1;36m, line \u001b[1;32m1\u001b[0m\n\u001b[1;33m    2Var = 10\u001b[0m\n\u001b[1;37m     ^\u001b[0m\n\u001b[1;31mSyntaxError\u001b[0m\u001b[1;31m:\u001b[0m invalid syntax\n"
     ]
    }
   ],
   "source": [
    "2Var = 10"
   ]
  },
  {
   "cell_type": "code",
   "execution_count": 62,
   "id": "49df1e5c-32e4-452e-9cf3-b99a0ddce4fd",
   "metadata": {},
   "outputs": [],
   "source": [
    "_Var = 10"
   ]
  },
  {
   "cell_type": "code",
   "execution_count": 51,
   "id": "c8ecfc4d-0089-42d5-82b6-04b6b2a15249",
   "metadata": {},
   "outputs": [],
   "source": [
    "myVar = 10"
   ]
  },
  {
   "cell_type": "code",
   "execution_count": 64,
   "id": "1d1cbe4e-2c1c-48d5-880e-ac1cfa3634bc",
   "metadata": {},
   "outputs": [],
   "source": [
    "# 대소문자 구분\n",
    "myVar = 10\n",
    "MyVar = 10\n",
    "mYVar = 10"
   ]
  },
  {
   "cell_type": "markdown",
   "id": "985f6461-eda2-428f-82ff-9b74d9316a9a",
   "metadata": {},
   "source": [
    "예약어!"
   ]
  },
  {
   "cell_type": "code",
   "execution_count": 63,
   "id": "c82b13a4-0e72-4752-919c-20483fe4d7f4",
   "metadata": {},
   "outputs": [],
   "source": [
    "import keyword"
   ]
  },
  {
   "cell_type": "code",
   "execution_count": 65,
   "id": "a0144f7a-54eb-4866-8db0-4e3f8f20aa11",
   "metadata": {},
   "outputs": [
    {
     "data": {
      "text/plain": [
       "['False',\n",
       " 'None',\n",
       " 'True',\n",
       " '__peg_parser__',\n",
       " 'and',\n",
       " 'as',\n",
       " 'assert',\n",
       " 'async',\n",
       " 'await',\n",
       " 'break',\n",
       " 'class',\n",
       " 'continue',\n",
       " 'def',\n",
       " 'del',\n",
       " 'elif',\n",
       " 'else',\n",
       " 'except',\n",
       " 'finally',\n",
       " 'for',\n",
       " 'from',\n",
       " 'global',\n",
       " 'if',\n",
       " 'import',\n",
       " 'in',\n",
       " 'is',\n",
       " 'lambda',\n",
       " 'nonlocal',\n",
       " 'not',\n",
       " 'or',\n",
       " 'pass',\n",
       " 'raise',\n",
       " 'return',\n",
       " 'try',\n",
       " 'while',\n",
       " 'with',\n",
       " 'yield']"
      ]
     },
     "execution_count": 65,
     "metadata": {},
     "output_type": "execute_result"
    }
   ],
   "source": [
    "keyword.kwlist"
   ]
  },
  {
   "cell_type": "markdown",
   "id": "b75673eb-d2be-4da4-9a59-3dca96d3112b",
   "metadata": {},
   "source": [
    "type()함수"
   ]
  },
  {
   "cell_type": "code",
   "execution_count": 66,
   "id": "78b3973d-ae51-4bec-aa3c-a1149bf61546",
   "metadata": {},
   "outputs": [
    {
     "data": {
      "text/plain": [
       "int"
      ]
     },
     "execution_count": 66,
     "metadata": {},
     "output_type": "execute_result"
    }
   ],
   "source": [
    "type(myVar)"
   ]
  },
  {
   "cell_type": "code",
   "execution_count": 67,
   "id": "411040c8-275d-4dea-aa15-fd2dd4d86692",
   "metadata": {},
   "outputs": [
    {
     "data": {
      "text/plain": [
       "bool"
      ]
     },
     "execution_count": 67,
     "metadata": {},
     "output_type": "execute_result"
    }
   ],
   "source": [
    "type(a)"
   ]
  },
  {
   "cell_type": "code",
   "execution_count": 68,
   "id": "fd6696f1-9d7b-4007-ba17-80d5b21b3858",
   "metadata": {},
   "outputs": [
    {
     "data": {
      "text/plain": [
       "float"
      ]
     },
     "execution_count": 68,
     "metadata": {},
     "output_type": "execute_result"
    }
   ],
   "source": [
    "a = 100.01\n",
    "type(a)"
   ]
  },
  {
   "cell_type": "markdown",
   "id": "fd72e60e-bbec-4dad-8ce1-f8bf155d5708",
   "metadata": {},
   "source": [
    "진수변환"
   ]
  },
  {
   "cell_type": "code",
   "execution_count": 69,
   "id": "2072ed40-2b73-44c7-9879-83658308db89",
   "metadata": {},
   "outputs": [
    {
     "data": {
      "text/plain": [
       "147"
      ]
     },
     "execution_count": 69,
     "metadata": {},
     "output_type": "execute_result"
    }
   ],
   "source": [
    "0b10010011"
   ]
  },
  {
   "cell_type": "code",
   "execution_count": 70,
   "id": "24ff4428-7a8a-4200-9e37-1094d895b05c",
   "metadata": {},
   "outputs": [
    {
     "data": {
      "text/plain": [
       "147"
      ]
     },
     "execution_count": 70,
     "metadata": {},
     "output_type": "execute_result"
    }
   ],
   "source": [
    "a = 0b10010011\n",
    "a"
   ]
  },
  {
   "cell_type": "code",
   "execution_count": 74,
   "id": "42c52d9e-2b61-4750-b58b-890b4c2f4e98",
   "metadata": {},
   "outputs": [
    {
     "data": {
      "text/plain": [
       "147"
      ]
     },
     "execution_count": 74,
     "metadata": {},
     "output_type": "execute_result"
    }
   ],
   "source": [
    "int('10010011', 2)"
   ]
  },
  {
   "cell_type": "code",
   "execution_count": 76,
   "id": "5b4f9011-3637-4c0a-8f0b-51ce0b7ed01f",
   "metadata": {},
   "outputs": [
    {
     "data": {
      "text/plain": [
       "250"
      ]
     },
     "execution_count": 76,
     "metadata": {},
     "output_type": "execute_result"
    }
   ],
   "source": [
    "int('FA', 16)"
   ]
  },
  {
   "cell_type": "code",
   "execution_count": 77,
   "id": "8520b50d-b4fb-4c96-ab3d-0f379e75a8b4",
   "metadata": {},
   "outputs": [
    {
     "data": {
      "text/plain": [
       "'0b10010011'"
      ]
     },
     "execution_count": 77,
     "metadata": {},
     "output_type": "execute_result"
    }
   ],
   "source": [
    "bin(147)"
   ]
  },
  {
   "cell_type": "code",
   "execution_count": 78,
   "id": "bd277488-bbf0-40de-9abd-4f9650881114",
   "metadata": {},
   "outputs": [
    {
     "data": {
      "text/plain": [
       "'0b11111010'"
      ]
     },
     "execution_count": 78,
     "metadata": {},
     "output_type": "execute_result"
    }
   ],
   "source": [
    "bin(0XFA)"
   ]
  },
  {
   "cell_type": "code",
   "execution_count": 79,
   "id": "bcecd88d-8dcf-4dbe-b4f2-13d6b21c5625",
   "metadata": {},
   "outputs": [
    {
     "data": {
      "text/plain": [
       "'0o223'"
      ]
     },
     "execution_count": 79,
     "metadata": {},
     "output_type": "execute_result"
    }
   ],
   "source": [
    "oct(147)"
   ]
  },
  {
   "cell_type": "code",
   "execution_count": 80,
   "id": "af86cba5-c810-4c99-949a-09880944bfa1",
   "metadata": {},
   "outputs": [
    {
     "data": {
      "text/plain": [
       "'0x93'"
      ]
     },
     "execution_count": 80,
     "metadata": {},
     "output_type": "execute_result"
    }
   ],
   "source": [
    "hex(147)"
   ]
  },
  {
   "cell_type": "code",
   "execution_count": 84,
   "id": "34d08d53-9295-45a2-9541-b5097dbfbe95",
   "metadata": {},
   "outputs": [
    {
     "name": "stdin",
     "output_type": "stream",
     "text": [
      "입력 진수 결정(16/10/8/2) :  10\n",
      "값 입력 :  265\n"
     ]
    },
    {
     "name": "stdout",
     "output_type": "stream",
     "text": [
      "16진수 ==>  0x109\n",
      "10진수 ==>  265\n",
      "8진수 ==>  0o411\n",
      "2진수 ==>  0b100001001\n"
     ]
    }
   ],
   "source": [
    "sel = int(input(\"입력 진수 결정(16/10/8/2) : \"))\n",
    "num = input(\"값 입력 : \")\n",
    "\n",
    "if sel == 16 :\n",
    "    num10 = int(num, 16)\n",
    "if sel == 10 :\n",
    "    num10 = int(num, 10)\n",
    "if sel == 8 :\n",
    "    num10 = int(num, 8)\n",
    "if sel == 2 :\n",
    "    num10 = int(num, 2)\n",
    "    \n",
    "print(\"16진수 ==> \", hex(num10))\n",
    "print(\"10진수 ==> \", num10)\n",
    "print(\"8진수 ==> \", oct(num10))\n",
    "print(\"2진수 ==> \", bin(num10))"
   ]
  },
  {
   "cell_type": "markdown",
   "id": "0809cf4b-985e-4ca3-9077-4e91a0879153",
   "metadata": {},
   "source": [
    "> P81 ->조건문 하고 실습!"
   ]
  },
  {
   "cell_type": "markdown",
   "id": "165fff4d-c995-4a15-b93b-a1a5503d6542",
   "metadata": {},
   "source": [
    "# Section5 기본 데이터형\n",
    "\n",
    "기본형식 -> 하나의 값을 저장하는 방법!"
   ]
  },
  {
   "cell_type": "code",
   "execution_count": 86,
   "id": "20b5a6ad-60a2-46af-a8d0-ddbd83b75417",
   "metadata": {},
   "outputs": [
    {
     "data": {
      "text/plain": [
       "123"
      ]
     },
     "execution_count": 86,
     "metadata": {},
     "output_type": "execute_result"
    }
   ],
   "source": [
    "a = 123 # 정수\n",
    "a"
   ]
  },
  {
   "cell_type": "code",
   "execution_count": 87,
   "id": "b9db9d48-0203-465b-bdfb-1615c20db9d4",
   "metadata": {},
   "outputs": [
    {
     "data": {
      "text/plain": [
       "int"
      ]
     },
     "execution_count": 87,
     "metadata": {},
     "output_type": "execute_result"
    }
   ],
   "source": [
    "type(a)"
   ]
  },
  {
   "cell_type": "code",
   "execution_count": 89,
   "id": "a152a0ca-84ee-4a2e-ae5a-55b4e45f9274",
   "metadata": {},
   "outputs": [
    {
     "data": {
      "text/plain": [
       "123000000"
      ]
     },
     "execution_count": 89,
     "metadata": {},
     "output_type": "execute_result"
    }
   ],
   "source": [
    "a = a * 1000\n",
    "a"
   ]
  },
  {
   "cell_type": "code",
   "execution_count": 90,
   "id": "44baab49-389f-478f-9665-b96f51eada32",
   "metadata": {},
   "outputs": [
    {
     "data": {
      "text/plain": [
       "100000000000000000000000000000000000000000000000000000000000000000000000000000000000000000000000000000000000000000000000000000000000000000000000000000000000000000000000000000000000000000000000000000000"
      ]
     },
     "execution_count": 90,
     "metadata": {},
     "output_type": "execute_result"
    }
   ],
   "source": [
    "a=  100**100\n",
    "a"
   ]
  },
  {
   "cell_type": "code",
   "execution_count": 91,
   "id": "349d91cd-3f6c-406c-a6ef-c1727ba9cf60",
   "metadata": {},
   "outputs": [
    {
     "data": {
      "text/plain": [
       "int"
      ]
     },
     "execution_count": 91,
     "metadata": {},
     "output_type": "execute_result"
    }
   ],
   "source": [
    "type(a)"
   ]
  },
  {
   "cell_type": "code",
   "execution_count": 92,
   "id": "8c9f632e-1730-4110-b90c-e9c04338b110",
   "metadata": {},
   "outputs": [
    {
     "data": {
      "text/plain": [
       "int"
      ]
     },
     "execution_count": 92,
     "metadata": {},
     "output_type": "execute_result"
    }
   ],
   "source": [
    "a = 0xFF\n",
    "type(a)"
   ]
  },
  {
   "cell_type": "code",
   "execution_count": 94,
   "id": "0337fe67-24a5-454b-a41f-89292f9a09ab",
   "metadata": {},
   "outputs": [
    {
     "data": {
      "text/plain": [
       "int"
      ]
     },
     "execution_count": 94,
     "metadata": {},
     "output_type": "execute_result"
    }
   ],
   "source": [
    "type(0b11111)"
   ]
  },
  {
   "cell_type": "code",
   "execution_count": 96,
   "id": "e925a751-57f6-4702-894b-9eca6c592fd0",
   "metadata": {},
   "outputs": [],
   "source": [
    "a = 3.14\n",
    "b = 3.14e5"
   ]
  },
  {
   "cell_type": "code",
   "execution_count": 97,
   "id": "610a24f6-6919-411c-aaa5-dd1bed54f83a",
   "metadata": {},
   "outputs": [
    {
     "data": {
      "text/plain": [
       "3.14"
      ]
     },
     "execution_count": 97,
     "metadata": {},
     "output_type": "execute_result"
    }
   ],
   "source": [
    "a"
   ]
  },
  {
   "cell_type": "code",
   "execution_count": 98,
   "id": "c06a59d6-78fa-43ce-9ec1-d0811e092702",
   "metadata": {},
   "outputs": [
    {
     "data": {
      "text/plain": [
       "314000.0"
      ]
     },
     "execution_count": 98,
     "metadata": {},
     "output_type": "execute_result"
    }
   ],
   "source": [
    "b"
   ]
  },
  {
   "cell_type": "code",
   "execution_count": 99,
   "id": "d707770f-db8b-4cf0-8c50-4e9f3271ee40",
   "metadata": {},
   "outputs": [
    {
     "data": {
      "text/plain": [
       "110000.0"
      ]
     },
     "execution_count": 99,
     "metadata": {},
     "output_type": "execute_result"
    }
   ],
   "source": [
    "1.1e5"
   ]
  },
  {
   "cell_type": "code",
   "execution_count": 100,
   "id": "7e2d6fd0-9504-4798-a620-144032e27442",
   "metadata": {},
   "outputs": [
    {
     "data": {
      "text/plain": [
       "101000.0"
      ]
     },
     "execution_count": 100,
     "metadata": {},
     "output_type": "execute_result"
    }
   ],
   "source": [
    "1.01e5"
   ]
  },
  {
   "cell_type": "code",
   "execution_count": 101,
   "id": "2db3859b-0e64-46f6-afd8-2fa25b87aa45",
   "metadata": {},
   "outputs": [
    {
     "name": "stdout",
     "output_type": "stream",
     "text": [
      "30 -10 200 0.5\n"
     ]
    }
   ],
   "source": [
    "a = 10; b = 20\n",
    "print(a + b, a- b, a* b, a / b)"
   ]
  },
  {
   "cell_type": "markdown",
   "id": "b9f92030-a431-4ce7-b4fd-803c06c142bc",
   "metadata": {},
   "source": [
    "1. 정밀도가 큰 자료형으로 결과가 반환!\n",
    "2. 자료 버위가 큰 자료형으로 결과가 반환! <-- python"
   ]
  },
  {
   "cell_type": "code",
   "execution_count": 105,
   "id": "a006345c-a28f-473b-bb36-abb2abde383c",
   "metadata": {},
   "outputs": [
    {
     "data": {
      "text/plain": [
       "10"
      ]
     },
     "execution_count": 105,
     "metadata": {},
     "output_type": "execute_result"
    }
   ],
   "source": [
    "a % b # 나머지"
   ]
  },
  {
   "cell_type": "code",
   "execution_count": 104,
   "id": "387baf44-c2ae-4d70-8d47-34fc3e41bfc0",
   "metadata": {},
   "outputs": [
    {
     "data": {
      "text/plain": [
       "0"
      ]
     },
     "execution_count": 104,
     "metadata": {},
     "output_type": "execute_result"
    }
   ],
   "source": [
    "a // b #몫"
   ]
  },
  {
   "cell_type": "markdown",
   "id": "339744ce-adc6-40b6-a89e-4ad115662f01",
   "metadata": {},
   "source": [
    "불리언:True, False"
   ]
  },
  {
   "cell_type": "code",
   "execution_count": 107,
   "id": "5a6807cd-9f83-43fb-936f-8585cafd58ae",
   "metadata": {},
   "outputs": [
    {
     "data": {
      "text/plain": [
       "bool"
      ]
     },
     "execution_count": 107,
     "metadata": {},
     "output_type": "execute_result"
    }
   ],
   "source": [
    "type(True)"
   ]
  },
  {
   "cell_type": "code",
   "execution_count": 109,
   "id": "398a7617-2a54-44fa-9a0d-1d87af20a12d",
   "metadata": {},
   "outputs": [
    {
     "data": {
      "text/plain": [
       "(False, True)"
      ]
     },
     "execution_count": 109,
     "metadata": {},
     "output_type": "execute_result"
    }
   ],
   "source": [
    "10 == 1, 10 == 10"
   ]
  },
  {
   "cell_type": "markdown",
   "id": "03eb2308-bbc9-4ab0-b7a5-35e54665bf91",
   "metadata": {},
   "source": [
    "문자열 : 문자의 집합!"
   ]
  },
  {
   "cell_type": "code",
   "execution_count": 110,
   "id": "bf82ee78-9ba1-4fda-9f09-c5efe33da6b9",
   "metadata": {},
   "outputs": [
    {
     "data": {
      "text/plain": [
       "'안녕하세요'"
      ]
     },
     "execution_count": 110,
     "metadata": {},
     "output_type": "execute_result"
    }
   ],
   "source": [
    "\"안녕하세요\""
   ]
  },
  {
   "cell_type": "code",
   "execution_count": 111,
   "id": "342483d9-9ba8-45b6-8e43-0cb245692cb0",
   "metadata": {},
   "outputs": [
    {
     "data": {
      "text/plain": [
       "'안녕하세요'"
      ]
     },
     "execution_count": 111,
     "metadata": {},
     "output_type": "execute_result"
    }
   ],
   "source": [
    "'안녕하세요'"
   ]
  },
  {
   "cell_type": "code",
   "execution_count": 112,
   "id": "5c96043f-7c46-4451-b743-84be2edfb79d",
   "metadata": {},
   "outputs": [
    {
     "data": {
      "text/plain": [
       "str"
      ]
     },
     "execution_count": 112,
     "metadata": {},
     "output_type": "execute_result"
    }
   ],
   "source": [
    "a = '안녕하세요'\n",
    "type(a)"
   ]
  },
  {
   "cell_type": "code",
   "execution_count": 113,
   "id": "41814039-bb23-42b4-a3ad-d384159c9257",
   "metadata": {},
   "outputs": [
    {
     "ename": "SyntaxError",
     "evalue": "EOL while scanning string literal (Temp/ipykernel_8132/469612086.py, line 1)",
     "output_type": "error",
     "traceback": [
      "\u001b[1;36m  File \u001b[1;32m\"C:\\Users\\BIT\\AppData\\Local\\Temp/ipykernel_8132/469612086.py\"\u001b[1;36m, line \u001b[1;32m1\u001b[0m\n\u001b[1;33m    a = \"안녕하세요\u001b[0m\n\u001b[1;37m              ^\u001b[0m\n\u001b[1;31mSyntaxError\u001b[0m\u001b[1;31m:\u001b[0m EOL while scanning string literal\n"
     ]
    }
   ],
   "source": [
    "a = \"안녕하세요\n",
    "반갑습니다.\n",
    "파이썬 교육 수료하셨습니다.\""
   ]
  },
  {
   "cell_type": "markdown",
   "id": "df6ddd27-967b-4f40-812b-3ab2c57bfbab",
   "metadata": {},
   "source": [
    "**docstring**"
   ]
  },
  {
   "cell_type": "code",
   "execution_count": 119,
   "id": "6844880f-08b4-4f03-82dd-4a483bad8f00",
   "metadata": {},
   "outputs": [
    {
     "data": {
      "text/plain": [
       "'\\n안녕하세요\\n반갑습니다.\\n파이썬 교육 수료하셨습니다.\\n'"
      ]
     },
     "execution_count": 119,
     "metadata": {},
     "output_type": "execute_result"
    }
   ],
   "source": [
    "a = \"\"\"\n",
    "안녕하세요\n",
    "반갑습니다.\n",
    "파이썬 교육 수료하셨습니다.\n",
    "\"\"\"\n",
    "a"
   ]
  },
  {
   "cell_type": "code",
   "execution_count": 120,
   "id": "1fe2f662-2584-4933-bd33-e9f95a70cf39",
   "metadata": {},
   "outputs": [
    {
     "name": "stdout",
     "output_type": "stream",
     "text": [
      "\n",
      "안녕하세요\n",
      "반갑습니다.\n",
      "파이썬 교육 수료하셨습니다.\n",
      "\n"
     ]
    }
   ],
   "source": [
    "print(a)"
   ]
  },
  {
   "cell_type": "code",
   "execution_count": 121,
   "id": "f58e8f67-2dfa-4476-8d10-d9df42f3dcf9",
   "metadata": {},
   "outputs": [
    {
     "name": "stdout",
     "output_type": "stream",
     "text": [
      "메인 함수 부분이 실행됩니다.\n",
      "함수를 호출함.\n",
      "전역 변수 값: 100\n"
     ]
    }
   ],
   "source": [
    "## 함수 선언 부분 ##\n",
    "def myFunc() :\n",
    "    print('함수를 호출함.')\n",
    "\n",
    "## 전역 변수 선언 부분 ##\n",
    "gVar = 100\n",
    "\n",
    "## 메인 코드 부분 ##\n",
    "if __name__ == '__main__' :\n",
    "    print('메인 함수 부분이 실행됩니다.')\n",
    "    myFunc()\n",
    "    print('전역 변수 값:', gVar)"
   ]
  },
  {
   "cell_type": "markdown",
   "id": "0769da1d-93d3-4686-a774-b5c6885eacd4",
   "metadata": {},
   "source": [
    "# P92 연습문제"
   ]
  },
  {
   "cell_type": "code",
   "execution_count": 158,
   "id": "2aa39d4c-96eb-4e5a-b3b6-452013d6d158",
   "metadata": {},
   "outputs": [
    {
     "name": "stdin",
     "output_type": "stream",
     "text": [
      "글자 입력: 0\n"
     ]
    }
   ],
   "source": [
    "a = int(input(\"글자 입력:\"))\n",
    "if a == bin(a) :\n",
    "    printf(\"2진수\")"
   ]
  },
  {
   "cell_type": "code",
   "execution_count": null,
   "id": "f723e576-3273-4766-97a3-b4655599fb85",
   "metadata": {},
   "outputs": [],
   "source": []
  },
  {
   "cell_type": "code",
   "execution_count": null,
   "id": "54e76e76-eda3-4a34-8834-837dbb8e255b",
   "metadata": {},
   "outputs": [],
   "source": []
  },
  {
   "cell_type": "code",
   "execution_count": null,
   "id": "f29a24e4-dca9-4e74-b2f7-a791ec6312f6",
   "metadata": {},
   "outputs": [],
   "source": []
  },
  {
   "cell_type": "code",
   "execution_count": null,
   "id": "cab3f531-47ef-4262-a51c-5e2c04c65d52",
   "metadata": {},
   "outputs": [],
   "source": []
  },
  {
   "cell_type": "code",
   "execution_count": null,
   "id": "4770b8ba-f512-4abf-a755-a7a7d740687d",
   "metadata": {},
   "outputs": [],
   "source": []
  },
  {
   "cell_type": "code",
   "execution_count": null,
   "id": "9db8dc13-73cc-40aa-9d2c-8202e0ccf9f2",
   "metadata": {},
   "outputs": [],
   "source": []
  },
  {
   "cell_type": "code",
   "execution_count": null,
   "id": "62737caa-977f-489e-9c98-b05610797636",
   "metadata": {},
   "outputs": [],
   "source": []
  },
  {
   "cell_type": "code",
   "execution_count": null,
   "id": "08ee10ea-203c-4352-aeab-b0d205b5dd0f",
   "metadata": {},
   "outputs": [],
   "source": []
  }
 ],
 "metadata": {
  "kernelspec": {
   "display_name": "Python 3 (ipykernel)",
   "language": "python",
   "name": "python3"
  },
  "language_info": {
   "codemirror_mode": {
    "name": "ipython",
    "version": 3
   },
   "file_extension": ".py",
   "mimetype": "text/x-python",
   "name": "python",
   "nbconvert_exporter": "python",
   "pygments_lexer": "ipython3",
   "version": "3.9.7"
  }
 },
 "nbformat": 4,
 "nbformat_minor": 5
}
