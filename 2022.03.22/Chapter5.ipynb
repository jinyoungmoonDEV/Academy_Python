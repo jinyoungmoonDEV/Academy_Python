{
 "cells": [
  {
   "cell_type": "markdown",
   "id": "ffae25a0-920c-43de-9725-c9882aa03e9b",
   "metadata": {},
   "source": [
    "# Chapter5\n",
    "\n",
    "if 조건식\n",
    "\n",
    " - 코드블럭:\":\"\n",
    " 1. 들여쓰기\n",
    " 1. if, for, while, 함수 def, 클래스calss"
   ]
  },
  {
   "cell_type": "code",
   "execution_count": 1,
   "id": "5b9b9301-caf4-4872-8a11-1d850fc0f571",
   "metadata": {},
   "outputs": [
    {
     "name": "stdout",
     "output_type": "stream",
     "text": [
      "작다\n"
     ]
    }
   ],
   "source": [
    "a = 99\n",
    "if a < 100:\n",
    "    print(\"작다\")"
   ]
  },
  {
   "cell_type": "code",
   "execution_count": 3,
   "id": "d4abf818-ee55-4890-99df-dd88fad473ab",
   "metadata": {},
   "outputs": [
    {
     "name": "stdout",
     "output_type": "stream",
     "text": [
      "작다\n",
      "....\n"
     ]
    }
   ],
   "source": [
    "if a < 100:\n",
    "    print(\"작다\")\n",
    "    print(\"....\")"
   ]
  },
  {
   "cell_type": "code",
   "execution_count": 7,
   "id": "bda89c46-da16-4c5d-932a-30117d667901",
   "metadata": {},
   "outputs": [
    {
     "name": "stdout",
     "output_type": "stream",
     "text": [
      "끝....\n"
     ]
    }
   ],
   "source": [
    "a = 200\n",
    "if a < 200:\n",
    "    print(\"작다\")\n",
    "    \n",
    "print(\"끝....\")"
   ]
  },
  {
   "cell_type": "markdown",
   "id": "8c9fcfd3-9664-47fa-bf5e-262a4eddadff",
   "metadata": {},
   "source": [
    "if ~ else 문"
   ]
  },
  {
   "cell_type": "code",
   "execution_count": 9,
   "id": "e88b7152-ade3-479f-9354-2111b9705164",
   "metadata": {},
   "outputs": [
    {
     "name": "stdout",
     "output_type": "stream",
     "text": [
      "좀 더 힘내세요!\n",
      "끝....\n"
     ]
    }
   ],
   "source": [
    "a = 200\n",
    "if a < 200:\n",
    "    print(\"작다\")\n",
    "else :\n",
    "    print(\"좀 더 힘내세요!\")\n",
    "print(\"끝....\")"
   ]
  },
  {
   "cell_type": "markdown",
   "id": "6b5e8989-db83-4f7b-8b11-7549ea36c1a9",
   "metadata": {},
   "source": [
    "# * 쉘 나누기 : Ctrl + Shift + \"-\""
   ]
  },
  {
   "cell_type": "code",
   "execution_count": 11,
   "id": "199ee574-3917-4d62-9516-c066be529955",
   "metadata": {},
   "outputs": [
    {
     "name": "stdin",
     "output_type": "stream",
     "text": [
      "정수를 입력하세요 :  122\n"
     ]
    },
    {
     "name": "stdout",
     "output_type": "stream",
     "text": [
      "짝수를 입력했군요.\n"
     ]
    }
   ],
   "source": [
    "a = int(input(\"정수를 입력하세요 : \"))\n",
    "if a % 2 == 0 :\n",
    "    print(\"짝수를 입력했군요.\")\n",
    "else :\n",
    "    print(\"홀수를 입력했군요.\")"
   ]
  },
  {
   "cell_type": "code",
   "execution_count": 16,
   "id": "3358d55e-994a-48d4-a508-c336ef444763",
   "metadata": {},
   "outputs": [
    {
     "name": "stdout",
     "output_type": "stream",
     "text": [
      "와~~ 100보다 크군요.\n"
     ]
    }
   ],
   "source": [
    "a = 101\n",
    "\n",
    "if a > 50 :\n",
    "    if a < 100 :\n",
    "        print(\"50보다 크고 100보다 작군요.\")\n",
    "    else :\n",
    "        print(\"와~~ 100보다 크군요.\")\n",
    "else :\n",
    "    print(\"에고~50보다 작군요.\")"
   ]
  },
  {
   "cell_type": "code",
   "execution_count": 34,
   "id": "d8a59639-e7a4-4b06-88ac-9165c57d4be3",
   "metadata": {},
   "outputs": [
    {
     "name": "stdin",
     "output_type": "stream",
     "text": [
      "점수를 입력하세요. :  60\n"
     ]
    },
    {
     "name": "stdout",
     "output_type": "stream",
     "text": [
      "D\n",
      "학점입니다.^^\n"
     ]
    }
   ],
   "source": [
    "score = int(input(\"점수를 입력하세요. : \"))\n",
    "\n",
    "if score >= 90 :\n",
    "    print(\"A\")\n",
    "else :\n",
    "    if score >= 80 :\n",
    "        print(\"B\")\n",
    "    else :\n",
    "        if score >= 70 :\n",
    "            print(\"C\")\n",
    "        else :\n",
    "            if score >= 60 :\n",
    "                print(\"D\")\n",
    "            else : \n",
    "                print(\"F\")\n",
    "print(\"학점입니다.^^\")"
   ]
  },
  {
   "cell_type": "code",
   "execution_count": 35,
   "id": "b5e1024f-a9d8-4b01-936f-e8c26a34ac53",
   "metadata": {},
   "outputs": [
    {
     "name": "stdout",
     "output_type": "stream",
     "text": [
      "불합격\n"
     ]
    }
   ],
   "source": [
    "jumsu = 55\n",
    "res = ' '\n",
    "if jumsu >= 60 :\n",
    "    res = '합격'\n",
    "else :\n",
    "    res = '불합격'\n",
    "print(res)"
   ]
  },
  {
   "cell_type": "markdown",
   "id": "44924a12-bd42-4798-b354-c7792145d339",
   "metadata": {},
   "source": [
    "삼항 연사자 사용"
   ]
  },
  {
   "cell_type": "code",
   "execution_count": 46,
   "id": "675202cf-617b-433c-9557-cbba49e0e42e",
   "metadata": {},
   "outputs": [
    {
     "name": "stdout",
     "output_type": "stream",
     "text": [
      "불합격\n"
     ]
    }
   ],
   "source": [
    "jumsu = 55\n",
    "res = ' '\n",
    "res = '합격' if jumsu >=60 else '불합격'\n",
    "print(res)"
   ]
  },
  {
   "cell_type": "code",
   "execution_count": null,
   "id": "02fb5cba-2f38-4bde-9564-95beb786e252",
   "metadata": {},
   "outputs": [],
   "source": []
  },
  {
   "cell_type": "code",
   "execution_count": null,
   "id": "c32fd6f7-a4fa-471c-ae71-41486647d51a",
   "metadata": {},
   "outputs": [],
   "source": []
  },
  {
   "cell_type": "code",
   "execution_count": null,
   "id": "11b94fa3-6830-40d3-bb40-a1f8a0af19e1",
   "metadata": {},
   "outputs": [],
   "source": []
  },
  {
   "cell_type": "code",
   "execution_count": null,
   "id": "cba53951-76b7-4356-9bb6-681c167764ae",
   "metadata": {},
   "outputs": [],
   "source": []
  },
  {
   "cell_type": "code",
   "execution_count": null,
   "id": "784f1cec-4ff3-4029-93a4-6007fe3f9f92",
   "metadata": {},
   "outputs": [],
   "source": []
  },
  {
   "cell_type": "code",
   "execution_count": null,
   "id": "3826b428-5e3a-4b0c-a09b-aef207388639",
   "metadata": {},
   "outputs": [],
   "source": []
  },
  {
   "cell_type": "code",
   "execution_count": null,
   "id": "c719f28e-fb84-477a-afe5-ceb1db353dd0",
   "metadata": {},
   "outputs": [],
   "source": []
  },
  {
   "cell_type": "code",
   "execution_count": null,
   "id": "04923894-ab57-420f-8038-5b41414c8179",
   "metadata": {},
   "outputs": [],
   "source": []
  },
  {
   "cell_type": "code",
   "execution_count": null,
   "id": "32ba5ae4-cf15-4a6f-b7fa-ce3e264c52cc",
   "metadata": {},
   "outputs": [],
   "source": []
  },
  {
   "cell_type": "code",
   "execution_count": null,
   "id": "d801a751-8f9b-441d-ba36-97ef838d34b9",
   "metadata": {},
   "outputs": [],
   "source": []
  },
  {
   "cell_type": "code",
   "execution_count": null,
   "id": "71efe8f5-aa8e-4748-9019-0bfe997f0075",
   "metadata": {},
   "outputs": [],
   "source": []
  },
  {
   "cell_type": "code",
   "execution_count": null,
   "id": "23946418-27be-4b9a-bd61-bf48b5928a06",
   "metadata": {},
   "outputs": [],
   "source": []
  },
  {
   "cell_type": "code",
   "execution_count": null,
   "id": "6ea6cc2c-b8c0-4881-92f1-2c22d69bb136",
   "metadata": {},
   "outputs": [],
   "source": []
  },
  {
   "cell_type": "code",
   "execution_count": null,
   "id": "5bd44340-ec15-452d-8e43-82eb616e09c9",
   "metadata": {},
   "outputs": [],
   "source": []
  },
  {
   "cell_type": "code",
   "execution_count": null,
   "id": "5bc4b32b-5207-49bb-9489-08e0322c95b1",
   "metadata": {},
   "outputs": [],
   "source": []
  },
  {
   "cell_type": "code",
   "execution_count": null,
   "id": "73d9e775-b546-4126-8bae-ff4ba8483c9f",
   "metadata": {},
   "outputs": [],
   "source": []
  },
  {
   "cell_type": "code",
   "execution_count": null,
   "id": "930cae36-4a99-4f4d-a34a-ded4a754a43e",
   "metadata": {},
   "outputs": [],
   "source": []
  }
 ],
 "metadata": {
  "kernelspec": {
   "display_name": "Python 3 (ipykernel)",
   "language": "python",
   "name": "python3"
  },
  "language_info": {
   "codemirror_mode": {
    "name": "ipython",
    "version": 3
   },
   "file_extension": ".py",
   "mimetype": "text/x-python",
   "name": "python",
   "nbconvert_exporter": "python",
   "pygments_lexer": "ipython3",
   "version": "3.9.7"
  }
 },
 "nbformat": 4,
 "nbformat_minor": 5
}
