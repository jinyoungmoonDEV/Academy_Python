{
 "cells": [
  {
   "cell_type": "markdown",
   "id": "9187f527-26a7-4850-b83e-e8987963ef74",
   "metadata": {},
   "source": [
    "# Chapter4"
   ]
  },
  {
   "cell_type": "code",
   "execution_count": 2,
   "id": "791c70ce-56ed-41ea-bee3-58fcc8cacc8a",
   "metadata": {},
   "outputs": [],
   "source": [
    "a = 3; b = 5"
   ]
  },
  {
   "cell_type": "code",
   "execution_count": 3,
   "id": "453a730d-54a1-4a35-ac09-c4ddde2b5982",
   "metadata": {},
   "outputs": [
    {
     "data": {
      "text/plain": [
       "8"
      ]
     },
     "execution_count": 3,
     "metadata": {},
     "output_type": "execute_result"
    }
   ],
   "source": [
    "a + b"
   ]
  },
  {
   "cell_type": "code",
   "execution_count": 4,
   "id": "e7a1c39c-4299-469a-b90e-1ee4e82960f8",
   "metadata": {},
   "outputs": [
    {
     "data": {
      "text/plain": [
       "-2"
      ]
     },
     "execution_count": 4,
     "metadata": {},
     "output_type": "execute_result"
    }
   ],
   "source": [
    "a - b"
   ]
  },
  {
   "cell_type": "code",
   "execution_count": 5,
   "id": "fbc1930b-4f41-41e4-b400-c358ef7a97a8",
   "metadata": {},
   "outputs": [
    {
     "data": {
      "text/plain": [
       "15"
      ]
     },
     "execution_count": 5,
     "metadata": {},
     "output_type": "execute_result"
    }
   ],
   "source": [
    "a * b"
   ]
  },
  {
   "cell_type": "code",
   "execution_count": 6,
   "id": "3adf0cb9-c914-4886-9a60-3f724eaf9f09",
   "metadata": {},
   "outputs": [
    {
     "data": {
      "text/plain": [
       "0.6"
      ]
     },
     "execution_count": 6,
     "metadata": {},
     "output_type": "execute_result"
    }
   ],
   "source": [
    "a / b"
   ]
  },
  {
   "cell_type": "code",
   "execution_count": 7,
   "id": "c6581d5f-3e79-4b34-8474-a4602b7d6160",
   "metadata": {},
   "outputs": [
    {
     "data": {
      "text/plain": [
       "3"
      ]
     },
     "execution_count": 7,
     "metadata": {},
     "output_type": "execute_result"
    }
   ],
   "source": [
    "a % b"
   ]
  },
  {
   "cell_type": "code",
   "execution_count": 12,
   "id": "b552efbf-4aea-4554-8da4-68a913623109",
   "metadata": {},
   "outputs": [
    {
     "data": {
      "text/plain": [
       "0"
      ]
     },
     "execution_count": 12,
     "metadata": {},
     "output_type": "execute_result"
    }
   ],
   "source": [
    "a // b"
   ]
  },
  {
   "cell_type": "code",
   "execution_count": 13,
   "id": "18922110-c113-4843-96ac-9628145d544f",
   "metadata": {},
   "outputs": [
    {
     "data": {
      "text/plain": [
       "8"
      ]
     },
     "execution_count": 13,
     "metadata": {},
     "output_type": "execute_result"
    }
   ],
   "source": [
    "a ** b"
   ]
  },
  {
   "cell_type": "markdown",
   "id": "c5d0a2c4-5b2f-47d2-9e5b-c825621614e9",
   "metadata": {},
   "source": [
    "우선순위"
   ]
  },
  {
   "cell_type": "code",
   "execution_count": 10,
   "id": "4bfb114d-7891-4308-8970-76fdb58fce64",
   "metadata": {},
   "outputs": [],
   "source": [
    "a, b, c = 2, 3, 4"
   ]
  },
  {
   "cell_type": "code",
   "execution_count": 11,
   "id": "2e161a2f-323d-44e8-a8c3-50a69d782d5a",
   "metadata": {},
   "outputs": [
    {
     "data": {
      "text/plain": [
       "1"
      ]
     },
     "execution_count": 11,
     "metadata": {},
     "output_type": "execute_result"
    }
   ],
   "source": [
    "a + b -c"
   ]
  },
  {
   "cell_type": "code",
   "execution_count": 14,
   "id": "7d2919cb-4543-4716-8617-64756a44d7b3",
   "metadata": {},
   "outputs": [
    {
     "data": {
      "text/plain": [
       "1"
      ]
     },
     "execution_count": 14,
     "metadata": {},
     "output_type": "execute_result"
    }
   ],
   "source": [
    "(a + b) -c"
   ]
  },
  {
   "cell_type": "code",
   "execution_count": 15,
   "id": "d6d4429d-e093-4ffa-afe8-3ad858c82350",
   "metadata": {},
   "outputs": [
    {
     "data": {
      "text/plain": [
       "1"
      ]
     },
     "execution_count": 15,
     "metadata": {},
     "output_type": "execute_result"
    }
   ],
   "source": [
    "a + (b - c)"
   ]
  },
  {
   "cell_type": "code",
   "execution_count": 16,
   "id": "2826ba3f-c2d6-430e-961a-d3fa8632b82f",
   "metadata": {},
   "outputs": [
    {
     "data": {
      "text/plain": [
       "20"
      ]
     },
     "execution_count": 16,
     "metadata": {},
     "output_type": "execute_result"
    }
   ],
   "source": [
    "(a + b) * c"
   ]
  },
  {
   "cell_type": "code",
   "execution_count": 17,
   "id": "41398645-dd9d-47d0-99e3-fdb469e2e769",
   "metadata": {},
   "outputs": [
    {
     "data": {
      "text/plain": [
       "14"
      ]
     },
     "execution_count": 17,
     "metadata": {},
     "output_type": "execute_result"
    }
   ],
   "source": [
    "a + (b * c)"
   ]
  },
  {
   "cell_type": "markdown",
   "id": "2f7c269e-e4c6-4ed1-a65b-7003399f546c",
   "metadata": {},
   "source": [
    "### 내장 자료형 함수\n",
    " - int()\n",
    " - bin()\n",
    " - oct()\n",
    " - hex()\n",
    " - flot()"
   ]
  },
  {
   "cell_type": "markdown",
   "id": "9627210a-99fa-4f65-b583-f31fc18a5bee",
   "metadata": {},
   "source": [
    "### 문자형 자료형 함수\n",
    " - str()"
   ]
  },
  {
   "cell_type": "code",
   "execution_count": 18,
   "id": "3979fab3-49b1-4fe1-9913-8466717ccbc9",
   "metadata": {},
   "outputs": [
    {
     "ename": "TypeError",
     "evalue": "can only concatenate str (not \"int\") to str",
     "output_type": "error",
     "traceback": [
      "\u001b[1;31m---------------------------------------------------------------------------\u001b[0m",
      "\u001b[1;31mTypeError\u001b[0m                                 Traceback (most recent call last)",
      "\u001b[1;32m~\\AppData\\Local\\Temp/ipykernel_724/1780756876.py\u001b[0m in \u001b[0;36m<module>\u001b[1;34m\u001b[0m\n\u001b[0;32m      1\u001b[0m \u001b[0ma\u001b[0m \u001b[1;33m=\u001b[0m \u001b[1;36m100\u001b[0m\u001b[1;33m\u001b[0m\u001b[1;33m\u001b[0m\u001b[0m\n\u001b[1;32m----> 2\u001b[1;33m \u001b[0mprint\u001b[0m\u001b[1;33m(\u001b[0m\u001b[1;34m\"안녕 난 \"\u001b[0m \u001b[1;33m+\u001b[0m \u001b[0ma\u001b[0m \u001b[1;33m+\u001b[0m\u001b[1;34m\"야!\"\u001b[0m\u001b[1;33m)\u001b[0m\u001b[1;33m\u001b[0m\u001b[1;33m\u001b[0m\u001b[0m\n\u001b[0m",
      "\u001b[1;31mTypeError\u001b[0m: can only concatenate str (not \"int\") to str"
     ]
    }
   ],
   "source": [
    "a = 100\n",
    "print(\"안녕 난 \" + a +\"야!\")"
   ]
  },
  {
   "cell_type": "code",
   "execution_count": 19,
   "id": "d93af3eb-f8e0-4651-abc9-c1eae4c330dc",
   "metadata": {},
   "outputs": [
    {
     "name": "stdout",
     "output_type": "stream",
     "text": [
      "안녕 난 100야!\n"
     ]
    }
   ],
   "source": [
    "a = 100\n",
    "print(\"안녕 난 \" + str(a) +\"야!\")"
   ]
  },
  {
   "cell_type": "markdown",
   "id": "cb3ac211-5339-491e-9ca0-4d49d9f3097b",
   "metadata": {},
   "source": [
    "## 복합대입연산자"
   ]
  },
  {
   "cell_type": "code",
   "execution_count": 26,
   "id": "45eab097-5c22-4bbe-917e-541550ce94ff",
   "metadata": {},
   "outputs": [],
   "source": [
    "a = 10"
   ]
  },
  {
   "cell_type": "code",
   "execution_count": 27,
   "id": "ca18ac55-cae7-4d8c-b5f6-192d862bae82",
   "metadata": {},
   "outputs": [
    {
     "data": {
      "text/plain": [
       "13"
      ]
     },
     "execution_count": 27,
     "metadata": {},
     "output_type": "execute_result"
    }
   ],
   "source": [
    "a = a + 3\n",
    "a"
   ]
  },
  {
   "cell_type": "code",
   "execution_count": 28,
   "id": "3797a513-4e8e-4cb4-9018-24c2cd245665",
   "metadata": {},
   "outputs": [
    {
     "data": {
      "text/plain": [
       "16"
      ]
     },
     "execution_count": 28,
     "metadata": {},
     "output_type": "execute_result"
    }
   ],
   "source": [
    "a += 3\n",
    "a"
   ]
  },
  {
   "cell_type": "code",
   "execution_count": 29,
   "id": "3005f2d1-f864-476e-ad5c-9e6bd7c74661",
   "metadata": {},
   "outputs": [],
   "source": [
    "a **= 10"
   ]
  },
  {
   "cell_type": "code",
   "execution_count": 31,
   "id": "37a88599-d3ae-42ac-b424-9e1067025b0d",
   "metadata": {},
   "outputs": [
    {
     "ename": "SyntaxError",
     "evalue": "'literal' is an illegal expression for augmented assignment (Temp/ipykernel_724/632958915.py, line 1)",
     "output_type": "error",
     "traceback": [
      "\u001b[1;36m  File \u001b[1;32m\"C:\\Users\\BIT\\AppData\\Local\\Temp/ipykernel_724/632958915.py\"\u001b[1;36m, line \u001b[1;32m1\u001b[0m\n\u001b[1;33m    10 **= 3\u001b[0m\n\u001b[1;37m    ^\u001b[0m\n\u001b[1;31mSyntaxError\u001b[0m\u001b[1;31m:\u001b[0m 'literal' is an illegal expression for augmented assignment\n"
     ]
    }
   ],
   "source": [
    "10 **= 3"
   ]
  },
  {
   "cell_type": "markdown",
   "id": "1670eeff-8e1a-450f-a7b2-81739f0a6831",
   "metadata": {},
   "source": [
    "# P100 동전 문제"
   ]
  },
  {
   "cell_type": "code",
   "execution_count": 38,
   "id": "1266f9e5-f8fa-4cc0-bcb1-c9a47a897099",
   "metadata": {},
   "outputs": [
    {
     "name": "stdin",
     "output_type": "stream",
     "text": [
      "교환할 돈은 얼마? 7777\n"
     ]
    },
    {
     "name": "stdout",
     "output_type": "stream",
     "text": [
      "\n",
      "500원짜리 ==> 15개\n",
      "100원짜리 ==> 2개\n",
      "50원짜리 ==> 1개\n",
      "10원짜리 ==> 2개\n",
      "바꾸지 못한 잔돈 ==> 7원 \n",
      "\n"
     ]
    }
   ],
   "source": [
    "## 변수 선언 부분 ##\n",
    "money, c500, c100, c50, c10 = 0, 0, 0, 0, 0\n",
    "\n",
    "## 메인 코드 부분 ##\n",
    "money = int(input(\"교환할 돈은 얼마?\"))\n",
    "\n",
    "c500 = money // 500\n",
    "money %= 500\n",
    "\n",
    "c100 = money // 100\n",
    "money %= 100\n",
    "\n",
    "c50 = money // 50\n",
    "money %= 50\n",
    "\n",
    "c10 = money // 10\n",
    "money %= 10\n",
    "\n",
    "print(\"\\n500원짜리 ==> %d개\" % c500)\n",
    "print(\"100원짜리 ==> %d개\" % c100)\n",
    "print(\"50원짜리 ==> %d개\" % c50)\n",
    "print(\"10원짜리 ==> %d개\" % c10)\n",
    "print(\"바꾸지 못한 잔돈 ==> %d원 \\n\" % money)"
   ]
  },
  {
   "cell_type": "markdown",
   "id": "6c7a4a3c-41e9-496b-a1c5-2881e6c4056e",
   "metadata": {},
   "source": [
    "## 관계 연산자"
   ]
  },
  {
   "cell_type": "code",
   "execution_count": 39,
   "id": "0078cdfa-37d3-476f-ad7c-25e362fe61ff",
   "metadata": {},
   "outputs": [
    {
     "data": {
      "text/plain": [
       "False"
      ]
     },
     "execution_count": 39,
     "metadata": {},
     "output_type": "execute_result"
    }
   ],
   "source": [
    "10 == 5"
   ]
  },
  {
   "cell_type": "code",
   "execution_count": 40,
   "id": "c68b8421-220d-463c-97c3-2b4086c89445",
   "metadata": {},
   "outputs": [
    {
     "data": {
      "text/plain": [
       "True"
      ]
     },
     "execution_count": 40,
     "metadata": {},
     "output_type": "execute_result"
    }
   ],
   "source": [
    "10 == 10"
   ]
  },
  {
   "cell_type": "code",
   "execution_count": 41,
   "id": "7a010dcd-cd93-4579-ab52-791a086397f6",
   "metadata": {},
   "outputs": [
    {
     "data": {
      "text/plain": [
       "False"
      ]
     },
     "execution_count": 41,
     "metadata": {},
     "output_type": "execute_result"
    }
   ],
   "source": [
    "10 < 5"
   ]
  },
  {
   "cell_type": "code",
   "execution_count": 42,
   "id": "48591414-3e91-4eea-933c-cbe8bc003274",
   "metadata": {},
   "outputs": [
    {
     "data": {
      "text/plain": [
       "True"
      ]
     },
     "execution_count": 42,
     "metadata": {},
     "output_type": "execute_result"
    }
   ],
   "source": [
    "10> 5"
   ]
  },
  {
   "cell_type": "code",
   "execution_count": 43,
   "id": "8a284d6b-f310-4367-af5e-4437455110cb",
   "metadata": {},
   "outputs": [
    {
     "name": "stdout",
     "output_type": "stream",
     "text": [
      "5보다 크다\n"
     ]
    }
   ],
   "source": [
    "if 10 > 5 :\n",
    "    print(\"5보다 크다\")"
   ]
  },
  {
   "cell_type": "code",
   "execution_count": 44,
   "id": "9ff07a03-bcc4-407d-80c3-43147988796a",
   "metadata": {},
   "outputs": [
    {
     "data": {
      "text/plain": [
       "True"
      ]
     },
     "execution_count": 44,
     "metadata": {},
     "output_type": "execute_result"
    }
   ],
   "source": [
    "10 != 5"
   ]
  },
  {
   "cell_type": "code",
   "execution_count": 45,
   "id": "92feea7e-ce21-4b60-a175-6449e2c3c482",
   "metadata": {},
   "outputs": [
    {
     "data": {
      "text/plain": [
       "False"
      ]
     },
     "execution_count": 45,
     "metadata": {},
     "output_type": "execute_result"
    }
   ],
   "source": [
    "10 != 10"
   ]
  },
  {
   "cell_type": "code",
   "execution_count": 46,
   "id": "8a7ab6e3-e3df-4a7f-84f7-23eaec776af7",
   "metadata": {},
   "outputs": [],
   "source": [
    "a = 99"
   ]
  },
  {
   "cell_type": "code",
   "execution_count": 47,
   "id": "9e9b677c-2fdc-4559-ac71-dac0d45eafaa",
   "metadata": {},
   "outputs": [
    {
     "data": {
      "text/plain": [
       "False"
      ]
     },
     "execution_count": 47,
     "metadata": {},
     "output_type": "execute_result"
    }
   ],
   "source": [
    "# 논리곱\n",
    "a > 100"
   ]
  },
  {
   "cell_type": "code",
   "execution_count": 48,
   "id": "0aee9f47-d740-4738-b38a-eedbc5d8095f",
   "metadata": {},
   "outputs": [
    {
     "data": {
      "text/plain": [
       "False"
      ]
     },
     "execution_count": 48,
     "metadata": {},
     "output_type": "execute_result"
    }
   ],
   "source": [
    "# a가 100보다 크고 200보다 작은거!!!\n",
    "(a >100) and (a < 200)"
   ]
  },
  {
   "cell_type": "code",
   "execution_count": 49,
   "id": "74854b0a-b1bb-4278-b749-486886b610c9",
   "metadata": {},
   "outputs": [
    {
     "data": {
      "text/plain": [
       "True"
      ]
     },
     "execution_count": 49,
     "metadata": {},
     "output_type": "execute_result"
    }
   ],
   "source": [
    "# a가 100보다 크거나 200보다 작은거!!!\n",
    "(a >100) or (a < 200)"
   ]
  },
  {
   "cell_type": "code",
   "execution_count": 50,
   "id": "d061931e-c53b-4913-9961-1bfd2c5e8574",
   "metadata": {},
   "outputs": [
    {
     "data": {
      "text/plain": [
       "False"
      ]
     },
     "execution_count": 50,
     "metadata": {},
     "output_type": "execute_result"
    }
   ],
   "source": [
    "# 반대!\n",
    "not True"
   ]
  },
  {
   "cell_type": "code",
   "execution_count": 51,
   "id": "fbc48a77-a4f7-4e4f-bb77-c55c3945ca96",
   "metadata": {},
   "outputs": [
    {
     "data": {
      "text/plain": [
       "True"
      ]
     },
     "execution_count": 51,
     "metadata": {},
     "output_type": "execute_result"
    }
   ],
   "source": [
    "not (a > 100)"
   ]
  },
  {
   "cell_type": "markdown",
   "id": "a2263fb4-c246-4dec-879f-0785f335e9a4",
   "metadata": {},
   "source": [
    "## 비트 연산자"
   ]
  },
  {
   "cell_type": "code",
   "execution_count": 52,
   "id": "d828efe2-35a9-4b7f-9120-c499a7de2511",
   "metadata": {},
   "outputs": [],
   "source": [
    "# 비트 논리연산"
   ]
  },
  {
   "cell_type": "code",
   "execution_count": 53,
   "id": "3b371c4c-e216-4e10-8834-ad73d52a97be",
   "metadata": {},
   "outputs": [
    {
     "data": {
      "text/plain": [
       "2"
      ]
     },
     "execution_count": 53,
     "metadata": {},
     "output_type": "execute_result"
    }
   ],
   "source": [
    "10 & 7"
   ]
  },
  {
   "cell_type": "code",
   "execution_count": 54,
   "id": "51b04f1c-61aa-4810-bc4a-e7df875b1da5",
   "metadata": {},
   "outputs": [
    {
     "data": {
      "text/plain": [
       "('0b1010', '0b111')"
      ]
     },
     "execution_count": 54,
     "metadata": {},
     "output_type": "execute_result"
    }
   ],
   "source": [
    "bin(10), bin(7)"
   ]
  },
  {
   "cell_type": "code",
   "execution_count": 55,
   "id": "398cefd0-eceb-4203-9db2-e0a8cf4e4ba1",
   "metadata": {},
   "outputs": [
    {
     "data": {
      "text/plain": [
       "'0b10'"
      ]
     },
     "execution_count": 55,
     "metadata": {},
     "output_type": "execute_result"
    }
   ],
   "source": [
    "bin(10 & 7)"
   ]
  },
  {
   "cell_type": "code",
   "execution_count": 56,
   "id": "60633fa3-97e8-4033-bd6c-e261cb796527",
   "metadata": {},
   "outputs": [
    {
     "data": {
      "text/plain": [
       "0"
      ]
     },
     "execution_count": 56,
     "metadata": {},
     "output_type": "execute_result"
    }
   ],
   "source": [
    "2 & 1"
   ]
  },
  {
   "cell_type": "code",
   "execution_count": 57,
   "id": "39f5c6f1-57ff-4093-b9bd-d3eb30ad8172",
   "metadata": {},
   "outputs": [
    {
     "data": {
      "text/plain": [
       "'0b0'"
      ]
     },
     "execution_count": 57,
     "metadata": {},
     "output_type": "execute_result"
    }
   ],
   "source": [
    "bin(2 & 1)"
   ]
  },
  {
   "cell_type": "code",
   "execution_count": 58,
   "id": "8ac86296-0ca9-4db5-8c69-5eb7262ee630",
   "metadata": {},
   "outputs": [
    {
     "data": {
      "text/plain": [
       "('0b1111011', '0b111001000')"
      ]
     },
     "execution_count": 58,
     "metadata": {},
     "output_type": "execute_result"
    }
   ],
   "source": [
    "bin(123), bin(456)"
   ]
  },
  {
   "cell_type": "code",
   "execution_count": 59,
   "id": "4633dfbf-8fb2-490b-8d4e-4cd7e62a4849",
   "metadata": {},
   "outputs": [
    {
     "data": {
      "text/plain": [
       "72"
      ]
     },
     "execution_count": 59,
     "metadata": {},
     "output_type": "execute_result"
    }
   ],
   "source": [
    "123 & 456"
   ]
  },
  {
   "cell_type": "code",
   "execution_count": 60,
   "id": "6247b5ef-d8c8-4916-a5df-1e1ea2cf6949",
   "metadata": {},
   "outputs": [
    {
     "data": {
      "text/plain": [
       "'0b1001000'"
      ]
     },
     "execution_count": 60,
     "metadata": {},
     "output_type": "execute_result"
    }
   ],
   "source": [
    "bin(123 &456)"
   ]
  },
  {
   "cell_type": "code",
   "execution_count": 61,
   "id": "ad73e63c-e034-4698-8460-8f65d58132c4",
   "metadata": {},
   "outputs": [
    {
     "data": {
      "text/plain": [
       "'0b10'"
      ]
     },
     "execution_count": 61,
     "metadata": {},
     "output_type": "execute_result"
    }
   ],
   "source": [
    "bin(2)"
   ]
  },
  {
   "cell_type": "code",
   "execution_count": 64,
   "id": "6db525c4-437c-4252-ad15-b3072f493e02",
   "metadata": {},
   "outputs": [
    {
     "data": {
      "text/plain": [
       "-3"
      ]
     },
     "execution_count": 64,
     "metadata": {},
     "output_type": "execute_result"
    }
   ],
   "source": [
    "~2"
   ]
  },
  {
   "cell_type": "code",
   "execution_count": 65,
   "id": "166ea363-2588-49bf-b928-2a086b5ccbcc",
   "metadata": {},
   "outputs": [
    {
     "data": {
      "text/plain": [
       "'-0b11'"
      ]
     },
     "execution_count": 65,
     "metadata": {},
     "output_type": "execute_result"
    }
   ],
   "source": [
    "bin(~2)"
   ]
  },
  {
   "cell_type": "markdown",
   "id": "8fd44f5f-1d54-4563-9107-0149665a6715",
   "metadata": {},
   "source": [
    "논리합"
   ]
  },
  {
   "cell_type": "code",
   "execution_count": 66,
   "id": "c0138ea4-4c77-4f6a-ab7a-98912f265c44",
   "metadata": {},
   "outputs": [
    {
     "data": {
      "text/plain": [
       "('0b1010', '0b111')"
      ]
     },
     "execution_count": 66,
     "metadata": {},
     "output_type": "execute_result"
    }
   ],
   "source": [
    "bin(10), bin(7)"
   ]
  },
  {
   "cell_type": "code",
   "execution_count": 67,
   "id": "5caa6e27-4b0c-48a1-af14-b1ff6caf1a86",
   "metadata": {},
   "outputs": [
    {
     "data": {
      "text/plain": [
       "15"
      ]
     },
     "execution_count": 67,
     "metadata": {},
     "output_type": "execute_result"
    }
   ],
   "source": [
    "10 | 7"
   ]
  },
  {
   "cell_type": "code",
   "execution_count": 68,
   "id": "4aa1191b-dc08-43a3-8b92-3578fe54e97a",
   "metadata": {},
   "outputs": [
    {
     "data": {
      "text/plain": [
       "'0b1111'"
      ]
     },
     "execution_count": 68,
     "metadata": {},
     "output_type": "execute_result"
    }
   ],
   "source": [
    "bin(10| 7)"
   ]
  },
  {
   "cell_type": "markdown",
   "id": "48e2f9d8-7cb6-4b21-a93e-1e95b665af3e",
   "metadata": {},
   "source": [
    "배타적 논리합"
   ]
  },
  {
   "cell_type": "code",
   "execution_count": 74,
   "id": "3d9fbe71-71e2-4755-bf3d-5116ca7f5f0b",
   "metadata": {},
   "outputs": [
    {
     "data": {
      "text/plain": [
       "('0b1010', '0b111')"
      ]
     },
     "execution_count": 74,
     "metadata": {},
     "output_type": "execute_result"
    }
   ],
   "source": [
    "bin(10), bin(7)"
   ]
  },
  {
   "cell_type": "code",
   "execution_count": 75,
   "id": "5fcf19f5-219b-443f-9bf4-8e7674418085",
   "metadata": {},
   "outputs": [
    {
     "data": {
      "text/plain": [
       "'0b1101'"
      ]
     },
     "execution_count": 75,
     "metadata": {},
     "output_type": "execute_result"
    }
   ],
   "source": [
    "bin(10 ^ 7)"
   ]
  },
  {
   "cell_type": "code",
   "execution_count": 76,
   "id": "4f373255-664c-4014-9bbe-1966eb85cc5e",
   "metadata": {},
   "outputs": [
    {
     "data": {
      "text/plain": [
       "13"
      ]
     },
     "execution_count": 76,
     "metadata": {},
     "output_type": "execute_result"
    }
   ],
   "source": [
    "10 ^ 7"
   ]
  },
  {
   "cell_type": "markdown",
   "id": "acb1d4cf-83e9-477f-a0bf-d36979f1016e",
   "metadata": {},
   "source": [
    "Masking 기법 : 비트 기반 연산!!!\n",
    "\n",
    "```\n",
    "\n",
    "0010 & 11000\n",
    "```"
   ]
  },
  {
   "cell_type": "markdown",
   "id": "223c416d-16f1-4e70-b240-40a83045aa79",
   "metadata": {},
   "source": [
    "## 쉬프트 연산자\n",
    "\n",
    ">>\n",
    "<<"
   ]
  },
  {
   "cell_type": "code",
   "execution_count": 77,
   "id": "55d61f6a-accc-42f6-b508-abca38a9335f",
   "metadata": {},
   "outputs": [
    {
     "data": {
      "text/plain": [
       "'0b1010'"
      ]
     },
     "execution_count": 77,
     "metadata": {},
     "output_type": "execute_result"
    }
   ],
   "source": [
    "a = 10; bin(a)"
   ]
  },
  {
   "cell_type": "code",
   "execution_count": 78,
   "id": "9dee89e9-9b77-4e01-99cc-bdeffcdf589d",
   "metadata": {},
   "outputs": [
    {
     "data": {
      "text/plain": [
       "20"
      ]
     },
     "execution_count": 78,
     "metadata": {},
     "output_type": "execute_result"
    }
   ],
   "source": [
    "a << 1  #1칸"
   ]
  },
  {
   "cell_type": "code",
   "execution_count": 79,
   "id": "7a58dcc1-1a09-4316-a924-1bbcc2635b7c",
   "metadata": {},
   "outputs": [
    {
     "data": {
      "text/plain": [
       "'0b10100'"
      ]
     },
     "execution_count": 79,
     "metadata": {},
     "output_type": "execute_result"
    }
   ],
   "source": [
    "bin(a << 1)"
   ]
  },
  {
   "cell_type": "code",
   "execution_count": 82,
   "id": "78a57b7c-6f9d-4b3f-8186-113b1df31465",
   "metadata": {},
   "outputs": [
    {
     "data": {
      "text/plain": [
       "320"
      ]
     },
     "execution_count": 82,
     "metadata": {},
     "output_type": "execute_result"
    }
   ],
   "source": [
    "a << 2; a << 3; a << 4; a << 5"
   ]
  },
  {
   "cell_type": "code",
   "execution_count": 81,
   "id": "3e365798-f38c-48f6-8cfb-21198ff39961",
   "metadata": {},
   "outputs": [
    {
     "data": {
      "text/plain": [
       "'0b101'"
      ]
     },
     "execution_count": 81,
     "metadata": {},
     "output_type": "execute_result"
    }
   ],
   "source": [
    "# >>\n",
    "bin (a >> 1)"
   ]
  },
  {
   "cell_type": "code",
   "execution_count": 92,
   "id": "d6dad0cd-10db-453d-b9f1-74871d88efe3",
   "metadata": {},
   "outputs": [
    {
     "name": "stdin",
     "output_type": "stream",
     "text": [
      "연도를 입력하세요: 2022\n"
     ]
    },
    {
     "name": "stdout",
     "output_type": "stream",
     "text": [
      "2022년은 윤년이 아닙니다.\n"
     ]
    }
   ],
   "source": [
    "year = 0\n",
    "if __name__ == \"__main__\" :\n",
    "    year = int(input('연도를 입력하세요:'))\n",
    "    if ((year % 4 == 0) and (year % 100 != 0)) or (year % 400 == 0) : \n",
    "        print(\"%d년은 윤년입니다.\" % year)\n",
    "    else :\n",
    "        print(\"%d년은 윤년이 아닙니다.\" % year)"
   ]
  },
  {
   "cell_type": "code",
   "execution_count": null,
   "id": "06d64b56-0433-49ca-9c88-ee327e3287fc",
   "metadata": {},
   "outputs": [],
   "source": []
  },
  {
   "cell_type": "code",
   "execution_count": null,
   "id": "47a6f4fe-a420-47cd-8dab-361f34ca9cf0",
   "metadata": {},
   "outputs": [],
   "source": []
  },
  {
   "cell_type": "code",
   "execution_count": null,
   "id": "1fa6fa13-1fb9-4cb0-a6ea-3b2c0820cf95",
   "metadata": {},
   "outputs": [],
   "source": []
  },
  {
   "cell_type": "code",
   "execution_count": null,
   "id": "0188c7a0-8c32-4d85-aa28-adcba7935b63",
   "metadata": {},
   "outputs": [],
   "source": []
  },
  {
   "cell_type": "code",
   "execution_count": null,
   "id": "2f814f3a-8938-4f79-859c-58666ead4004",
   "metadata": {},
   "outputs": [],
   "source": []
  },
  {
   "cell_type": "code",
   "execution_count": null,
   "id": "a056ddb0-6220-412d-9eda-a5a9e78a2eb7",
   "metadata": {},
   "outputs": [],
   "source": []
  },
  {
   "cell_type": "code",
   "execution_count": null,
   "id": "eebbc76c-904b-4c83-820c-7db07a4ab9c0",
   "metadata": {},
   "outputs": [],
   "source": []
  },
  {
   "cell_type": "code",
   "execution_count": null,
   "id": "a73bd509-7d1f-402a-adea-bd150bd72b4e",
   "metadata": {},
   "outputs": [],
   "source": []
  },
  {
   "cell_type": "code",
   "execution_count": null,
   "id": "dbea9e50-338a-46fc-99a3-4869f7e2785d",
   "metadata": {},
   "outputs": [],
   "source": []
  }
 ],
 "metadata": {
  "kernelspec": {
   "display_name": "Python 3 (ipykernel)",
   "language": "python",
   "name": "python3"
  },
  "language_info": {
   "codemirror_mode": {
    "name": "ipython",
    "version": 3
   },
   "file_extension": ".py",
   "mimetype": "text/x-python",
   "name": "python",
   "nbconvert_exporter": "python",
   "pygments_lexer": "ipython3",
   "version": "3.9.7"
  }
 },
 "nbformat": 4,
 "nbformat_minor": 5
}
